{
 "cells": [
  {
   "cell_type": "code",
   "execution_count": 1,
   "metadata": {
    "scrolled": false
   },
   "outputs": [
    {
     "name": "stderr",
     "output_type": "stream",
     "text": [
      "C:\\Users\\mltla\\Anaconda3\\lib\\site-packages\\numpy\\_distributor_init.py:32: UserWarning: loaded more than 1 DLL from .libs:\n",
      "C:\\Users\\mltla\\Anaconda3\\lib\\site-packages\\numpy\\.libs\\libopenblas.NOIJJG62EMASZI6NYURL6JBKM4EVBGM7.gfortran-win_amd64.dll\n",
      "C:\\Users\\mltla\\Anaconda3\\lib\\site-packages\\numpy\\.libs\\libopenblas.PYQHXLVVQ7VESDPUVUADXEVJOBGHJPAY.gfortran-win_amd64.dll\n",
      "  stacklevel=1)\n",
      "WARNING (theano.configdefaults): g++ not available, if using conda: `conda install m2w64-toolchain`\n",
      "WARNING (theano.configdefaults): g++ not detected ! Theano will be unable to execute optimized C-implementations (for both CPU and GPU) and will default to Python implementations. Performance will be severely degraded. To remove this warning, set Theano flags cxx to an empty string.\n",
      "WARNING (theano.tensor.blas): Using NumPy C-API based implementation for BLAS functions.\n"
     ]
    },
    {
     "data": {
      "text/html": [
       "<div>\n",
       "<style scoped>\n",
       "    .dataframe tbody tr th:only-of-type {\n",
       "        vertical-align: middle;\n",
       "    }\n",
       "\n",
       "    .dataframe tbody tr th {\n",
       "        vertical-align: top;\n",
       "    }\n",
       "\n",
       "    .dataframe thead th {\n",
       "        text-align: right;\n",
       "    }\n",
       "</style>\n",
       "<table border=\"1\" class=\"dataframe\">\n",
       "  <thead>\n",
       "    <tr style=\"text-align: right;\">\n",
       "      <th></th>\n",
       "      <th>sessionid</th>\n",
       "      <th>phoneids</th>\n",
       "      <th>prolificVersion</th>\n",
       "      <th>Completion</th>\n",
       "      <th>PHQ-Q1</th>\n",
       "      <th>PHQ-Q2</th>\n",
       "      <th>PHQ-Q3</th>\n",
       "      <th>PHQ-Q4</th>\n",
       "      <th>PHQ-Q5</th>\n",
       "      <th>PHQ-Q6</th>\n",
       "      <th>...</th>\n",
       "      <th>GAD-Q6</th>\n",
       "      <th>GAD-Q7</th>\n",
       "      <th>GAD-total</th>\n",
       "      <th>Gender</th>\n",
       "      <th>Age</th>\n",
       "      <th>studentStatus</th>\n",
       "      <th>depressionTreatment</th>\n",
       "      <th>Covid</th>\n",
       "      <th>WFH</th>\n",
       "      <th>Race/Ethnicity</th>\n",
       "    </tr>\n",
       "  </thead>\n",
       "  <tbody>\n",
       "    <tr>\n",
       "      <th>0</th>\n",
       "      <td>00568a204761c742EQ4JETCS0</td>\n",
       "      <td>00568a204761c742</td>\n",
       "      <td>control</td>\n",
       "      <td>complete</td>\n",
       "      <td>0</td>\n",
       "      <td>0</td>\n",
       "      <td>1</td>\n",
       "      <td>1</td>\n",
       "      <td>0</td>\n",
       "      <td>0</td>\n",
       "      <td>...</td>\n",
       "      <td>0</td>\n",
       "      <td>0</td>\n",
       "      <td>0</td>\n",
       "      <td>Woman</td>\n",
       "      <td>24-39</td>\n",
       "      <td>No, I am not a student</td>\n",
       "      <td>No</td>\n",
       "      <td>No/I don't know</td>\n",
       "      <td>Yes - Part Time</td>\n",
       "      <td>Hispanic/Latino</td>\n",
       "    </tr>\n",
       "    <tr>\n",
       "      <th>1</th>\n",
       "      <td>01ddd948426a2009PRSU5PFDZ</td>\n",
       "      <td>01ddd948426a2009</td>\n",
       "      <td>stereotype threat</td>\n",
       "      <td>complete</td>\n",
       "      <td>0</td>\n",
       "      <td>0</td>\n",
       "      <td>1</td>\n",
       "      <td>1</td>\n",
       "      <td>1</td>\n",
       "      <td>0</td>\n",
       "      <td>...</td>\n",
       "      <td>0</td>\n",
       "      <td>0</td>\n",
       "      <td>1</td>\n",
       "      <td>Man</td>\n",
       "      <td>40-55</td>\n",
       "      <td>No, I am not a student</td>\n",
       "      <td>Yes</td>\n",
       "      <td>Yes</td>\n",
       "      <td>Yes - Full Time</td>\n",
       "      <td>White/Caucasian</td>\n",
       "    </tr>\n",
       "    <tr>\n",
       "      <th>2</th>\n",
       "      <td>023ffde796006c6e21Q5B0HU6</td>\n",
       "      <td>023ffde796006c6e</td>\n",
       "      <td>control</td>\n",
       "      <td>complete</td>\n",
       "      <td>0</td>\n",
       "      <td>0</td>\n",
       "      <td>0</td>\n",
       "      <td>0</td>\n",
       "      <td>0</td>\n",
       "      <td>0</td>\n",
       "      <td>...</td>\n",
       "      <td>1</td>\n",
       "      <td>0</td>\n",
       "      <td>2</td>\n",
       "      <td>Man</td>\n",
       "      <td>24-39</td>\n",
       "      <td>Yes, I am a graduate student</td>\n",
       "      <td>No</td>\n",
       "      <td>No/I don't know</td>\n",
       "      <td>No - Not At All</td>\n",
       "      <td>White/Caucasian</td>\n",
       "    </tr>\n",
       "    <tr>\n",
       "      <th>3</th>\n",
       "      <td>035b89739144c3ec2L01TM7RR</td>\n",
       "      <td>035b89739144c3ec</td>\n",
       "      <td>control</td>\n",
       "      <td>complete</td>\n",
       "      <td>3</td>\n",
       "      <td>3</td>\n",
       "      <td>3</td>\n",
       "      <td>3</td>\n",
       "      <td>3</td>\n",
       "      <td>3</td>\n",
       "      <td>...</td>\n",
       "      <td>3</td>\n",
       "      <td>3</td>\n",
       "      <td>20</td>\n",
       "      <td>Man</td>\n",
       "      <td>24-39</td>\n",
       "      <td>No, I am not a student</td>\n",
       "      <td>Yes</td>\n",
       "      <td>No/I don't know</td>\n",
       "      <td>No - Not At All</td>\n",
       "      <td>White/Caucasian</td>\n",
       "    </tr>\n",
       "    <tr>\n",
       "      <th>4</th>\n",
       "      <td>03d71aee534509beGGQCID86U</td>\n",
       "      <td>03d71aee534509be</td>\n",
       "      <td>control</td>\n",
       "      <td>complete</td>\n",
       "      <td>2</td>\n",
       "      <td>1</td>\n",
       "      <td>2</td>\n",
       "      <td>3</td>\n",
       "      <td>3</td>\n",
       "      <td>2</td>\n",
       "      <td>...</td>\n",
       "      <td>3</td>\n",
       "      <td>1</td>\n",
       "      <td>9</td>\n",
       "      <td>Woman</td>\n",
       "      <td>18-23</td>\n",
       "      <td>No, I am not a student</td>\n",
       "      <td>Yes</td>\n",
       "      <td>No/I don't know</td>\n",
       "      <td>No - Not At All</td>\n",
       "      <td>White/Caucasian</td>\n",
       "    </tr>\n",
       "  </tbody>\n",
       "</table>\n",
       "<p>5 rows × 29 columns</p>\n",
       "</div>"
      ],
      "text/plain": [
       "                   sessionid          phoneids    prolificVersion Completion  \\\n",
       "0  00568a204761c742EQ4JETCS0  00568a204761c742            control   complete   \n",
       "1  01ddd948426a2009PRSU5PFDZ  01ddd948426a2009  stereotype threat   complete   \n",
       "2  023ffde796006c6e21Q5B0HU6  023ffde796006c6e            control   complete   \n",
       "3  035b89739144c3ec2L01TM7RR  035b89739144c3ec            control   complete   \n",
       "4  03d71aee534509beGGQCID86U  03d71aee534509be            control   complete   \n",
       "\n",
       "   PHQ-Q1  PHQ-Q2  PHQ-Q3  PHQ-Q4  PHQ-Q5  PHQ-Q6  ...  GAD-Q6  GAD-Q7  \\\n",
       "0       0       0       1       1       0       0  ...       0       0   \n",
       "1       0       0       1       1       1       0  ...       0       0   \n",
       "2       0       0       0       0       0       0  ...       1       0   \n",
       "3       3       3       3       3       3       3  ...       3       3   \n",
       "4       2       1       2       3       3       2  ...       3       1   \n",
       "\n",
       "   GAD-total  Gender    Age                 studentStatus  \\\n",
       "0          0   Woman  24-39        No, I am not a student   \n",
       "1          1     Man  40-55        No, I am not a student   \n",
       "2          2     Man  24-39  Yes, I am a graduate student   \n",
       "3         20     Man  24-39        No, I am not a student   \n",
       "4          9   Woman  18-23        No, I am not a student   \n",
       "\n",
       "   depressionTreatment            Covid              WFH   Race/Ethnicity  \n",
       "0                   No  No/I don't know  Yes - Part Time  Hispanic/Latino  \n",
       "1                  Yes              Yes  Yes - Full Time  White/Caucasian  \n",
       "2                   No  No/I don't know  No - Not At All  White/Caucasian  \n",
       "3                  Yes  No/I don't know  No - Not At All  White/Caucasian  \n",
       "4                  Yes  No/I don't know  No - Not At All  White/Caucasian  \n",
       "\n",
       "[5 rows x 29 columns]"
      ]
     },
     "execution_count": 1,
     "metadata": {},
     "output_type": "execute_result"
    }
   ],
   "source": [
    "#for paper Impact of Stereotype Threat on Digitally Administered Depression Screening Instruments\n",
    "\n",
    "import pandas as pd\n",
    "import scipy.stats\n",
    "import numpy as np\n",
    "#import best\n",
    "import matplotlib.pyplot as plt\n",
    "import pymc3 as pm\n",
    "\n",
    "data = pd.read_csv(\"dataFinal.csv\")\n",
    "data.head()"
   ]
  },
  {
   "cell_type": "code",
   "execution_count": 2,
   "metadata": {},
   "outputs": [],
   "source": [
    "man = data[(data.Gender == 'Man') & (data.depressionTreatment == 'Yes')]\n",
    "manST = man[man.prolificVersion == 'stereotype threat']\n",
    "manC = man[man.prolificVersion == 'control']\n",
    "woman = data[(data.Gender == 'Woman') & (data.depressionTreatment == 'Yes')]\n",
    "womanST = woman[woman.prolificVersion == 'stereotype threat']\n",
    "womanC = woman[woman.prolificVersion == 'control']\n",
    "other = data[(data.Gender == 'Other') & (data.depressionTreatment == 'Yes')]\n",
    "otherST = other[other.prolificVersion == 'stereotype threat']\n",
    "otherC = other[other.prolificVersion == 'control']"
   ]
  },
  {
   "cell_type": "code",
   "execution_count": 3,
   "metadata": {},
   "outputs": [],
   "source": [
    "manST9 = list(map(int, manST[\"PHQ-Total\"].to_numpy()))\n",
    "manC9 = list(map(int, manC[\"PHQ-Total\"].to_numpy()))\n",
    "womanST9 = list(map(int, womanST[\"PHQ-Total\"].to_numpy()))\n",
    "womanC9 = list(map(int, womanC[\"PHQ-Total\"].to_numpy()))\n",
    "otherST9 = list(map(int, otherST[\"PHQ-Total\"].to_numpy()))\n",
    "otherC9 = list(map(int, otherC[\"PHQ-Total\"].to_numpy()))"
   ]
  },
  {
   "cell_type": "code",
   "execution_count": 4,
   "metadata": {},
   "outputs": [
    {
     "name": "stdout",
     "output_type": "stream",
     "text": [
      "men\n",
      "28\n",
      "36\n",
      "women\n",
      "54\n",
      "49\n",
      "other\n",
      "4\n",
      "5\n"
     ]
    }
   ],
   "source": [
    "print(\"men\")\n",
    "print(len(manST9))\n",
    "print(len(manC9))\n",
    "\n",
    "print(\"women\")\n",
    "print(len(womanST9))\n",
    "print(len(womanC9))\n",
    "\n",
    "print(\"other\")\n",
    "print(len(otherST9))\n",
    "print(len(otherC9))"
   ]
  },
  {
   "cell_type": "code",
   "execution_count": 72,
   "metadata": {},
   "outputs": [
    {
     "name": "stdout",
     "output_type": "stream",
     "text": [
      "men\n",
      "12.285714285714286\n",
      "6.363159271805739\n",
      "13.472222222222221\n",
      "7.372946460281184\n",
      "Ttest_indResult(statistic=-0.6669285254883508, pvalue=0.5072923179788572)\n",
      "women\n",
      "15.703703703703704\n",
      "6.723727002273173\n",
      "13.142857142857142\n",
      "5.2876444352347844\n",
      "Ttest_indResult(statistic=2.112935820267334, pvalue=0.03707103706709777)\n",
      "other\n",
      "15.0\n",
      "7.44983221287567\n",
      "18.2\n",
      "1.9390719429665315\n",
      "Ttest_indResult(statistic=-0.813325708440558, pvalue=0.4428122302946397)\n"
     ]
    }
   ],
   "source": [
    "print(\"men\")\n",
    "print(sum(manST9)/len(manST9))\n",
    "print(np.std(manST9))\n",
    "print(sum(manC9)/len(manC9))\n",
    "print(np.std(manC9))\n",
    "print(scipy.stats.ttest_ind(manST9, manC9))\n",
    "print(\"women\")\n",
    "print(sum(womanST9)/len(womanST9))\n",
    "print(np.std(womanST9))\n",
    "print(sum(womanC9)/len(womanC9))\n",
    "print(np.std(womanC9))\n",
    "print(scipy.stats.ttest_ind(womanST9, womanC9))\n",
    "print(\"other\")\n",
    "print(sum(otherST9)/len(otherST9))\n",
    "print(np.std(otherST9))\n",
    "print(sum(otherC9)/len(otherC9))\n",
    "print(np.std(otherC9))\n",
    "print(scipy.stats.ttest_ind(otherST9, otherC9))"
   ]
  },
  {
   "cell_type": "code",
   "execution_count": 34,
   "metadata": {},
   "outputs": [
    {
     "data": {
      "image/png": "[encoded data removed]",
      "text/plain": [
       "<Figure size 432x288 with 1 Axes>"
      ]
     },
     "metadata": {
      "needs_background": "light"
     },
     "output_type": "display_data"
    }
   ],
   "source": [
    "plt.hist(manST9, alpha = 0.5, label = \"ST\")\n",
    "plt.hist(manC9, alpha = 0.5, label = \"C\")\n",
    "plt.legend()\n",
    "plt.title(\"Men PHQ-9 Distribution\")\n",
    "plt.show()"
   ]
  },
  {
   "cell_type": "code",
   "execution_count": 35,
   "metadata": {
    "scrolled": true
   },
   "outputs": [
    {
     "data": {
      "image/png": "[encoded data removed]",
      "text/plain": [
       "<Figure size 432x288 with 1 Axes>"
      ]
     },
     "metadata": {
      "needs_background": "light"
     },
     "output_type": "display_data"
    }
   ],
   "source": [
    "plt.hist(womanST9, alpha = 0.5, label = \"ST\")\n",
    "plt.hist(womanC9, alpha = 0.5, label = \"C\")\n",
    "plt.legend()\n",
    "plt.title(\"Women PHQ-9 Distribution\")\n",
    "plt.show()"
   ]
  },
  {
   "cell_type": "code",
   "execution_count": 36,
   "metadata": {},
   "outputs": [
    {
     "data": {
      "image/png": "[encoded data removed]",
      "text/plain": [
       "<Figure size 432x288 with 1 Axes>"
      ]
     },
     "metadata": {
      "needs_background": "light"
     },
     "output_type": "display_data"
    }
   ],
   "source": [
    "plt.hist(otherST9, alpha = 0.5, label = \"ST\")\n",
    "plt.hist(otherC9, alpha = 0.5, label = \"C\")\n",
    "plt.legend()\n",
    "plt.title(\"Other PHQ-9 Distribution\")\n",
    "plt.show()"
   ]
  },
  {
   "cell_type": "code",
   "execution_count": 37,
   "metadata": {},
   "outputs": [
    {
     "data": {
      "image/png": "[encoded data removed]",
      "text/plain": [
       "<Figure size 864x288 with 2 Axes>"
      ]
     },
     "metadata": {
      "needs_background": "light"
     },
     "output_type": "display_data"
    }
   ],
   "source": [
    "#https://docs.pymc.io/notebooks/BEST.html\n",
    "\n",
    "drug = manST9\n",
    "placebo = manC9\n",
    "\n",
    "y1 = np.array(drug)\n",
    "y2 = np.array(placebo)\n",
    "y = pd.DataFrame(\n",
    "    dict(value=np.r_[y1, y2], group=np.r_[[\"drug\"] * len(drug), [\"placebo\"] * len(placebo)])\n",
    ")\n",
    "\n",
    "y.hist(\"value\", by=\"group\", figsize=(12, 4));"
   ]
  },
  {
   "cell_type": "code",
   "execution_count": 38,
   "metadata": {},
   "outputs": [
    {
     "name": "stderr",
     "output_type": "stream",
     "text": [
      "C:\\Users\\mltla\\Anaconda3\\lib\\site-packages\\ipykernel_launcher.py:18: DeprecationWarning: The function `kdeplot` from PyMC3 is just an alias for `plot_kde` from ArviZ. Please switch to `pymc3.plot_kde` or `arviz.plot_kde`.\n"
     ]
    },
    {
     "data": {
      "image/png": "[encoded data removed]",
      "text/plain": [
       "<Figure size 432x288 with 1 Axes>"
      ]
     },
     "metadata": {
      "needs_background": "light"
     },
     "output_type": "display_data"
    }
   ],
   "source": [
    "μ_m = y.value.mean()\n",
    "μ_s = y.value.std() * 2\n",
    "\n",
    "with pm.Model() as model:\n",
    "    group1_mean = pm.Normal(\"group1_mean\", mu=μ_m, sd=μ_s)\n",
    "    group2_mean = pm.Normal(\"group2_mean\", mu=μ_m, sd=μ_s)\n",
    "    \n",
    "σ_low = 1\n",
    "σ_high = 10\n",
    "\n",
    "with model:\n",
    "    group1_std = pm.Uniform(\"group1_std\", lower=σ_low, upper=σ_high)\n",
    "    group2_std = pm.Uniform(\"group2_std\", lower=σ_low, upper=σ_high)\n",
    "    \n",
    "with model:\n",
    "    ν = pm.Exponential(\"ν_minus_one\", 1 / 29.0) + 1\n",
    "\n",
    "pm.kdeplot(np.random.exponential(30, size=10000), fill_kwargs={\"alpha\": 0.5});"
   ]
  },
  {
   "cell_type": "code",
   "execution_count": 39,
   "metadata": {},
   "outputs": [],
   "source": [
    "with model:\n",
    "    λ1 = group1_std ** -2\n",
    "    λ2 = group2_std ** -2\n",
    "\n",
    "    group1 = pm.StudentT(\"drug\", nu=ν, mu=group1_mean, lam=λ1, observed=y1)\n",
    "    group2 = pm.StudentT(\"placebo\", nu=ν, mu=group2_mean, lam=λ2, observed=y2)"
   ]
  },
  {
   "cell_type": "code",
   "execution_count": 40,
   "metadata": {},
   "outputs": [],
   "source": [
    "with model:\n",
    "    diff_of_means = pm.Deterministic(\"difference of means\", group1_mean - group2_mean)\n",
    "    diff_of_stds = pm.Deterministic(\"difference of stds\", group1_std - group2_std)\n",
    "    effect_size = pm.Deterministic(\n",
    "        \"effect size\", diff_of_means / np.sqrt((group1_std ** 2 + group2_std ** 2) / 2)\n",
    "    )"
   ]
  },
  {
   "cell_type": "code",
   "execution_count": 41,
   "metadata": {},
   "outputs": [
    {
     "name": "stderr",
     "output_type": "stream",
     "text": [
      "C:\\Users\\mltla\\Anaconda3\\lib\\site-packages\\ipykernel_launcher.py:2: FutureWarning: In v4.0, pm.sample will return an `arviz.InferenceData` object instead of a `MultiTrace` by default. You can pass return_inferencedata=True or return_inferencedata=False to be safe and silence this warning.\n",
      "  \n",
      "Auto-assigning NUTS sampler...\n",
      "Initializing NUTS using jitter+adapt_diag...\n",
      "C:\\Users\\mltla\\Anaconda3\\lib\\site-packages\\theano\\tensor\\elemwise.py:826: RuntimeWarning: divide by zero encountered in log\n",
      "  variables = ufunc(*ufunc_args, **ufunc_kwargs)\n",
      "C:\\Users\\mltla\\Anaconda3\\lib\\site-packages\\theano\\tensor\\elemwise.py:826: RuntimeWarning: invalid value encountered in multiply\n",
      "  variables = ufunc(*ufunc_args, **ufunc_kwargs)\n",
      "C:\\Users\\mltla\\Anaconda3\\lib\\site-packages\\theano\\tensor\\elemwise.py:826: RuntimeWarning: invalid value encountered in log\n",
      "  variables = ufunc(*ufunc_args, **ufunc_kwargs)\n",
      "Multiprocess sampling (4 chains in 4 jobs)\n",
      "NUTS: [ν_minus_one, group2_std, group1_std, group2_mean, group1_mean]\n"
     ]
    },
    {
     "data": {
      "text/html": [
       "\n",
       "    <div>\n",
       "        <style>\n",
       "            /* Turns off some styling */\n",
       "            progress {\n",
       "                /* gets rid of default border in Firefox and Opera. */\n",
       "                border: none;\n",
       "                /* Needs to be in here for Safari polyfill so background images work as expected. */\n",
       "                background-size: auto;\n",
       "            }\n",
       "            .progress-bar-interrupted, .progress-bar-interrupted::-webkit-progress-bar {\n",
       "                background: #F44336;\n",
       "            }\n",
       "        </style>\n",
       "      <progress value='12000' class='' max='12000' style='width:300px; height:20px; vertical-align: middle;'></progress>\n",
       "      100.00% [12000/12000 07:05<00:00 Sampling 4 chains, 0 divergences]\n",
       "    </div>\n",
       "    "
      ],
      "text/plain": [
       "<IPython.core.display.HTML object>"
      ]
     },
     "metadata": {},
     "output_type": "display_data"
    },
    {
     "name": "stderr",
     "output_type": "stream",
     "text": [
      "Sampling 4 chains for 1_000 tune and 2_000 draw iterations (4_000 + 8_000 draws total) took 446 seconds.\n"
     ]
    }
   ],
   "source": [
    "with model:\n",
    "    trace = pm.sample(2000)"
   ]
  },
  {
   "cell_type": "code",
   "execution_count": 42,
   "metadata": {},
   "outputs": [
    {
     "name": "stderr",
     "output_type": "stream",
     "text": [
      "C:\\Users\\mltla\\Anaconda3\\lib\\site-packages\\arviz\\data\\io_pymc3.py:100: FutureWarning: Using `from_pymc3` without the model will be deprecated in a future release. Not using the model will return less accurate and less useful results. Make sure you use the model argument or call from_pymc3 within a model context.\n",
      "  FutureWarning,\n"
     ]
    },
    {
     "data": {
      "image/png": "[encoded data removed]",
      "text/plain": [
       "<Figure size 1490.4x662.4 with 6 Axes>"
      ]
     },
     "metadata": {
      "needs_background": "light"
     },
     "output_type": "display_data"
    }
   ],
   "source": [
    "pm.plot_posterior(\n",
    "    trace,\n",
    "    var_names=[\"group1_mean\", \"group2_mean\", \"group1_std\", \"group2_std\", \"ν_minus_one\"],\n",
    "    color=\"#87ceeb\",\n",
    ");"
   ]
  },
  {
   "cell_type": "code",
   "execution_count": 43,
   "metadata": {},
   "outputs": [
    {
     "name": "stderr",
     "output_type": "stream",
     "text": [
      "C:\\Users\\mltla\\Anaconda3\\lib\\site-packages\\arviz\\data\\io_pymc3.py:100: FutureWarning: Using `from_pymc3` without the model will be deprecated in a future release. Not using the model will return less accurate and less useful results. Make sure you use the model argument or call from_pymc3 within a model context.\n",
      "  FutureWarning,\n"
     ]
    },
    {
     "data": {
      "image/png": "[encoded data removed]",
      "text/plain": [
       "<Figure size 1490.4x331.2 with 3 Axes>"
      ]
     },
     "metadata": {
      "needs_background": "light"
     },
     "output_type": "display_data"
    }
   ],
   "source": [
    "pm.plot_posterior(\n",
    "    trace,\n",
    "    var_names=[\"difference of means\", \"difference of stds\", \"effect size\"],\n",
    "    ref_val=0,\n",
    "    color=\"#87ceeb\",\n",
    ");"
   ]
  },
  {
   "cell_type": "code",
   "execution_count": 44,
   "metadata": {},
   "outputs": [
    {
     "name": "stderr",
     "output_type": "stream",
     "text": [
      "C:\\Users\\mltla\\Anaconda3\\lib\\site-packages\\ipykernel_launcher.py:1: DeprecationWarning: The function `forestplot` from PyMC3 is just an alias for `plot_forest` from ArviZ. Please switch to `pymc3.plot_forest` or `arviz.plot_forest`.\n",
      "  \"\"\"Entry point for launching an IPython kernel.\n",
      "C:\\Users\\mltla\\Anaconda3\\lib\\site-packages\\arviz\\data\\io_pymc3.py:100: FutureWarning: Using `from_pymc3` without the model will be deprecated in a future release. Not using the model will return less accurate and less useful results. Make sure you use the model argument or call from_pymc3 within a model context.\n",
      "  FutureWarning,\n"
     ]
    },
    {
     "data": {
      "image/png": "[encoded data removed]",
      "text/plain": [
       "<Figure size 432x417.6 with 1 Axes>"
      ]
     },
     "metadata": {
      "needs_background": "light"
     },
     "output_type": "display_data"
    }
   ],
   "source": [
    "pm.forestplot(trace, var_names=[\"group1_mean\", \"group2_mean\"]);"
   ]
  },
  {
   "cell_type": "code",
   "execution_count": 45,
   "metadata": {},
   "outputs": [
    {
     "name": "stderr",
     "output_type": "stream",
     "text": [
      "C:\\Users\\mltla\\Anaconda3\\lib\\site-packages\\ipykernel_launcher.py:1: DeprecationWarning: The function `forestplot` from PyMC3 is just an alias for `plot_forest` from ArviZ. Please switch to `pymc3.plot_forest` or `arviz.plot_forest`.\n",
      "  \"\"\"Entry point for launching an IPython kernel.\n",
      "C:\\Users\\mltla\\Anaconda3\\lib\\site-packages\\arviz\\data\\io_pymc3.py:100: FutureWarning: Using `from_pymc3` without the model will be deprecated in a future release. Not using the model will return less accurate and less useful results. Make sure you use the model argument or call from_pymc3 within a model context.\n",
      "  FutureWarning,\n"
     ]
    },
    {
     "data": {
      "image/png": "[encoded data removed]",
      "text/plain": [
       "<Figure size 432x518.4 with 1 Axes>"
      ]
     },
     "metadata": {
      "needs_background": "light"
     },
     "output_type": "display_data"
    }
   ],
   "source": [
    "pm.forestplot(trace, var_names=[\"group1_std\", \"group2_std\", \"ν_minus_one\"]);"
   ]
  },
  {
   "cell_type": "code",
   "execution_count": 46,
   "metadata": {},
   "outputs": [
    {
     "name": "stderr",
     "output_type": "stream",
     "text": [
      "C:\\Users\\mltla\\Anaconda3\\lib\\site-packages\\arviz\\data\\io_pymc3.py:100: FutureWarning: Using `from_pymc3` without the model will be deprecated in a future release. Not using the model will return less accurate and less useful results. Make sure you use the model argument or call from_pymc3 within a model context.\n",
      "  FutureWarning,\n"
     ]
    },
    {
     "data": {
      "text/html": [
       "<div>\n",
       "<style scoped>\n",
       "    .dataframe tbody tr th:only-of-type {\n",
       "        vertical-align: middle;\n",
       "    }\n",
       "\n",
       "    .dataframe tbody tr th {\n",
       "        vertical-align: top;\n",
       "    }\n",
       "\n",
       "    .dataframe thead th {\n",
       "        text-align: right;\n",
       "    }\n",
       "</style>\n",
       "<table border=\"1\" class=\"dataframe\">\n",
       "  <thead>\n",
       "    <tr style=\"text-align: right;\">\n",
       "      <th></th>\n",
       "      <th>mean</th>\n",
       "      <th>sd</th>\n",
       "      <th>hdi_3%</th>\n",
       "      <th>hdi_97%</th>\n",
       "      <th>mcse_mean</th>\n",
       "      <th>mcse_sd</th>\n",
       "      <th>ess_bulk</th>\n",
       "      <th>ess_tail</th>\n",
       "      <th>r_hat</th>\n",
       "    </tr>\n",
       "  </thead>\n",
       "  <tbody>\n",
       "    <tr>\n",
       "      <th>difference of means</th>\n",
       "      <td>-1.109</td>\n",
       "      <td>1.850</td>\n",
       "      <td>-4.697</td>\n",
       "      <td>2.240</td>\n",
       "      <td>0.023</td>\n",
       "      <td>0.019</td>\n",
       "      <td>6397.0</td>\n",
       "      <td>5329.0</td>\n",
       "      <td>1.0</td>\n",
       "    </tr>\n",
       "    <tr>\n",
       "      <th>difference of stds</th>\n",
       "      <td>-0.872</td>\n",
       "      <td>1.279</td>\n",
       "      <td>-3.368</td>\n",
       "      <td>1.457</td>\n",
       "      <td>0.019</td>\n",
       "      <td>0.016</td>\n",
       "      <td>4646.0</td>\n",
       "      <td>3910.0</td>\n",
       "      <td>1.0</td>\n",
       "    </tr>\n",
       "    <tr>\n",
       "      <th>effect size</th>\n",
       "      <td>-0.157</td>\n",
       "      <td>0.258</td>\n",
       "      <td>-0.644</td>\n",
       "      <td>0.320</td>\n",
       "      <td>0.003</td>\n",
       "      <td>0.003</td>\n",
       "      <td>6424.0</td>\n",
       "      <td>5068.0</td>\n",
       "      <td>1.0</td>\n",
       "    </tr>\n",
       "  </tbody>\n",
       "</table>\n",
       "</div>"
      ],
      "text/plain": [
       "                      mean     sd  hdi_3%  hdi_97%  mcse_mean  mcse_sd  \\\n",
       "difference of means -1.109  1.850  -4.697    2.240      0.023    0.019   \n",
       "difference of stds  -0.872  1.279  -3.368    1.457      0.019    0.016   \n",
       "effect size         -0.157  0.258  -0.644    0.320      0.003    0.003   \n",
       "\n",
       "                     ess_bulk  ess_tail  r_hat  \n",
       "difference of means    6397.0    5329.0    1.0  \n",
       "difference of stds     4646.0    3910.0    1.0  \n",
       "effect size            6424.0    5068.0    1.0  "
      ]
     },
     "execution_count": 46,
     "metadata": {},
     "output_type": "execute_result"
    }
   ],
   "source": [
    "pm.summary(trace, var_names=[\"difference of means\", \"difference of stds\", \"effect size\"])"
   ]
  },
  {
   "cell_type": "code",
   "execution_count": 47,
   "metadata": {},
   "outputs": [
    {
     "data": {
      "image/png": "[encoded data removed]",
      "text/plain": [
       "<Figure size 864x288 with 2 Axes>"
      ]
     },
     "metadata": {
      "needs_background": "light"
     },
     "output_type": "display_data"
    }
   ],
   "source": [
    "#https://docs.pymc.io/notebooks/BEST.html\n",
    "\n",
    "drug = womanST9\n",
    "placebo = womanC9\n",
    "\n",
    "y1 = np.array(drug)\n",
    "y2 = np.array(placebo)\n",
    "y = pd.DataFrame(\n",
    "    dict(value=np.r_[y1, y2], group=np.r_[[\"drug\"] * len(drug), [\"placebo\"] * len(placebo)])\n",
    ")\n",
    "\n",
    "y.hist(\"value\", by=\"group\", figsize=(12, 4));"
   ]
  },
  {
   "cell_type": "code",
   "execution_count": 48,
   "metadata": {},
   "outputs": [
    {
     "name": "stderr",
     "output_type": "stream",
     "text": [
      "C:\\Users\\mltla\\Anaconda3\\lib\\site-packages\\ipykernel_launcher.py:18: DeprecationWarning: The function `kdeplot` from PyMC3 is just an alias for `plot_kde` from ArviZ. Please switch to `pymc3.plot_kde` or `arviz.plot_kde`.\n"
     ]
    },
    {
     "data": {
      "image/png": "[encoded data removed]",
      "text/plain": [
       "<Figure size 432x288 with 1 Axes>"
      ]
     },
     "metadata": {
      "needs_background": "light"
     },
     "output_type": "display_data"
    }
   ],
   "source": [
    "μ_m = y.value.mean()\n",
    "μ_s = y.value.std() * 2\n",
    "\n",
    "with pm.Model() as model:\n",
    "    group1_mean = pm.Normal(\"group1_mean\", mu=μ_m, sd=μ_s)\n",
    "    group2_mean = pm.Normal(\"group2_mean\", mu=μ_m, sd=μ_s)\n",
    "    \n",
    "σ_low = 1\n",
    "σ_high = 10\n",
    "\n",
    "with model:\n",
    "    group1_std = pm.Uniform(\"group1_std\", lower=σ_low, upper=σ_high)\n",
    "    group2_std = pm.Uniform(\"group2_std\", lower=σ_low, upper=σ_high)\n",
    "    \n",
    "with model:\n",
    "    ν = pm.Exponential(\"ν_minus_one\", 1 / 29.0) + 1\n",
    "\n",
    "pm.kdeplot(np.random.exponential(30, size=10000), fill_kwargs={\"alpha\": 0.5});"
   ]
  },
  {
   "cell_type": "code",
   "execution_count": 49,
   "metadata": {},
   "outputs": [],
   "source": [
    "with model:\n",
    "    λ1 = group1_std ** -2\n",
    "    λ2 = group2_std ** -2\n",
    "\n",
    "    group1 = pm.StudentT(\"drug\", nu=ν, mu=group1_mean, lam=λ1, observed=y1)\n",
    "    group2 = pm.StudentT(\"placebo\", nu=ν, mu=group2_mean, lam=λ2, observed=y2)"
   ]
  },
  {
   "cell_type": "code",
   "execution_count": 50,
   "metadata": {},
   "outputs": [],
   "source": [
    "with model:\n",
    "    diff_of_means = pm.Deterministic(\"difference of means\", group1_mean - group2_mean)\n",
    "    diff_of_stds = pm.Deterministic(\"difference of stds\", group1_std - group2_std)\n",
    "    effect_size = pm.Deterministic(\n",
    "        \"effect size\", diff_of_means / np.sqrt((group1_std ** 2 + group2_std ** 2) / 2)\n",
    "    )"
   ]
  },
  {
   "cell_type": "code",
   "execution_count": 51,
   "metadata": {},
   "outputs": [
    {
     "name": "stderr",
     "output_type": "stream",
     "text": [
      "C:\\Users\\mltla\\Anaconda3\\lib\\site-packages\\ipykernel_launcher.py:2: FutureWarning: In v4.0, pm.sample will return an `arviz.InferenceData` object instead of a `MultiTrace` by default. You can pass return_inferencedata=True or return_inferencedata=False to be safe and silence this warning.\n",
      "  \n",
      "Auto-assigning NUTS sampler...\n",
      "Initializing NUTS using jitter+adapt_diag...\n",
      "C:\\Users\\mltla\\Anaconda3\\lib\\site-packages\\theano\\tensor\\elemwise.py:826: RuntimeWarning: divide by zero encountered in log\n",
      "  variables = ufunc(*ufunc_args, **ufunc_kwargs)\n",
      "C:\\Users\\mltla\\Anaconda3\\lib\\site-packages\\theano\\tensor\\elemwise.py:826: RuntimeWarning: invalid value encountered in multiply\n",
      "  variables = ufunc(*ufunc_args, **ufunc_kwargs)\n",
      "C:\\Users\\mltla\\Anaconda3\\lib\\site-packages\\theano\\tensor\\elemwise.py:826: RuntimeWarning: invalid value encountered in log\n",
      "  variables = ufunc(*ufunc_args, **ufunc_kwargs)\n",
      "Multiprocess sampling (4 chains in 4 jobs)\n",
      "NUTS: [ν_minus_one, group2_std, group1_std, group2_mean, group1_mean]\n"
     ]
    },
    {
     "data": {
      "text/html": [
       "\n",
       "    <div>\n",
       "        <style>\n",
       "            /* Turns off some styling */\n",
       "            progress {\n",
       "                /* gets rid of default border in Firefox and Opera. */\n",
       "                border: none;\n",
       "                /* Needs to be in here for Safari polyfill so background images work as expected. */\n",
       "                background-size: auto;\n",
       "            }\n",
       "            .progress-bar-interrupted, .progress-bar-interrupted::-webkit-progress-bar {\n",
       "                background: #F44336;\n",
       "            }\n",
       "        </style>\n",
       "      <progress value='12000' class='' max='12000' style='width:300px; height:20px; vertical-align: middle;'></progress>\n",
       "      100.00% [12000/12000 07:02<00:00 Sampling 4 chains, 0 divergences]\n",
       "    </div>\n",
       "    "
      ],
      "text/plain": [
       "<IPython.core.display.HTML object>"
      ]
     },
     "metadata": {},
     "output_type": "display_data"
    },
    {
     "name": "stderr",
     "output_type": "stream",
     "text": [
      "Sampling 4 chains for 1_000 tune and 2_000 draw iterations (4_000 + 8_000 draws total) took 434 seconds.\n"
     ]
    }
   ],
   "source": [
    "with model:\n",
    "    trace = pm.sample(2000)"
   ]
  },
  {
   "cell_type": "code",
   "execution_count": 52,
   "metadata": {},
   "outputs": [
    {
     "name": "stderr",
     "output_type": "stream",
     "text": [
      "C:\\Users\\mltla\\Anaconda3\\lib\\site-packages\\arviz\\data\\io_pymc3.py:100: FutureWarning: Using `from_pymc3` without the model will be deprecated in a future release. Not using the model will return less accurate and less useful results. Make sure you use the model argument or call from_pymc3 within a model context.\n",
      "  FutureWarning,\n"
     ]
    },
    {
     "data": {
      "image/png": "[encoded data removed]",
      "text/plain": [
       "<Figure size 1490.4x662.4 with 6 Axes>"
      ]
     },
     "metadata": {
      "needs_background": "light"
     },
     "output_type": "display_data"
    }
   ],
   "source": [
    "pm.plot_posterior(\n",
    "    trace,\n",
    "    var_names=[\"group1_mean\", \"group2_mean\", \"group1_std\", \"group2_std\", \"ν_minus_one\"],\n",
    "    color=\"#87ceeb\",\n",
    ");"
   ]
  },
  {
   "cell_type": "code",
   "execution_count": 53,
   "metadata": {},
   "outputs": [
    {
     "name": "stderr",
     "output_type": "stream",
     "text": [
      "C:\\Users\\mltla\\Anaconda3\\lib\\site-packages\\arviz\\data\\io_pymc3.py:100: FutureWarning: Using `from_pymc3` without the model will be deprecated in a future release. Not using the model will return less accurate and less useful results. Make sure you use the model argument or call from_pymc3 within a model context.\n",
      "  FutureWarning,\n"
     ]
    },
    {
     "data": {
      "image/png": "[encoded data removed]",
      "text/plain": [
       "<Figure size 1490.4x331.2 with 3 Axes>"
      ]
     },
     "metadata": {
      "needs_background": "light"
     },
     "output_type": "display_data"
    }
   ],
   "source": [
    "pm.plot_posterior(\n",
    "    trace,\n",
    "    var_names=[\"difference of means\", \"difference of stds\", \"effect size\"],\n",
    "    ref_val=0,\n",
    "    color=\"#87ceeb\",\n",
    ");"
   ]
  },
  {
   "cell_type": "code",
   "execution_count": 54,
   "metadata": {},
   "outputs": [
    {
     "name": "stderr",
     "output_type": "stream",
     "text": [
      "C:\\Users\\mltla\\Anaconda3\\lib\\site-packages\\ipykernel_launcher.py:1: DeprecationWarning: The function `forestplot` from PyMC3 is just an alias for `plot_forest` from ArviZ. Please switch to `pymc3.plot_forest` or `arviz.plot_forest`.\n",
      "  \"\"\"Entry point for launching an IPython kernel.\n",
      "C:\\Users\\mltla\\Anaconda3\\lib\\site-packages\\arviz\\data\\io_pymc3.py:100: FutureWarning: Using `from_pymc3` without the model will be deprecated in a future release. Not using the model will return less accurate and less useful results. Make sure you use the model argument or call from_pymc3 within a model context.\n",
      "  FutureWarning,\n"
     ]
    },
    {
     "data": {
      "image/png": "[encoded data removed]",
      "text/plain": [
       "<Figure size 432x417.6 with 1 Axes>"
      ]
     },
     "metadata": {
      "needs_background": "light"
     },
     "output_type": "display_data"
    }
   ],
   "source": [
    "pm.forestplot(trace, var_names=[\"group1_mean\", \"group2_mean\"]);"
   ]
  },
  {
   "cell_type": "code",
   "execution_count": 55,
   "metadata": {},
   "outputs": [
    {
     "name": "stderr",
     "output_type": "stream",
     "text": [
      "C:\\Users\\mltla\\Anaconda3\\lib\\site-packages\\ipykernel_launcher.py:1: DeprecationWarning: The function `forestplot` from PyMC3 is just an alias for `plot_forest` from ArviZ. Please switch to `pymc3.plot_forest` or `arviz.plot_forest`.\n",
      "  \"\"\"Entry point for launching an IPython kernel.\n",
      "C:\\Users\\mltla\\Anaconda3\\lib\\site-packages\\arviz\\data\\io_pymc3.py:100: FutureWarning: Using `from_pymc3` without the model will be deprecated in a future release. Not using the model will return less accurate and less useful results. Make sure you use the model argument or call from_pymc3 within a model context.\n",
      "  FutureWarning,\n"
     ]
    },
    {
     "data": {
      "image/png": "[encoded data removed]",
      "text/plain": [
       "<Figure size 432x518.4 with 1 Axes>"
      ]
     },
     "metadata": {
      "needs_background": "light"
     },
     "output_type": "display_data"
    }
   ],
   "source": [
    "pm.forestplot(trace, var_names=[\"group1_std\", \"group2_std\", \"ν_minus_one\"]);"
   ]
  },
  {
   "cell_type": "code",
   "execution_count": 56,
   "metadata": {},
   "outputs": [
    {
     "name": "stderr",
     "output_type": "stream",
     "text": [
      "C:\\Users\\mltla\\Anaconda3\\lib\\site-packages\\arviz\\data\\io_pymc3.py:100: FutureWarning: Using `from_pymc3` without the model will be deprecated in a future release. Not using the model will return less accurate and less useful results. Make sure you use the model argument or call from_pymc3 within a model context.\n",
      "  FutureWarning,\n"
     ]
    },
    {
     "data": {
      "text/html": [
       "<div>\n",
       "<style scoped>\n",
       "    .dataframe tbody tr th:only-of-type {\n",
       "        vertical-align: middle;\n",
       "    }\n",
       "\n",
       "    .dataframe tbody tr th {\n",
       "        vertical-align: top;\n",
       "    }\n",
       "\n",
       "    .dataframe thead th {\n",
       "        text-align: right;\n",
       "    }\n",
       "</style>\n",
       "<table border=\"1\" class=\"dataframe\">\n",
       "  <thead>\n",
       "    <tr style=\"text-align: right;\">\n",
       "      <th></th>\n",
       "      <th>mean</th>\n",
       "      <th>sd</th>\n",
       "      <th>hdi_3%</th>\n",
       "      <th>hdi_97%</th>\n",
       "      <th>mcse_mean</th>\n",
       "      <th>mcse_sd</th>\n",
       "      <th>ess_bulk</th>\n",
       "      <th>ess_tail</th>\n",
       "      <th>r_hat</th>\n",
       "    </tr>\n",
       "  </thead>\n",
       "  <tbody>\n",
       "    <tr>\n",
       "      <th>difference of means</th>\n",
       "      <td>2.587</td>\n",
       "      <td>1.220</td>\n",
       "      <td>0.223</td>\n",
       "      <td>4.794</td>\n",
       "      <td>0.015</td>\n",
       "      <td>0.011</td>\n",
       "      <td>6697.0</td>\n",
       "      <td>5655.0</td>\n",
       "      <td>1.0</td>\n",
       "    </tr>\n",
       "    <tr>\n",
       "      <th>difference of stds</th>\n",
       "      <td>1.419</td>\n",
       "      <td>0.922</td>\n",
       "      <td>-0.289</td>\n",
       "      <td>3.185</td>\n",
       "      <td>0.012</td>\n",
       "      <td>0.010</td>\n",
       "      <td>5747.0</td>\n",
       "      <td>3967.0</td>\n",
       "      <td>1.0</td>\n",
       "    </tr>\n",
       "    <tr>\n",
       "      <th>effect size</th>\n",
       "      <td>0.428</td>\n",
       "      <td>0.204</td>\n",
       "      <td>0.026</td>\n",
       "      <td>0.791</td>\n",
       "      <td>0.002</td>\n",
       "      <td>0.002</td>\n",
       "      <td>6683.0</td>\n",
       "      <td>5711.0</td>\n",
       "      <td>1.0</td>\n",
       "    </tr>\n",
       "  </tbody>\n",
       "</table>\n",
       "</div>"
      ],
      "text/plain": [
       "                      mean     sd  hdi_3%  hdi_97%  mcse_mean  mcse_sd  \\\n",
       "difference of means  2.587  1.220   0.223    4.794      0.015    0.011   \n",
       "difference of stds   1.419  0.922  -0.289    3.185      0.012    0.010   \n",
       "effect size          0.428  0.204   0.026    0.791      0.002    0.002   \n",
       "\n",
       "                     ess_bulk  ess_tail  r_hat  \n",
       "difference of means    6697.0    5655.0    1.0  \n",
       "difference of stds     5747.0    3967.0    1.0  \n",
       "effect size            6683.0    5711.0    1.0  "
      ]
     },
     "execution_count": 56,
     "metadata": {},
     "output_type": "execute_result"
    }
   ],
   "source": [
    "pm.summary(trace, var_names=[\"difference of means\", \"difference of stds\", \"effect size\"])"
   ]
  },
  {
   "cell_type": "code",
   "execution_count": 57,
   "metadata": {},
   "outputs": [
    {
     "data": {
      "image/png": "[encoded data removed]",
      "text/plain": [
       "<Figure size 864x288 with 2 Axes>"
      ]
     },
     "metadata": {
      "needs_background": "light"
     },
     "output_type": "display_data"
    }
   ],
   "source": [
    "#https://docs.pymc.io/notebooks/BEST.html\n",
    "\n",
    "drug = otherST9\n",
    "placebo = otherC9\n",
    "\n",
    "y1 = np.array(drug)\n",
    "y2 = np.array(placebo)\n",
    "y = pd.DataFrame(\n",
    "    dict(value=np.r_[y1, y2], group=np.r_[[\"drug\"] * len(drug), [\"placebo\"] * len(placebo)])\n",
    ")\n",
    "\n",
    "y.hist(\"value\", by=\"group\", figsize=(12, 4));"
   ]
  },
  {
   "cell_type": "code",
   "execution_count": 58,
   "metadata": {},
   "outputs": [
    {
     "name": "stderr",
     "output_type": "stream",
     "text": [
      "C:\\Users\\mltla\\Anaconda3\\lib\\site-packages\\ipykernel_launcher.py:18: DeprecationWarning: The function `kdeplot` from PyMC3 is just an alias for `plot_kde` from ArviZ. Please switch to `pymc3.plot_kde` or `arviz.plot_kde`.\n"
     ]
    },
    {
     "data": {
      "image/png": "[encoded data removed]",
      "text/plain": [
       "<Figure size 432x288 with 1 Axes>"
      ]
     },
     "metadata": {
      "needs_background": "light"
     },
     "output_type": "display_data"
    }
   ],
   "source": [
    "μ_m = y.value.mean()\n",
    "μ_s = y.value.std() * 2\n",
    "\n",
    "with pm.Model() as model:\n",
    "    group1_mean = pm.Normal(\"group1_mean\", mu=μ_m, sd=μ_s)\n",
    "    group2_mean = pm.Normal(\"group2_mean\", mu=μ_m, sd=μ_s)\n",
    "    \n",
    "σ_low = 1\n",
    "σ_high = 10\n",
    "\n",
    "with model:\n",
    "    group1_std = pm.Uniform(\"group1_std\", lower=σ_low, upper=σ_high)\n",
    "    group2_std = pm.Uniform(\"group2_std\", lower=σ_low, upper=σ_high)\n",
    "    \n",
    "with model:\n",
    "    ν = pm.Exponential(\"ν_minus_one\", 1 / 29.0) + 1\n",
    "\n",
    "pm.kdeplot(np.random.exponential(30, size=10000), fill_kwargs={\"alpha\": 0.5});"
   ]
  },
  {
   "cell_type": "code",
   "execution_count": 59,
   "metadata": {},
   "outputs": [],
   "source": [
    "with model:\n",
    "    λ1 = group1_std ** -2\n",
    "    λ2 = group2_std ** -2\n",
    "\n",
    "    group1 = pm.StudentT(\"drug\", nu=ν, mu=group1_mean, lam=λ1, observed=y1)\n",
    "    group2 = pm.StudentT(\"placebo\", nu=ν, mu=group2_mean, lam=λ2, observed=y2)"
   ]
  },
  {
   "cell_type": "code",
   "execution_count": 60,
   "metadata": {},
   "outputs": [],
   "source": [
    "with model:\n",
    "    diff_of_means = pm.Deterministic(\"difference of means\", group1_mean - group2_mean)\n",
    "    diff_of_stds = pm.Deterministic(\"difference of stds\", group1_std - group2_std)\n",
    "    effect_size = pm.Deterministic(\n",
    "        \"effect size\", diff_of_means / np.sqrt((group1_std ** 2 + group2_std ** 2) / 2)\n",
    "    )"
   ]
  },
  {
   "cell_type": "code",
   "execution_count": 61,
   "metadata": {},
   "outputs": [
    {
     "name": "stderr",
     "output_type": "stream",
     "text": [
      "C:\\Users\\mltla\\Anaconda3\\lib\\site-packages\\ipykernel_launcher.py:2: FutureWarning: In v4.0, pm.sample will return an `arviz.InferenceData` object instead of a `MultiTrace` by default. You can pass return_inferencedata=True or return_inferencedata=False to be safe and silence this warning.\n",
      "  \n",
      "Auto-assigning NUTS sampler...\n",
      "Initializing NUTS using jitter+adapt_diag...\n",
      "C:\\Users\\mltla\\Anaconda3\\lib\\site-packages\\theano\\tensor\\elemwise.py:826: RuntimeWarning: divide by zero encountered in log\n",
      "  variables = ufunc(*ufunc_args, **ufunc_kwargs)\n",
      "C:\\Users\\mltla\\Anaconda3\\lib\\site-packages\\theano\\tensor\\elemwise.py:826: RuntimeWarning: invalid value encountered in multiply\n",
      "  variables = ufunc(*ufunc_args, **ufunc_kwargs)\n",
      "C:\\Users\\mltla\\Anaconda3\\lib\\site-packages\\theano\\tensor\\elemwise.py:826: RuntimeWarning: invalid value encountered in log\n",
      "  variables = ufunc(*ufunc_args, **ufunc_kwargs)\n",
      "Multiprocess sampling (4 chains in 4 jobs)\n",
      "NUTS: [ν_minus_one, group2_std, group1_std, group2_mean, group1_mean]\n"
     ]
    },
    {
     "data": {
      "text/html": [
       "\n",
       "    <div>\n",
       "        <style>\n",
       "            /* Turns off some styling */\n",
       "            progress {\n",
       "                /* gets rid of default border in Firefox and Opera. */\n",
       "                border: none;\n",
       "                /* Needs to be in here for Safari polyfill so background images work as expected. */\n",
       "                background-size: auto;\n",
       "            }\n",
       "            .progress-bar-interrupted, .progress-bar-interrupted::-webkit-progress-bar {\n",
       "                background: #F44336;\n",
       "            }\n",
       "        </style>\n",
       "      <progress value='6000' class='' max='6000' style='width:300px; height:20px; vertical-align: middle;'></progress>\n",
       "      100.00% [6000/6000 01:18<00:00 Sampling 4 chains, 0 divergences]\n",
       "    </div>\n",
       "    "
      ],
      "text/plain": [
       "<IPython.core.display.HTML object>"
      ]
     },
     "metadata": {},
     "output_type": "display_data"
    },
    {
     "name": "stderr",
     "output_type": "stream",
     "text": [
      "Sampling 4 chains for 1_000 tune and 500 draw iterations (4_000 + 2_000 draws total) took 93 seconds.\n",
      "The acceptance probability does not match the target. It is 0.8875298400057309, but should be close to 0.8. Try to increase the number of tuning steps.\n"
     ]
    }
   ],
   "source": [
    "with model:\n",
    "    trace = pm.sample(500)"
   ]
  },
  {
   "cell_type": "code",
   "execution_count": 62,
   "metadata": {},
   "outputs": [
    {
     "name": "stderr",
     "output_type": "stream",
     "text": [
      "C:\\Users\\mltla\\Anaconda3\\lib\\site-packages\\arviz\\data\\io_pymc3.py:100: FutureWarning: Using `from_pymc3` without the model will be deprecated in a future release. Not using the model will return less accurate and less useful results. Make sure you use the model argument or call from_pymc3 within a model context.\n",
      "  FutureWarning,\n"
     ]
    },
    {
     "data": {
      "image/png": "[encoded data removed]",
      "text/plain": [
       "<Figure size 1490.4x662.4 with 6 Axes>"
      ]
     },
     "metadata": {
      "needs_background": "light"
     },
     "output_type": "display_data"
    }
   ],
   "source": [
    "pm.plot_posterior(\n",
    "    trace,\n",
    "    var_names=[\"group1_mean\", \"group2_mean\", \"group1_std\", \"group2_std\", \"ν_minus_one\"],\n",
    "    color=\"#87ceeb\",\n",
    ");"
   ]
  },
  {
   "cell_type": "code",
   "execution_count": 63,
   "metadata": {},
   "outputs": [
    {
     "name": "stderr",
     "output_type": "stream",
     "text": [
      "C:\\Users\\mltla\\Anaconda3\\lib\\site-packages\\arviz\\data\\io_pymc3.py:100: FutureWarning: Using `from_pymc3` without the model will be deprecated in a future release. Not using the model will return less accurate and less useful results. Make sure you use the model argument or call from_pymc3 within a model context.\n",
      "  FutureWarning,\n"
     ]
    },
    {
     "data": {
      "image/png": "[encoded data removed]",
      "text/plain": [
       "<Figure size 1490.4x331.2 with 3 Axes>"
      ]
     },
     "metadata": {
      "needs_background": "light"
     },
     "output_type": "display_data"
    }
   ],
   "source": [
    "pm.plot_posterior(\n",
    "    trace,\n",
    "    var_names=[\"difference of means\", \"difference of stds\", \"effect size\"],\n",
    "    ref_val=0,\n",
    "    color=\"#87ceeb\",\n",
    ");"
   ]
  },
  {
   "cell_type": "code",
   "execution_count": 64,
   "metadata": {},
   "outputs": [
    {
     "name": "stderr",
     "output_type": "stream",
     "text": [
      "C:\\Users\\mltla\\Anaconda3\\lib\\site-packages\\ipykernel_launcher.py:1: DeprecationWarning: The function `forestplot` from PyMC3 is just an alias for `plot_forest` from ArviZ. Please switch to `pymc3.plot_forest` or `arviz.plot_forest`.\n",
      "  \"\"\"Entry point for launching an IPython kernel.\n",
      "C:\\Users\\mltla\\Anaconda3\\lib\\site-packages\\arviz\\data\\io_pymc3.py:100: FutureWarning: Using `from_pymc3` without the model will be deprecated in a future release. Not using the model will return less accurate and less useful results. Make sure you use the model argument or call from_pymc3 within a model context.\n",
      "  FutureWarning,\n"
     ]
    },
    {
     "data": {
      "image/png": "[encoded data removed]",
      "text/plain": [
       "<Figure size 432x417.6 with 1 Axes>"
      ]
     },
     "metadata": {
      "needs_background": "light"
     },
     "output_type": "display_data"
    }
   ],
   "source": [
    "pm.forestplot(trace, var_names=[\"group1_mean\", \"group2_mean\"]);"
   ]
  },
  {
   "cell_type": "code",
   "execution_count": 65,
   "metadata": {},
   "outputs": [
    {
     "name": "stderr",
     "output_type": "stream",
     "text": [
      "C:\\Users\\mltla\\Anaconda3\\lib\\site-packages\\ipykernel_launcher.py:1: DeprecationWarning: The function `forestplot` from PyMC3 is just an alias for `plot_forest` from ArviZ. Please switch to `pymc3.plot_forest` or `arviz.plot_forest`.\n",
      "  \"\"\"Entry point for launching an IPython kernel.\n",
      "C:\\Users\\mltla\\Anaconda3\\lib\\site-packages\\arviz\\data\\io_pymc3.py:100: FutureWarning: Using `from_pymc3` without the model will be deprecated in a future release. Not using the model will return less accurate and less useful results. Make sure you use the model argument or call from_pymc3 within a model context.\n",
      "  FutureWarning,\n"
     ]
    },
    {
     "data": {
      "image/png": "[encoded data removed]",
      "text/plain": [
       "<Figure size 432x518.4 with 1 Axes>"
      ]
     },
     "metadata": {
      "needs_background": "light"
     },
     "output_type": "display_data"
    }
   ],
   "source": [
    "pm.forestplot(trace, var_names=[\"group1_std\", \"group2_std\", \"ν_minus_one\"]);"
   ]
  },
  {
   "cell_type": "code",
   "execution_count": 66,
   "metadata": {},
   "outputs": [
    {
     "name": "stderr",
     "output_type": "stream",
     "text": [
      "C:\\Users\\mltla\\Anaconda3\\lib\\site-packages\\arviz\\data\\io_pymc3.py:100: FutureWarning: Using `from_pymc3` without the model will be deprecated in a future release. Not using the model will return less accurate and less useful results. Make sure you use the model argument or call from_pymc3 within a model context.\n",
      "  FutureWarning,\n"
     ]
    },
    {
     "data": {
      "text/html": [
       "<div>\n",
       "<style scoped>\n",
       "    .dataframe tbody tr th:only-of-type {\n",
       "        vertical-align: middle;\n",
       "    }\n",
       "\n",
       "    .dataframe tbody tr th {\n",
       "        vertical-align: top;\n",
       "    }\n",
       "\n",
       "    .dataframe thead th {\n",
       "        text-align: right;\n",
       "    }\n",
       "</style>\n",
       "<table border=\"1\" class=\"dataframe\">\n",
       "  <thead>\n",
       "    <tr style=\"text-align: right;\">\n",
       "      <th></th>\n",
       "      <th>mean</th>\n",
       "      <th>sd</th>\n",
       "      <th>hdi_3%</th>\n",
       "      <th>hdi_97%</th>\n",
       "      <th>mcse_mean</th>\n",
       "      <th>mcse_sd</th>\n",
       "      <th>ess_bulk</th>\n",
       "      <th>ess_tail</th>\n",
       "      <th>r_hat</th>\n",
       "    </tr>\n",
       "  </thead>\n",
       "  <tbody>\n",
       "    <tr>\n",
       "      <th>difference of means</th>\n",
       "      <td>-3.121</td>\n",
       "      <td>4.061</td>\n",
       "      <td>-10.688</td>\n",
       "      <td>4.538</td>\n",
       "      <td>0.110</td>\n",
       "      <td>0.101</td>\n",
       "      <td>1383.0</td>\n",
       "      <td>888.0</td>\n",
       "      <td>1.00</td>\n",
       "    </tr>\n",
       "    <tr>\n",
       "      <th>difference of stds</th>\n",
       "      <td>4.493</td>\n",
       "      <td>2.237</td>\n",
       "      <td>0.698</td>\n",
       "      <td>8.457</td>\n",
       "      <td>0.063</td>\n",
       "      <td>0.046</td>\n",
       "      <td>1210.0</td>\n",
       "      <td>1043.0</td>\n",
       "      <td>1.01</td>\n",
       "    </tr>\n",
       "    <tr>\n",
       "      <th>effect size</th>\n",
       "      <td>-0.568</td>\n",
       "      <td>0.731</td>\n",
       "      <td>-1.910</td>\n",
       "      <td>0.812</td>\n",
       "      <td>0.019</td>\n",
       "      <td>0.015</td>\n",
       "      <td>1514.0</td>\n",
       "      <td>1290.0</td>\n",
       "      <td>1.00</td>\n",
       "    </tr>\n",
       "  </tbody>\n",
       "</table>\n",
       "</div>"
      ],
      "text/plain": [
       "                      mean     sd  hdi_3%  hdi_97%  mcse_mean  mcse_sd  \\\n",
       "difference of means -3.121  4.061 -10.688    4.538      0.110    0.101   \n",
       "difference of stds   4.493  2.237   0.698    8.457      0.063    0.046   \n",
       "effect size         -0.568  0.731  -1.910    0.812      0.019    0.015   \n",
       "\n",
       "                     ess_bulk  ess_tail  r_hat  \n",
       "difference of means    1383.0     888.0   1.00  \n",
       "difference of stds     1210.0    1043.0   1.01  \n",
       "effect size            1514.0    1290.0   1.00  "
      ]
     },
     "execution_count": 66,
     "metadata": {},
     "output_type": "execute_result"
    }
   ],
   "source": [
    "pm.summary(trace, var_names=[\"difference of means\", \"difference of stds\", \"effect size\"])"
   ]
  },
  {
   "cell_type": "code",
   "execution_count": 67,
   "metadata": {
    "scrolled": true
   },
   "outputs": [
    {
     "name": "stdout",
     "output_type": "stream",
     "text": [
      "PHQ-Q1\n"
     ]
    },
    {
     "name": "stderr",
     "output_type": "stream",
     "text": [
      "C:\\Users\\mltla\\Anaconda3\\lib\\site-packages\\ipykernel_launcher.py:63: FutureWarning: In v4.0, pm.sample will return an `arviz.InferenceData` object instead of a `MultiTrace` by default. You can pass return_inferencedata=True or return_inferencedata=False to be safe and silence this warning.\n",
      "Auto-assigning NUTS sampler...\n",
      "Initializing NUTS using jitter+adapt_diag...\n",
      "C:\\Users\\mltla\\Anaconda3\\lib\\site-packages\\theano\\tensor\\elemwise.py:826: RuntimeWarning: divide by zero encountered in log\n",
      "  variables = ufunc(*ufunc_args, **ufunc_kwargs)\n",
      "C:\\Users\\mltla\\Anaconda3\\lib\\site-packages\\theano\\tensor\\elemwise.py:826: RuntimeWarning: invalid value encountered in multiply\n",
      "  variables = ufunc(*ufunc_args, **ufunc_kwargs)\n",
      "C:\\Users\\mltla\\Anaconda3\\lib\\site-packages\\theano\\tensor\\elemwise.py:826: RuntimeWarning: invalid value encountered in log\n",
      "  variables = ufunc(*ufunc_args, **ufunc_kwargs)\n",
      "Multiprocess sampling (4 chains in 4 jobs)\n",
      "NUTS: [ν_minus_one, group2_std, group1_std, group2_mean, group1_mean]\n"
     ]
    },
    {
     "data": {
      "text/html": [
       "\n",
       "    <div>\n",
       "        <style>\n",
       "            /* Turns off some styling */\n",
       "            progress {\n",
       "                /* gets rid of default border in Firefox and Opera. */\n",
       "                border: none;\n",
       "                /* Needs to be in here for Safari polyfill so background images work as expected. */\n",
       "                background-size: auto;\n",
       "            }\n",
       "            .progress-bar-interrupted, .progress-bar-interrupted::-webkit-progress-bar {\n",
       "                background: #F44336;\n",
       "            }\n",
       "        </style>\n",
       "      <progress value='12000' class='' max='12000' style='width:300px; height:20px; vertical-align: middle;'></progress>\n",
       "      100.00% [12000/12000 16:34<00:00 Sampling 4 chains, 0 divergences]\n",
       "    </div>\n",
       "    "
      ],
      "text/plain": [
       "<IPython.core.display.HTML object>"
      ]
     },
     "metadata": {},
     "output_type": "display_data"
    },
    {
     "name": "stderr",
     "output_type": "stream",
     "text": [
      "Sampling 4 chains for 1_000 tune and 2_000 draw iterations (4_000 + 8_000 draws total) took 1023 seconds.\n",
      "C:\\Users\\mltla\\Anaconda3\\lib\\site-packages\\arviz\\data\\io_pymc3.py:100: FutureWarning: Using `from_pymc3` without the model will be deprecated in a future release. Not using the model will return less accurate and less useful results. Make sure you use the model argument or call from_pymc3 within a model context.\n",
      "  FutureWarning,\n"
     ]
    },
    {
     "name": "stdout",
     "output_type": "stream",
     "text": [
      "                      mean     sd  hdi_3%  hdi_97%  mcse_mean  mcse_sd  \\\n",
      "difference of means  0.287  0.216  -0.093    0.713      0.003    0.002   \n",
      "difference of stds  -0.012  0.091  -0.191    0.163      0.001    0.001   \n",
      "effect size          0.268  0.201  -0.102    0.653      0.003    0.002   \n",
      "\n",
      "                     ess_bulk  ess_tail  r_hat  \n",
      "difference of means    6178.0    4864.0    1.0  \n",
      "difference of stds     6321.0    6035.0    1.0  \n",
      "effect size            6306.0    5165.0    1.0  \n",
      "PHQ-Q2\n"
     ]
    },
    {
     "name": "stderr",
     "output_type": "stream",
     "text": [
      "C:\\Users\\mltla\\Anaconda3\\lib\\site-packages\\ipykernel_launcher.py:63: FutureWarning: In v4.0, pm.sample will return an `arviz.InferenceData` object instead of a `MultiTrace` by default. You can pass return_inferencedata=True or return_inferencedata=False to be safe and silence this warning.\n",
      "Auto-assigning NUTS sampler...\n",
      "Initializing NUTS using jitter+adapt_diag...\n",
      "C:\\Users\\mltla\\Anaconda3\\lib\\site-packages\\theano\\tensor\\elemwise.py:826: RuntimeWarning: divide by zero encountered in log\n",
      "  variables = ufunc(*ufunc_args, **ufunc_kwargs)\n",
      "C:\\Users\\mltla\\Anaconda3\\lib\\site-packages\\theano\\tensor\\elemwise.py:826: RuntimeWarning: invalid value encountered in multiply\n",
      "  variables = ufunc(*ufunc_args, **ufunc_kwargs)\n",
      "C:\\Users\\mltla\\Anaconda3\\lib\\site-packages\\theano\\tensor\\elemwise.py:826: RuntimeWarning: invalid value encountered in log\n",
      "  variables = ufunc(*ufunc_args, **ufunc_kwargs)\n",
      "Multiprocess sampling (4 chains in 4 jobs)\n",
      "NUTS: [ν_minus_one, group2_std, group1_std, group2_mean, group1_mean]\n"
     ]
    },
    {
     "data": {
      "text/html": [
       "\n",
       "    <div>\n",
       "        <style>\n",
       "            /* Turns off some styling */\n",
       "            progress {\n",
       "                /* gets rid of default border in Firefox and Opera. */\n",
       "                border: none;\n",
       "                /* Needs to be in here for Safari polyfill so background images work as expected. */\n",
       "                background-size: auto;\n",
       "            }\n",
       "            .progress-bar-interrupted, .progress-bar-interrupted::-webkit-progress-bar {\n",
       "                background: #F44336;\n",
       "            }\n",
       "        </style>\n",
       "      <progress value='12000' class='' max='12000' style='width:300px; height:20px; vertical-align: middle;'></progress>\n",
       "      100.00% [12000/12000 15:45<00:00 Sampling 4 chains, 0 divergences]\n",
       "    </div>\n",
       "    "
      ],
      "text/plain": [
       "<IPython.core.display.HTML object>"
      ]
     },
     "metadata": {},
     "output_type": "display_data"
    },
    {
     "name": "stderr",
     "output_type": "stream",
     "text": [
      "Sampling 4 chains for 1_000 tune and 2_000 draw iterations (4_000 + 8_000 draws total) took 976 seconds.\n",
      "The acceptance probability does not match the target. It is 0.9326511525143342, but should be close to 0.8. Try to increase the number of tuning steps.\n",
      "C:\\Users\\mltla\\Anaconda3\\lib\\site-packages\\arviz\\data\\io_pymc3.py:100: FutureWarning: Using `from_pymc3` without the model will be deprecated in a future release. Not using the model will return less accurate and less useful results. Make sure you use the model argument or call from_pymc3 within a model context.\n",
      "  FutureWarning,\n"
     ]
    },
    {
     "name": "stdout",
     "output_type": "stream",
     "text": [
      "                      mean     sd  hdi_3%  hdi_97%  mcse_mean  mcse_sd  \\\n",
      "difference of means  0.215  0.220  -0.211    0.613      0.003    0.002   \n",
      "difference of stds  -0.013  0.105  -0.220    0.193      0.001    0.001   \n",
      "effect size          0.198  0.202  -0.167    0.591      0.003    0.002   \n",
      "\n",
      "                     ess_bulk  ess_tail  r_hat  \n",
      "difference of means    5556.0    4169.0    1.0  \n",
      "difference of stds     5038.0    5230.0    1.0  \n",
      "effect size            5673.0    4563.0    1.0  \n",
      "PHQ-Q3\n"
     ]
    },
    {
     "name": "stderr",
     "output_type": "stream",
     "text": [
      "C:\\Users\\mltla\\Anaconda3\\lib\\site-packages\\ipykernel_launcher.py:63: FutureWarning: In v4.0, pm.sample will return an `arviz.InferenceData` object instead of a `MultiTrace` by default. You can pass return_inferencedata=True or return_inferencedata=False to be safe and silence this warning.\n",
      "Auto-assigning NUTS sampler...\n",
      "Initializing NUTS using jitter+adapt_diag...\n",
      "C:\\Users\\mltla\\Anaconda3\\lib\\site-packages\\theano\\tensor\\elemwise.py:826: RuntimeWarning: divide by zero encountered in log\n",
      "  variables = ufunc(*ufunc_args, **ufunc_kwargs)\n",
      "C:\\Users\\mltla\\Anaconda3\\lib\\site-packages\\theano\\tensor\\elemwise.py:826: RuntimeWarning: invalid value encountered in multiply\n",
      "  variables = ufunc(*ufunc_args, **ufunc_kwargs)\n",
      "C:\\Users\\mltla\\Anaconda3\\lib\\site-packages\\theano\\tensor\\elemwise.py:826: RuntimeWarning: invalid value encountered in log\n",
      "  variables = ufunc(*ufunc_args, **ufunc_kwargs)\n",
      "Multiprocess sampling (4 chains in 4 jobs)\n",
      "NUTS: [ν_minus_one, group2_std, group1_std, group2_mean, group1_mean]\n"
     ]
    },
    {
     "data": {
      "text/html": [
       "\n",
       "    <div>\n",
       "        <style>\n",
       "            /* Turns off some styling */\n",
       "            progress {\n",
       "                /* gets rid of default border in Firefox and Opera. */\n",
       "                border: none;\n",
       "                /* Needs to be in here for Safari polyfill so background images work as expected. */\n",
       "                background-size: auto;\n",
       "            }\n",
       "            .progress-bar-interrupted, .progress-bar-interrupted::-webkit-progress-bar {\n",
       "                background: #F44336;\n",
       "            }\n",
       "        </style>\n",
       "      <progress value='12000' class='' max='12000' style='width:300px; height:20px; vertical-align: middle;'></progress>\n",
       "      100.00% [12000/12000 08:33<00:00 Sampling 4 chains, 0 divergences]\n",
       "    </div>\n",
       "    "
      ],
      "text/plain": [
       "<IPython.core.display.HTML object>"
      ]
     },
     "metadata": {},
     "output_type": "display_data"
    },
    {
     "name": "stderr",
     "output_type": "stream",
     "text": [
      "Sampling 4 chains for 1_000 tune and 2_000 draw iterations (4_000 + 8_000 draws total) took 527 seconds.\n",
      "C:\\Users\\mltla\\Anaconda3\\lib\\site-packages\\arviz\\data\\io_pymc3.py:100: FutureWarning: Using `from_pymc3` without the model will be deprecated in a future release. Not using the model will return less accurate and less useful results. Make sure you use the model argument or call from_pymc3 within a model context.\n",
      "  FutureWarning,\n"
     ]
    },
    {
     "name": "stdout",
     "output_type": "stream",
     "text": [
      "                      mean     sd  hdi_3%  hdi_97%  mcse_mean  mcse_sd  \\\n",
      "difference of means  0.308  0.218  -0.107    0.711      0.003    0.002   \n",
      "difference of stds  -0.021  0.115  -0.246    0.203      0.002    0.001   \n",
      "effect size          0.281  0.199  -0.090    0.651      0.003    0.002   \n",
      "\n",
      "                     ess_bulk  ess_tail  r_hat  \n",
      "difference of means    5246.0    4870.0    1.0  \n",
      "difference of stds     5671.0    5943.0    1.0  \n",
      "effect size            5333.0    4932.0    1.0  \n",
      "PHQ-Q4\n"
     ]
    },
    {
     "name": "stderr",
     "output_type": "stream",
     "text": [
      "C:\\Users\\mltla\\Anaconda3\\lib\\site-packages\\ipykernel_launcher.py:63: FutureWarning: In v4.0, pm.sample will return an `arviz.InferenceData` object instead of a `MultiTrace` by default. You can pass return_inferencedata=True or return_inferencedata=False to be safe and silence this warning.\n",
      "Auto-assigning NUTS sampler...\n",
      "Initializing NUTS using jitter+adapt_diag...\n",
      "C:\\Users\\mltla\\Anaconda3\\lib\\site-packages\\theano\\tensor\\elemwise.py:826: RuntimeWarning: divide by zero encountered in log\n",
      "  variables = ufunc(*ufunc_args, **ufunc_kwargs)\n",
      "C:\\Users\\mltla\\Anaconda3\\lib\\site-packages\\theano\\tensor\\elemwise.py:826: RuntimeWarning: invalid value encountered in multiply\n",
      "  variables = ufunc(*ufunc_args, **ufunc_kwargs)\n",
      "C:\\Users\\mltla\\Anaconda3\\lib\\site-packages\\theano\\tensor\\elemwise.py:826: RuntimeWarning: invalid value encountered in log\n",
      "  variables = ufunc(*ufunc_args, **ufunc_kwargs)\n",
      "Multiprocess sampling (4 chains in 4 jobs)\n",
      "NUTS: [ν_minus_one, group2_std, group1_std, group2_mean, group1_mean]\n"
     ]
    },
    {
     "data": {
      "text/html": [
       "\n",
       "    <div>\n",
       "        <style>\n",
       "            /* Turns off some styling */\n",
       "            progress {\n",
       "                /* gets rid of default border in Firefox and Opera. */\n",
       "                border: none;\n",
       "                /* Needs to be in here for Safari polyfill so background images work as expected. */\n",
       "                background-size: auto;\n",
       "            }\n",
       "            .progress-bar-interrupted, .progress-bar-interrupted::-webkit-progress-bar {\n",
       "                background: #F44336;\n",
       "            }\n",
       "        </style>\n",
       "      <progress value='12000' class='' max='12000' style='width:300px; height:20px; vertical-align: middle;'></progress>\n",
       "      100.00% [12000/12000 08:02<00:00 Sampling 4 chains, 0 divergences]\n",
       "    </div>\n",
       "    "
      ],
      "text/plain": [
       "<IPython.core.display.HTML object>"
      ]
     },
     "metadata": {},
     "output_type": "display_data"
    },
    {
     "name": "stderr",
     "output_type": "stream",
     "text": [
      "Sampling 4 chains for 1_000 tune and 2_000 draw iterations (4_000 + 8_000 draws total) took 494 seconds.\n",
      "C:\\Users\\mltla\\Anaconda3\\lib\\site-packages\\arviz\\data\\io_pymc3.py:100: FutureWarning: Using `from_pymc3` without the model will be deprecated in a future release. Not using the model will return less accurate and less useful results. Make sure you use the model argument or call from_pymc3 within a model context.\n",
      "  FutureWarning,\n"
     ]
    },
    {
     "name": "stdout",
     "output_type": "stream",
     "text": [
      "                      mean     sd  hdi_3%  hdi_97%  mcse_mean  mcse_sd  \\\n",
      "difference of means  0.098  0.215  -0.313    0.483      0.003    0.002   \n",
      "difference of stds  -0.018  0.093  -0.200    0.160      0.001    0.001   \n",
      "effect size          0.091  0.200  -0.288    0.450      0.003    0.002   \n",
      "\n",
      "                     ess_bulk  ess_tail  r_hat  \n",
      "difference of means    5232.0    5055.0    1.0  \n",
      "difference of stds     6351.0    5540.0    1.0  \n",
      "effect size            5322.0    4969.0    1.0  \n",
      "PHQ-Q5\n"
     ]
    },
    {
     "name": "stderr",
     "output_type": "stream",
     "text": [
      "C:\\Users\\mltla\\Anaconda3\\lib\\site-packages\\ipykernel_launcher.py:63: FutureWarning: In v4.0, pm.sample will return an `arviz.InferenceData` object instead of a `MultiTrace` by default. You can pass return_inferencedata=True or return_inferencedata=False to be safe and silence this warning.\n",
      "Auto-assigning NUTS sampler...\n",
      "Initializing NUTS using jitter+adapt_diag...\n",
      "C:\\Users\\mltla\\Anaconda3\\lib\\site-packages\\theano\\tensor\\elemwise.py:826: RuntimeWarning: divide by zero encountered in log\n",
      "  variables = ufunc(*ufunc_args, **ufunc_kwargs)\n",
      "C:\\Users\\mltla\\Anaconda3\\lib\\site-packages\\theano\\tensor\\elemwise.py:826: RuntimeWarning: invalid value encountered in multiply\n",
      "  variables = ufunc(*ufunc_args, **ufunc_kwargs)\n",
      "C:\\Users\\mltla\\Anaconda3\\lib\\site-packages\\theano\\tensor\\elemwise.py:826: RuntimeWarning: invalid value encountered in log\n",
      "  variables = ufunc(*ufunc_args, **ufunc_kwargs)\n",
      "Multiprocess sampling (4 chains in 4 jobs)\n",
      "NUTS: [ν_minus_one, group2_std, group1_std, group2_mean, group1_mean]\n"
     ]
    },
    {
     "data": {
      "text/html": [
       "\n",
       "    <div>\n",
       "        <style>\n",
       "            /* Turns off some styling */\n",
       "            progress {\n",
       "                /* gets rid of default border in Firefox and Opera. */\n",
       "                border: none;\n",
       "                /* Needs to be in here for Safari polyfill so background images work as expected. */\n",
       "                background-size: auto;\n",
       "            }\n",
       "            .progress-bar-interrupted, .progress-bar-interrupted::-webkit-progress-bar {\n",
       "                background: #F44336;\n",
       "            }\n",
       "        </style>\n",
       "      <progress value='12000' class='' max='12000' style='width:300px; height:20px; vertical-align: middle;'></progress>\n",
       "      100.00% [12000/12000 08:28<00:00 Sampling 4 chains, 0 divergences]\n",
       "    </div>\n",
       "    "
      ],
      "text/plain": [
       "<IPython.core.display.HTML object>"
      ]
     },
     "metadata": {},
     "output_type": "display_data"
    },
    {
     "name": "stderr",
     "output_type": "stream",
     "text": [
      "Sampling 4 chains for 1_000 tune and 2_000 draw iterations (4_000 + 8_000 draws total) took 523 seconds.\n",
      "C:\\Users\\mltla\\Anaconda3\\lib\\site-packages\\arviz\\data\\io_pymc3.py:100: FutureWarning: Using `from_pymc3` without the model will be deprecated in a future release. Not using the model will return less accurate and less useful results. Make sure you use the model argument or call from_pymc3 within a model context.\n",
      "  FutureWarning,\n"
     ]
    },
    {
     "name": "stdout",
     "output_type": "stream",
     "text": [
      "                      mean     sd  hdi_3%  hdi_97%  mcse_mean  mcse_sd  \\\n",
      "difference of means  0.380  0.218  -0.044    0.771      0.003    0.002   \n",
      "difference of stds   0.016  0.108  -0.187    0.228      0.001    0.001   \n",
      "effect size          0.347  0.200  -0.020    0.729      0.003    0.002   \n",
      "\n",
      "                     ess_bulk  ess_tail  r_hat  \n",
      "difference of means    5995.0    5341.0    1.0  \n",
      "difference of stds     5379.0    5798.0    1.0  \n",
      "effect size            6114.0    5187.0    1.0  \n",
      "PHQ-Q6\n"
     ]
    },
    {
     "name": "stderr",
     "output_type": "stream",
     "text": [
      "C:\\Users\\mltla\\Anaconda3\\lib\\site-packages\\ipykernel_launcher.py:63: FutureWarning: In v4.0, pm.sample will return an `arviz.InferenceData` object instead of a `MultiTrace` by default. You can pass return_inferencedata=True or return_inferencedata=False to be safe and silence this warning.\n",
      "Auto-assigning NUTS sampler...\n",
      "Initializing NUTS using jitter+adapt_diag...\n",
      "C:\\Users\\mltla\\Anaconda3\\lib\\site-packages\\theano\\tensor\\elemwise.py:826: RuntimeWarning: divide by zero encountered in log\n",
      "  variables = ufunc(*ufunc_args, **ufunc_kwargs)\n",
      "C:\\Users\\mltla\\Anaconda3\\lib\\site-packages\\theano\\tensor\\elemwise.py:826: RuntimeWarning: invalid value encountered in multiply\n",
      "  variables = ufunc(*ufunc_args, **ufunc_kwargs)\n",
      "C:\\Users\\mltla\\Anaconda3\\lib\\site-packages\\theano\\tensor\\elemwise.py:826: RuntimeWarning: invalid value encountered in log\n",
      "  variables = ufunc(*ufunc_args, **ufunc_kwargs)\n",
      "Multiprocess sampling (4 chains in 4 jobs)\n",
      "NUTS: [ν_minus_one, group2_std, group1_std, group2_mean, group1_mean]\n"
     ]
    },
    {
     "data": {
      "text/html": [
       "\n",
       "    <div>\n",
       "        <style>\n",
       "            /* Turns off some styling */\n",
       "            progress {\n",
       "                /* gets rid of default border in Firefox and Opera. */\n",
       "                border: none;\n",
       "                /* Needs to be in here for Safari polyfill so background images work as expected. */\n",
       "                background-size: auto;\n",
       "            }\n",
       "            .progress-bar-interrupted, .progress-bar-interrupted::-webkit-progress-bar {\n",
       "                background: #F44336;\n",
       "            }\n",
       "        </style>\n",
       "      <progress value='12000' class='' max='12000' style='width:300px; height:20px; vertical-align: middle;'></progress>\n",
       "      100.00% [12000/12000 08:42<00:00 Sampling 4 chains, 0 divergences]\n",
       "    </div>\n",
       "    "
      ],
      "text/plain": [
       "<IPython.core.display.HTML object>"
      ]
     },
     "metadata": {},
     "output_type": "display_data"
    },
    {
     "name": "stderr",
     "output_type": "stream",
     "text": [
      "Sampling 4 chains for 1_000 tune and 2_000 draw iterations (4_000 + 8_000 draws total) took 535 seconds.\n",
      "C:\\Users\\mltla\\Anaconda3\\lib\\site-packages\\arviz\\data\\io_pymc3.py:100: FutureWarning: Using `from_pymc3` without the model will be deprecated in a future release. Not using the model will return less accurate and less useful results. Make sure you use the model argument or call from_pymc3 within a model context.\n",
      "  FutureWarning,\n"
     ]
    },
    {
     "name": "stdout",
     "output_type": "stream",
     "text": [
      "                      mean     sd  hdi_3%  hdi_97%  mcse_mean  mcse_sd  \\\n",
      "difference of means  0.344  0.239  -0.134    0.768      0.003    0.002   \n",
      "difference of stds  -0.012  0.146  -0.280    0.281      0.002    0.001   \n",
      "effect size          0.298  0.207  -0.105    0.674      0.003    0.002   \n",
      "\n",
      "                     ess_bulk  ess_tail  r_hat  \n",
      "difference of means    4935.0    3843.0    1.0  \n",
      "difference of stds     5386.0    5175.0    1.0  \n",
      "effect size            4955.0    3840.0    1.0  \n",
      "PHQ-Q7\n"
     ]
    },
    {
     "name": "stderr",
     "output_type": "stream",
     "text": [
      "C:\\Users\\mltla\\Anaconda3\\lib\\site-packages\\ipykernel_launcher.py:63: FutureWarning: In v4.0, pm.sample will return an `arviz.InferenceData` object instead of a `MultiTrace` by default. You can pass return_inferencedata=True or return_inferencedata=False to be safe and silence this warning.\n",
      "Auto-assigning NUTS sampler...\n",
      "Initializing NUTS using jitter+adapt_diag...\n",
      "C:\\Users\\mltla\\Anaconda3\\lib\\site-packages\\theano\\tensor\\elemwise.py:826: RuntimeWarning: divide by zero encountered in log\n",
      "  variables = ufunc(*ufunc_args, **ufunc_kwargs)\n",
      "C:\\Users\\mltla\\Anaconda3\\lib\\site-packages\\theano\\tensor\\elemwise.py:826: RuntimeWarning: invalid value encountered in multiply\n",
      "  variables = ufunc(*ufunc_args, **ufunc_kwargs)\n",
      "C:\\Users\\mltla\\Anaconda3\\lib\\site-packages\\theano\\tensor\\elemwise.py:826: RuntimeWarning: invalid value encountered in log\n",
      "  variables = ufunc(*ufunc_args, **ufunc_kwargs)\n",
      "Multiprocess sampling (4 chains in 4 jobs)\n",
      "NUTS: [ν_minus_one, group2_std, group1_std, group2_mean, group1_mean]\n"
     ]
    },
    {
     "data": {
      "text/html": [
       "\n",
       "    <div>\n",
       "        <style>\n",
       "            /* Turns off some styling */\n",
       "            progress {\n",
       "                /* gets rid of default border in Firefox and Opera. */\n",
       "                border: none;\n",
       "                /* Needs to be in here for Safari polyfill so background images work as expected. */\n",
       "                background-size: auto;\n",
       "            }\n",
       "            .progress-bar-interrupted, .progress-bar-interrupted::-webkit-progress-bar {\n",
       "                background: #F44336;\n",
       "            }\n",
       "        </style>\n",
       "      <progress value='12000' class='' max='12000' style='width:300px; height:20px; vertical-align: middle;'></progress>\n",
       "      100.00% [12000/12000 08:45<00:00 Sampling 4 chains, 0 divergences]\n",
       "    </div>\n",
       "    "
      ],
      "text/plain": [
       "<IPython.core.display.HTML object>"
      ]
     },
     "metadata": {},
     "output_type": "display_data"
    },
    {
     "name": "stderr",
     "output_type": "stream",
     "text": [
      "Sampling 4 chains for 1_000 tune and 2_000 draw iterations (4_000 + 8_000 draws total) took 538 seconds.\n",
      "C:\\Users\\mltla\\Anaconda3\\lib\\site-packages\\arviz\\data\\io_pymc3.py:100: FutureWarning: Using `from_pymc3` without the model will be deprecated in a future release. Not using the model will return less accurate and less useful results. Make sure you use the model argument or call from_pymc3 within a model context.\n",
      "  FutureWarning,\n"
     ]
    },
    {
     "name": "stdout",
     "output_type": "stream",
     "text": [
      "                      mean     sd  hdi_3%  hdi_97%  mcse_mean  mcse_sd  \\\n",
      "difference of means  0.276  0.233  -0.170    0.694      0.003    0.002   \n",
      "difference of stds   0.051  0.132  -0.202    0.306      0.002    0.001   \n",
      "effect size          0.244  0.206  -0.129    0.638      0.003    0.002   \n",
      "\n",
      "                     ess_bulk  ess_tail  r_hat  \n",
      "difference of means    5329.0    4297.0    1.0  \n",
      "difference of stds     5744.0    5670.0    1.0  \n",
      "effect size            5453.0    4285.0    1.0  \n",
      "PHQ-Q8\n"
     ]
    },
    {
     "name": "stderr",
     "output_type": "stream",
     "text": [
      "C:\\Users\\mltla\\Anaconda3\\lib\\site-packages\\ipykernel_launcher.py:63: FutureWarning: In v4.0, pm.sample will return an `arviz.InferenceData` object instead of a `MultiTrace` by default. You can pass return_inferencedata=True or return_inferencedata=False to be safe and silence this warning.\n",
      "Auto-assigning NUTS sampler...\n",
      "Initializing NUTS using jitter+adapt_diag...\n",
      "C:\\Users\\mltla\\Anaconda3\\lib\\site-packages\\theano\\tensor\\elemwise.py:826: RuntimeWarning: divide by zero encountered in log\n",
      "  variables = ufunc(*ufunc_args, **ufunc_kwargs)\n",
      "C:\\Users\\mltla\\Anaconda3\\lib\\site-packages\\theano\\tensor\\elemwise.py:826: RuntimeWarning: invalid value encountered in multiply\n",
      "  variables = ufunc(*ufunc_args, **ufunc_kwargs)\n",
      "C:\\Users\\mltla\\Anaconda3\\lib\\site-packages\\theano\\tensor\\elemwise.py:826: RuntimeWarning: invalid value encountered in log\n",
      "  variables = ufunc(*ufunc_args, **ufunc_kwargs)\n",
      "Multiprocess sampling (4 chains in 4 jobs)\n",
      "NUTS: [ν_minus_one, group2_std, group1_std, group2_mean, group1_mean]\n"
     ]
    },
    {
     "data": {
      "text/html": [
       "\n",
       "    <div>\n",
       "        <style>\n",
       "            /* Turns off some styling */\n",
       "            progress {\n",
       "                /* gets rid of default border in Firefox and Opera. */\n",
       "                border: none;\n",
       "                /* Needs to be in here for Safari polyfill so background images work as expected. */\n",
       "                background-size: auto;\n",
       "            }\n",
       "            .progress-bar-interrupted, .progress-bar-interrupted::-webkit-progress-bar {\n",
       "                background: #F44336;\n",
       "            }\n",
       "        </style>\n",
       "      <progress value='12000' class='' max='12000' style='width:300px; height:20px; vertical-align: middle;'></progress>\n",
       "      100.00% [12000/12000 08:18<00:00 Sampling 4 chains, 0 divergences]\n",
       "    </div>\n",
       "    "
      ],
      "text/plain": [
       "<IPython.core.display.HTML object>"
      ]
     },
     "metadata": {},
     "output_type": "display_data"
    },
    {
     "name": "stderr",
     "output_type": "stream",
     "text": [
      "Sampling 4 chains for 1_000 tune and 2_000 draw iterations (4_000 + 8_000 draws total) took 511 seconds.\n",
      "C:\\Users\\mltla\\Anaconda3\\lib\\site-packages\\arviz\\data\\io_pymc3.py:100: FutureWarning: Using `from_pymc3` without the model will be deprecated in a future release. Not using the model will return less accurate and less useful results. Make sure you use the model argument or call from_pymc3 within a model context.\n",
      "  FutureWarning,\n"
     ]
    },
    {
     "name": "stdout",
     "output_type": "stream",
     "text": [
      "                      mean     sd  hdi_3%  hdi_97%  mcse_mean  mcse_sd  \\\n",
      "difference of means  0.402  0.222  -0.008    0.806      0.003    0.002   \n",
      "difference of stds   0.145  0.119  -0.053    0.386      0.002    0.001   \n",
      "effect size          0.360  0.199  -0.007    0.726      0.002    0.002   \n",
      "\n",
      "                     ess_bulk  ess_tail  r_hat  \n",
      "difference of means    6240.0    5376.0    1.0  \n",
      "difference of stds     5190.0    4529.0    1.0  \n",
      "effect size            6460.0    5476.0    1.0  \n",
      "PHQ-Q9\n"
     ]
    },
    {
     "name": "stderr",
     "output_type": "stream",
     "text": [
      "C:\\Users\\mltla\\Anaconda3\\lib\\site-packages\\ipykernel_launcher.py:63: FutureWarning: In v4.0, pm.sample will return an `arviz.InferenceData` object instead of a `MultiTrace` by default. You can pass return_inferencedata=True or return_inferencedata=False to be safe and silence this warning.\n",
      "Auto-assigning NUTS sampler...\n",
      "Initializing NUTS using jitter+adapt_diag...\n",
      "C:\\Users\\mltla\\Anaconda3\\lib\\site-packages\\theano\\tensor\\elemwise.py:826: RuntimeWarning: divide by zero encountered in log\n",
      "  variables = ufunc(*ufunc_args, **ufunc_kwargs)\n",
      "C:\\Users\\mltla\\Anaconda3\\lib\\site-packages\\theano\\tensor\\elemwise.py:826: RuntimeWarning: invalid value encountered in multiply\n",
      "  variables = ufunc(*ufunc_args, **ufunc_kwargs)\n",
      "C:\\Users\\mltla\\Anaconda3\\lib\\site-packages\\theano\\tensor\\elemwise.py:826: RuntimeWarning: invalid value encountered in log\n",
      "  variables = ufunc(*ufunc_args, **ufunc_kwargs)\n",
      "Multiprocess sampling (4 chains in 4 jobs)\n",
      "NUTS: [ν_minus_one, group2_std, group1_std, group2_mean, group1_mean]\n"
     ]
    },
    {
     "data": {
      "text/html": [
       "\n",
       "    <div>\n",
       "        <style>\n",
       "            /* Turns off some styling */\n",
       "            progress {\n",
       "                /* gets rid of default border in Firefox and Opera. */\n",
       "                border: none;\n",
       "                /* Needs to be in here for Safari polyfill so background images work as expected. */\n",
       "                background-size: auto;\n",
       "            }\n",
       "            .progress-bar-interrupted, .progress-bar-interrupted::-webkit-progress-bar {\n",
       "                background: #F44336;\n",
       "            }\n",
       "        </style>\n",
       "      <progress value='12000' class='' max='12000' style='width:300px; height:20px; vertical-align: middle;'></progress>\n",
       "      100.00% [12000/12000 08:09<00:00 Sampling 4 chains, 0 divergences]\n",
       "    </div>\n",
       "    "
      ],
      "text/plain": [
       "<IPython.core.display.HTML object>"
      ]
     },
     "metadata": {},
     "output_type": "display_data"
    },
    {
     "name": "stderr",
     "output_type": "stream",
     "text": [
      "Sampling 4 chains for 1_000 tune and 2_000 draw iterations (4_000 + 8_000 draws total) took 502 seconds.\n",
      "C:\\Users\\mltla\\Anaconda3\\lib\\site-packages\\arviz\\data\\io_pymc3.py:100: FutureWarning: Using `from_pymc3` without the model will be deprecated in a future release. Not using the model will return less accurate and less useful results. Make sure you use the model argument or call from_pymc3 within a model context.\n",
      "  FutureWarning,\n"
     ]
    },
    {
     "name": "stdout",
     "output_type": "stream",
     "text": [
      "                      mean     sd  hdi_3%  hdi_97%  mcse_mean  mcse_sd  \\\n",
      "difference of means  0.244  0.213  -0.136    0.663      0.003    0.002   \n",
      "difference of stds   0.024  0.072  -0.104    0.178      0.001    0.001   \n",
      "effect size          0.231  0.202  -0.137    0.618      0.003    0.002   \n",
      "\n",
      "                     ess_bulk  ess_tail  r_hat  \n",
      "difference of means    4508.0    4521.0    1.0  \n",
      "difference of stds     6165.0    4848.0    1.0  \n",
      "effect size            4584.0    4697.0    1.0  \n",
      "GAD-Q1\n"
     ]
    },
    {
     "name": "stderr",
     "output_type": "stream",
     "text": [
      "C:\\Users\\mltla\\Anaconda3\\lib\\site-packages\\ipykernel_launcher.py:63: FutureWarning: In v4.0, pm.sample will return an `arviz.InferenceData` object instead of a `MultiTrace` by default. You can pass return_inferencedata=True or return_inferencedata=False to be safe and silence this warning.\n",
      "Auto-assigning NUTS sampler...\n",
      "Initializing NUTS using jitter+adapt_diag...\n",
      "C:\\Users\\mltla\\Anaconda3\\lib\\site-packages\\theano\\tensor\\elemwise.py:826: RuntimeWarning: divide by zero encountered in log\n",
      "  variables = ufunc(*ufunc_args, **ufunc_kwargs)\n",
      "C:\\Users\\mltla\\Anaconda3\\lib\\site-packages\\theano\\tensor\\elemwise.py:826: RuntimeWarning: invalid value encountered in multiply\n",
      "  variables = ufunc(*ufunc_args, **ufunc_kwargs)\n",
      "C:\\Users\\mltla\\Anaconda3\\lib\\site-packages\\theano\\tensor\\elemwise.py:826: RuntimeWarning: invalid value encountered in log\n",
      "  variables = ufunc(*ufunc_args, **ufunc_kwargs)\n",
      "Multiprocess sampling (4 chains in 4 jobs)\n",
      "NUTS: [ν_minus_one, group2_std, group1_std, group2_mean, group1_mean]\n"
     ]
    },
    {
     "data": {
      "text/html": [
       "\n",
       "    <div>\n",
       "        <style>\n",
       "            /* Turns off some styling */\n",
       "            progress {\n",
       "                /* gets rid of default border in Firefox and Opera. */\n",
       "                border: none;\n",
       "                /* Needs to be in here for Safari polyfill so background images work as expected. */\n",
       "                background-size: auto;\n",
       "            }\n",
       "            .progress-bar-interrupted, .progress-bar-interrupted::-webkit-progress-bar {\n",
       "                background: #F44336;\n",
       "            }\n",
       "        </style>\n",
       "      <progress value='12000' class='' max='12000' style='width:300px; height:20px; vertical-align: middle;'></progress>\n",
       "      100.00% [12000/12000 08:29<00:00 Sampling 4 chains, 0 divergences]\n",
       "    </div>\n",
       "    "
      ],
      "text/plain": [
       "<IPython.core.display.HTML object>"
      ]
     },
     "metadata": {},
     "output_type": "display_data"
    },
    {
     "name": "stderr",
     "output_type": "stream",
     "text": [
      "Sampling 4 chains for 1_000 tune and 2_000 draw iterations (4_000 + 8_000 draws total) took 522 seconds.\n",
      "C:\\Users\\mltla\\Anaconda3\\lib\\site-packages\\arviz\\data\\io_pymc3.py:100: FutureWarning: Using `from_pymc3` without the model will be deprecated in a future release. Not using the model will return less accurate and less useful results. Make sure you use the model argument or call from_pymc3 within a model context.\n",
      "  FutureWarning,\n"
     ]
    },
    {
     "name": "stdout",
     "output_type": "stream",
     "text": [
      "                      mean     sd  hdi_3%  hdi_97%  mcse_mean  mcse_sd  \\\n",
      "difference of means  0.041  0.218  -0.341    0.487      0.003    0.003   \n",
      "difference of stds  -0.006  0.103  -0.223    0.182      0.001    0.001   \n",
      "effect size          0.038  0.200  -0.354    0.405      0.003    0.002   \n",
      "\n",
      "                     ess_bulk  ess_tail  r_hat  \n",
      "difference of means    5573.0    4795.0    1.0  \n",
      "difference of stds     6017.0    5928.0    1.0  \n",
      "effect size            5661.0    4839.0    1.0  \n",
      "GAD-Q2\n"
     ]
    },
    {
     "name": "stderr",
     "output_type": "stream",
     "text": [
      "C:\\Users\\mltla\\Anaconda3\\lib\\site-packages\\ipykernel_launcher.py:63: FutureWarning: In v4.0, pm.sample will return an `arviz.InferenceData` object instead of a `MultiTrace` by default. You can pass return_inferencedata=True or return_inferencedata=False to be safe and silence this warning.\n",
      "Auto-assigning NUTS sampler...\n",
      "Initializing NUTS using jitter+adapt_diag...\n",
      "C:\\Users\\mltla\\Anaconda3\\lib\\site-packages\\theano\\tensor\\elemwise.py:826: RuntimeWarning: divide by zero encountered in log\n",
      "  variables = ufunc(*ufunc_args, **ufunc_kwargs)\n",
      "C:\\Users\\mltla\\Anaconda3\\lib\\site-packages\\theano\\tensor\\elemwise.py:826: RuntimeWarning: invalid value encountered in multiply\n",
      "  variables = ufunc(*ufunc_args, **ufunc_kwargs)\n",
      "C:\\Users\\mltla\\Anaconda3\\lib\\site-packages\\theano\\tensor\\elemwise.py:826: RuntimeWarning: invalid value encountered in log\n",
      "  variables = ufunc(*ufunc_args, **ufunc_kwargs)\n",
      "Multiprocess sampling (4 chains in 4 jobs)\n",
      "NUTS: [ν_minus_one, group2_std, group1_std, group2_mean, group1_mean]\n"
     ]
    },
    {
     "data": {
      "text/html": [
       "\n",
       "    <div>\n",
       "        <style>\n",
       "            /* Turns off some styling */\n",
       "            progress {\n",
       "                /* gets rid of default border in Firefox and Opera. */\n",
       "                border: none;\n",
       "                /* Needs to be in here for Safari polyfill so background images work as expected. */\n",
       "                background-size: auto;\n",
       "            }\n",
       "            .progress-bar-interrupted, .progress-bar-interrupted::-webkit-progress-bar {\n",
       "                background: #F44336;\n",
       "            }\n",
       "        </style>\n",
       "      <progress value='12000' class='' max='12000' style='width:300px; height:20px; vertical-align: middle;'></progress>\n",
       "      100.00% [12000/12000 08:12<00:00 Sampling 4 chains, 0 divergences]\n",
       "    </div>\n",
       "    "
      ],
      "text/plain": [
       "<IPython.core.display.HTML object>"
      ]
     },
     "metadata": {},
     "output_type": "display_data"
    },
    {
     "name": "stderr",
     "output_type": "stream",
     "text": [
      "Sampling 4 chains for 1_000 tune and 2_000 draw iterations (4_000 + 8_000 draws total) took 505 seconds.\n",
      "The acceptance probability does not match the target. It is 0.7211912157883212, but should be close to 0.8. Try to increase the number of tuning steps.\n",
      "C:\\Users\\mltla\\Anaconda3\\lib\\site-packages\\arviz\\data\\io_pymc3.py:100: FutureWarning: Using `from_pymc3` without the model will be deprecated in a future release. Not using the model will return less accurate and less useful results. Make sure you use the model argument or call from_pymc3 within a model context.\n",
      "  FutureWarning,\n"
     ]
    },
    {
     "name": "stdout",
     "output_type": "stream",
     "text": [
      "                      mean     sd  hdi_3%  hdi_97%  mcse_mean  mcse_sd  \\\n",
      "difference of means  0.295  0.224  -0.118    0.724      0.003    0.003   \n",
      "difference of stds   0.046  0.131  -0.188    0.305      0.002    0.001   \n",
      "effect size          0.262  0.199  -0.106    0.640      0.003    0.002   \n",
      "\n",
      "                     ess_bulk  ess_tail  r_hat  \n",
      "difference of means    4546.0    3975.0    1.0  \n",
      "difference of stds     5270.0    4739.0    1.0  \n",
      "effect size            4636.0    4410.0    1.0  \n",
      "GAD-Q3\n"
     ]
    },
    {
     "name": "stderr",
     "output_type": "stream",
     "text": [
      "C:\\Users\\mltla\\Anaconda3\\lib\\site-packages\\ipykernel_launcher.py:63: FutureWarning: In v4.0, pm.sample will return an `arviz.InferenceData` object instead of a `MultiTrace` by default. You can pass return_inferencedata=True or return_inferencedata=False to be safe and silence this warning.\n",
      "Auto-assigning NUTS sampler...\n",
      "Initializing NUTS using jitter+adapt_diag...\n",
      "C:\\Users\\mltla\\Anaconda3\\lib\\site-packages\\theano\\tensor\\elemwise.py:826: RuntimeWarning: divide by zero encountered in log\n",
      "  variables = ufunc(*ufunc_args, **ufunc_kwargs)\n",
      "C:\\Users\\mltla\\Anaconda3\\lib\\site-packages\\theano\\tensor\\elemwise.py:826: RuntimeWarning: invalid value encountered in multiply\n",
      "  variables = ufunc(*ufunc_args, **ufunc_kwargs)\n",
      "C:\\Users\\mltla\\Anaconda3\\lib\\site-packages\\theano\\tensor\\elemwise.py:826: RuntimeWarning: invalid value encountered in log\n",
      "  variables = ufunc(*ufunc_args, **ufunc_kwargs)\n",
      "Multiprocess sampling (4 chains in 4 jobs)\n",
      "NUTS: [ν_minus_one, group2_std, group1_std, group2_mean, group1_mean]\n"
     ]
    },
    {
     "data": {
      "text/html": [
       "\n",
       "    <div>\n",
       "        <style>\n",
       "            /* Turns off some styling */\n",
       "            progress {\n",
       "                /* gets rid of default border in Firefox and Opera. */\n",
       "                border: none;\n",
       "                /* Needs to be in here for Safari polyfill so background images work as expected. */\n",
       "                background-size: auto;\n",
       "            }\n",
       "            .progress-bar-interrupted, .progress-bar-interrupted::-webkit-progress-bar {\n",
       "                background: #F44336;\n",
       "            }\n",
       "        </style>\n",
       "      <progress value='12000' class='' max='12000' style='width:300px; height:20px; vertical-align: middle;'></progress>\n",
       "      100.00% [12000/12000 08:14<00:00 Sampling 4 chains, 0 divergences]\n",
       "    </div>\n",
       "    "
      ],
      "text/plain": [
       "<IPython.core.display.HTML object>"
      ]
     },
     "metadata": {},
     "output_type": "display_data"
    },
    {
     "name": "stderr",
     "output_type": "stream",
     "text": [
      "Sampling 4 chains for 1_000 tune and 2_000 draw iterations (4_000 + 8_000 draws total) took 507 seconds.\n",
      "The acceptance probability does not match the target. It is 0.714318275675229, but should be close to 0.8. Try to increase the number of tuning steps.\n",
      "C:\\Users\\mltla\\Anaconda3\\lib\\site-packages\\arviz\\data\\io_pymc3.py:100: FutureWarning: Using `from_pymc3` without the model will be deprecated in a future release. Not using the model will return less accurate and less useful results. Make sure you use the model argument or call from_pymc3 within a model context.\n",
      "  FutureWarning,\n"
     ]
    },
    {
     "name": "stdout",
     "output_type": "stream",
     "text": [
      "                      mean     sd  hdi_3%  hdi_97%  mcse_mean  mcse_sd  \\\n",
      "difference of means  0.328  0.220  -0.102    0.721      0.003    0.002   \n",
      "difference of stds  -0.019  0.116  -0.252    0.196      0.001    0.001   \n",
      "effect size          0.299  0.200  -0.067    0.677      0.003    0.002   \n",
      "\n",
      "                     ess_bulk  ess_tail  r_hat  \n",
      "difference of means    5945.0    4939.0    1.0  \n",
      "difference of stds     6312.0    5564.0    1.0  \n",
      "effect size            6052.0    4916.0    1.0  \n",
      "GAD-Q4\n"
     ]
    },
    {
     "name": "stderr",
     "output_type": "stream",
     "text": [
      "C:\\Users\\mltla\\Anaconda3\\lib\\site-packages\\ipykernel_launcher.py:63: FutureWarning: In v4.0, pm.sample will return an `arviz.InferenceData` object instead of a `MultiTrace` by default. You can pass return_inferencedata=True or return_inferencedata=False to be safe and silence this warning.\n",
      "Auto-assigning NUTS sampler...\n",
      "Initializing NUTS using jitter+adapt_diag...\n",
      "C:\\Users\\mltla\\Anaconda3\\lib\\site-packages\\theano\\tensor\\elemwise.py:826: RuntimeWarning: divide by zero encountered in log\n",
      "  variables = ufunc(*ufunc_args, **ufunc_kwargs)\n",
      "C:\\Users\\mltla\\Anaconda3\\lib\\site-packages\\theano\\tensor\\elemwise.py:826: RuntimeWarning: invalid value encountered in multiply\n",
      "  variables = ufunc(*ufunc_args, **ufunc_kwargs)\n",
      "C:\\Users\\mltla\\Anaconda3\\lib\\site-packages\\theano\\tensor\\elemwise.py:826: RuntimeWarning: invalid value encountered in log\n",
      "  variables = ufunc(*ufunc_args, **ufunc_kwargs)\n",
      "Multiprocess sampling (4 chains in 4 jobs)\n",
      "NUTS: [ν_minus_one, group2_std, group1_std, group2_mean, group1_mean]\n"
     ]
    },
    {
     "data": {
      "text/html": [
       "\n",
       "    <div>\n",
       "        <style>\n",
       "            /* Turns off some styling */\n",
       "            progress {\n",
       "                /* gets rid of default border in Firefox and Opera. */\n",
       "                border: none;\n",
       "                /* Needs to be in here for Safari polyfill so background images work as expected. */\n",
       "                background-size: auto;\n",
       "            }\n",
       "            .progress-bar-interrupted, .progress-bar-interrupted::-webkit-progress-bar {\n",
       "                background: #F44336;\n",
       "            }\n",
       "        </style>\n",
       "      <progress value='12000' class='' max='12000' style='width:300px; height:20px; vertical-align: middle;'></progress>\n",
       "      100.00% [12000/12000 08:38<00:00 Sampling 4 chains, 0 divergences]\n",
       "    </div>\n",
       "    "
      ],
      "text/plain": [
       "<IPython.core.display.HTML object>"
      ]
     },
     "metadata": {},
     "output_type": "display_data"
    },
    {
     "name": "stderr",
     "output_type": "stream",
     "text": [
      "Sampling 4 chains for 1_000 tune and 2_000 draw iterations (4_000 + 8_000 draws total) took 531 seconds.\n",
      "C:\\Users\\mltla\\Anaconda3\\lib\\site-packages\\arviz\\data\\io_pymc3.py:100: FutureWarning: Using `from_pymc3` without the model will be deprecated in a future release. Not using the model will return less accurate and less useful results. Make sure you use the model argument or call from_pymc3 within a model context.\n",
      "  FutureWarning,\n"
     ]
    },
    {
     "name": "stdout",
     "output_type": "stream",
     "text": [
      "                      mean     sd  hdi_3%  hdi_97%  mcse_mean  mcse_sd  \\\n",
      "difference of means  0.125  0.222  -0.297    0.537      0.003    0.002   \n",
      "difference of stds  -0.002  0.112  -0.232    0.210      0.001    0.001   \n",
      "effect size          0.114  0.201  -0.273    0.481      0.003    0.002   \n",
      "\n",
      "                     ess_bulk  ess_tail  r_hat  \n",
      "difference of means    5964.0    5219.0    1.0  \n",
      "difference of stds     5876.0    6026.0    1.0  \n",
      "effect size            6083.0    5475.0    1.0  \n",
      "GAD-Q5\n"
     ]
    },
    {
     "name": "stderr",
     "output_type": "stream",
     "text": [
      "C:\\Users\\mltla\\Anaconda3\\lib\\site-packages\\ipykernel_launcher.py:63: FutureWarning: In v4.0, pm.sample will return an `arviz.InferenceData` object instead of a `MultiTrace` by default. You can pass return_inferencedata=True or return_inferencedata=False to be safe and silence this warning.\n",
      "Auto-assigning NUTS sampler...\n",
      "Initializing NUTS using jitter+adapt_diag...\n",
      "C:\\Users\\mltla\\Anaconda3\\lib\\site-packages\\theano\\tensor\\elemwise.py:826: RuntimeWarning: divide by zero encountered in log\n",
      "  variables = ufunc(*ufunc_args, **ufunc_kwargs)\n",
      "C:\\Users\\mltla\\Anaconda3\\lib\\site-packages\\theano\\tensor\\elemwise.py:826: RuntimeWarning: invalid value encountered in multiply\n",
      "  variables = ufunc(*ufunc_args, **ufunc_kwargs)\n",
      "C:\\Users\\mltla\\Anaconda3\\lib\\site-packages\\theano\\tensor\\elemwise.py:826: RuntimeWarning: invalid value encountered in log\n",
      "  variables = ufunc(*ufunc_args, **ufunc_kwargs)\n",
      "Multiprocess sampling (4 chains in 4 jobs)\n",
      "NUTS: [ν_minus_one, group2_std, group1_std, group2_mean, group1_mean]\n"
     ]
    },
    {
     "data": {
      "text/html": [
       "\n",
       "    <div>\n",
       "        <style>\n",
       "            /* Turns off some styling */\n",
       "            progress {\n",
       "                /* gets rid of default border in Firefox and Opera. */\n",
       "                border: none;\n",
       "                /* Needs to be in here for Safari polyfill so background images work as expected. */\n",
       "                background-size: auto;\n",
       "            }\n",
       "            .progress-bar-interrupted, .progress-bar-interrupted::-webkit-progress-bar {\n",
       "                background: #F44336;\n",
       "            }\n",
       "        </style>\n",
       "      <progress value='12000' class='' max='12000' style='width:300px; height:20px; vertical-align: middle;'></progress>\n",
       "      100.00% [12000/12000 08:35<00:00 Sampling 4 chains, 0 divergences]\n",
       "    </div>\n",
       "    "
      ],
      "text/plain": [
       "<IPython.core.display.HTML object>"
      ]
     },
     "metadata": {},
     "output_type": "display_data"
    },
    {
     "name": "stderr",
     "output_type": "stream",
     "text": [
      "Sampling 4 chains for 1_000 tune and 2_000 draw iterations (4_000 + 8_000 draws total) took 528 seconds.\n",
      "C:\\Users\\mltla\\Anaconda3\\lib\\site-packages\\arviz\\data\\io_pymc3.py:100: FutureWarning: Using `from_pymc3` without the model will be deprecated in a future release. Not using the model will return less accurate and less useful results. Make sure you use the model argument or call from_pymc3 within a model context.\n",
      "  FutureWarning,\n"
     ]
    },
    {
     "name": "stdout",
     "output_type": "stream",
     "text": [
      "                      mean     sd  hdi_3%  hdi_97%  mcse_mean  mcse_sd  \\\n",
      "difference of means  0.373  0.229  -0.079    0.782      0.003    0.002   \n",
      "difference of stds   0.156  0.134  -0.087    0.409      0.002    0.001   \n",
      "effect size          0.325  0.199  -0.049    0.705      0.003    0.002   \n",
      "\n",
      "                     ess_bulk  ess_tail  r_hat  \n",
      "difference of means    6167.0    4954.0    1.0  \n",
      "difference of stds     5307.0    4493.0    1.0  \n",
      "effect size            6297.0    5387.0    1.0  \n",
      "GAD-Q6\n"
     ]
    },
    {
     "name": "stderr",
     "output_type": "stream",
     "text": [
      "C:\\Users\\mltla\\Anaconda3\\lib\\site-packages\\ipykernel_launcher.py:63: FutureWarning: In v4.0, pm.sample will return an `arviz.InferenceData` object instead of a `MultiTrace` by default. You can pass return_inferencedata=True or return_inferencedata=False to be safe and silence this warning.\n",
      "Auto-assigning NUTS sampler...\n",
      "Initializing NUTS using jitter+adapt_diag...\n",
      "C:\\Users\\mltla\\Anaconda3\\lib\\site-packages\\theano\\tensor\\elemwise.py:826: RuntimeWarning: divide by zero encountered in log\n",
      "  variables = ufunc(*ufunc_args, **ufunc_kwargs)\n",
      "C:\\Users\\mltla\\Anaconda3\\lib\\site-packages\\theano\\tensor\\elemwise.py:826: RuntimeWarning: invalid value encountered in multiply\n",
      "  variables = ufunc(*ufunc_args, **ufunc_kwargs)\n",
      "C:\\Users\\mltla\\Anaconda3\\lib\\site-packages\\theano\\tensor\\elemwise.py:826: RuntimeWarning: invalid value encountered in log\n",
      "  variables = ufunc(*ufunc_args, **ufunc_kwargs)\n",
      "Multiprocess sampling (4 chains in 4 jobs)\n",
      "NUTS: [ν_minus_one, group2_std, group1_std, group2_mean, group1_mean]\n"
     ]
    },
    {
     "data": {
      "text/html": [
       "\n",
       "    <div>\n",
       "        <style>\n",
       "            /* Turns off some styling */\n",
       "            progress {\n",
       "                /* gets rid of default border in Firefox and Opera. */\n",
       "                border: none;\n",
       "                /* Needs to be in here for Safari polyfill so background images work as expected. */\n",
       "                background-size: auto;\n",
       "            }\n",
       "            .progress-bar-interrupted, .progress-bar-interrupted::-webkit-progress-bar {\n",
       "                background: #F44336;\n",
       "            }\n",
       "        </style>\n",
       "      <progress value='12000' class='' max='12000' style='width:300px; height:20px; vertical-align: middle;'></progress>\n",
       "      100.00% [12000/12000 08:18<00:00 Sampling 4 chains, 0 divergences]\n",
       "    </div>\n",
       "    "
      ],
      "text/plain": [
       "<IPython.core.display.HTML object>"
      ]
     },
     "metadata": {},
     "output_type": "display_data"
    },
    {
     "name": "stderr",
     "output_type": "stream",
     "text": [
      "Sampling 4 chains for 1_000 tune and 2_000 draw iterations (4_000 + 8_000 draws total) took 511 seconds.\n",
      "C:\\Users\\mltla\\Anaconda3\\lib\\site-packages\\arviz\\data\\io_pymc3.py:100: FutureWarning: Using `from_pymc3` without the model will be deprecated in a future release. Not using the model will return less accurate and less useful results. Make sure you use the model argument or call from_pymc3 within a model context.\n",
      "  FutureWarning,\n"
     ]
    },
    {
     "name": "stdout",
     "output_type": "stream",
     "text": [
      "                      mean     sd  hdi_3%  hdi_97%  mcse_mean  mcse_sd  \\\n",
      "difference of means  0.296  0.219  -0.116    0.704      0.003    0.002   \n",
      "difference of stds   0.008  0.102  -0.193    0.201      0.001    0.001   \n",
      "effect size          0.272  0.202  -0.113    0.640      0.003    0.002   \n",
      "\n",
      "                     ess_bulk  ess_tail  r_hat  \n",
      "difference of means    4807.0    4890.0    1.0  \n",
      "difference of stds     6370.0    5545.0    1.0  \n",
      "effect size            4965.0    4971.0    1.0  \n",
      "GAD-Q7\n"
     ]
    },
    {
     "name": "stderr",
     "output_type": "stream",
     "text": [
      "C:\\Users\\mltla\\Anaconda3\\lib\\site-packages\\ipykernel_launcher.py:63: FutureWarning: In v4.0, pm.sample will return an `arviz.InferenceData` object instead of a `MultiTrace` by default. You can pass return_inferencedata=True or return_inferencedata=False to be safe and silence this warning.\n",
      "Auto-assigning NUTS sampler...\n",
      "Initializing NUTS using jitter+adapt_diag...\n",
      "C:\\Users\\mltla\\Anaconda3\\lib\\site-packages\\theano\\tensor\\elemwise.py:826: RuntimeWarning: divide by zero encountered in log\n",
      "  variables = ufunc(*ufunc_args, **ufunc_kwargs)\n",
      "C:\\Users\\mltla\\Anaconda3\\lib\\site-packages\\theano\\tensor\\elemwise.py:826: RuntimeWarning: invalid value encountered in multiply\n",
      "  variables = ufunc(*ufunc_args, **ufunc_kwargs)\n",
      "C:\\Users\\mltla\\Anaconda3\\lib\\site-packages\\theano\\tensor\\elemwise.py:826: RuntimeWarning: invalid value encountered in log\n",
      "  variables = ufunc(*ufunc_args, **ufunc_kwargs)\n",
      "Multiprocess sampling (4 chains in 4 jobs)\n",
      "NUTS: [ν_minus_one, group2_std, group1_std, group2_mean, group1_mean]\n"
     ]
    },
    {
     "data": {
      "text/html": [
       "\n",
       "    <div>\n",
       "        <style>\n",
       "            /* Turns off some styling */\n",
       "            progress {\n",
       "                /* gets rid of default border in Firefox and Opera. */\n",
       "                border: none;\n",
       "                /* Needs to be in here for Safari polyfill so background images work as expected. */\n",
       "                background-size: auto;\n",
       "            }\n",
       "            .progress-bar-interrupted, .progress-bar-interrupted::-webkit-progress-bar {\n",
       "                background: #F44336;\n",
       "            }\n",
       "        </style>\n",
       "      <progress value='12000' class='' max='12000' style='width:300px; height:20px; vertical-align: middle;'></progress>\n",
       "      100.00% [12000/12000 08:18<00:00 Sampling 4 chains, 0 divergences]\n",
       "    </div>\n",
       "    "
      ],
      "text/plain": [
       "<IPython.core.display.HTML object>"
      ]
     },
     "metadata": {},
     "output_type": "display_data"
    },
    {
     "name": "stderr",
     "output_type": "stream",
     "text": [
      "Sampling 4 chains for 1_000 tune and 2_000 draw iterations (4_000 + 8_000 draws total) took 511 seconds.\n",
      "C:\\Users\\mltla\\Anaconda3\\lib\\site-packages\\arviz\\data\\io_pymc3.py:100: FutureWarning: Using `from_pymc3` without the model will be deprecated in a future release. Not using the model will return less accurate and less useful results. Make sure you use the model argument or call from_pymc3 within a model context.\n",
      "  FutureWarning,\n"
     ]
    },
    {
     "name": "stdout",
     "output_type": "stream",
     "text": [
      "                      mean     sd  hdi_3%  hdi_97%  mcse_mean  mcse_sd  \\\n",
      "difference of means  0.134  0.233  -0.310    0.575      0.003    0.003   \n",
      "difference of stds   0.077  0.139  -0.182    0.348      0.002    0.001   \n",
      "effect size          0.117  0.203  -0.273    0.499      0.003    0.002   \n",
      "\n",
      "                     ess_bulk  ess_tail  r_hat  \n",
      "difference of means    5813.0    5001.0    1.0  \n",
      "difference of stds     5301.0    5729.0    1.0  \n",
      "effect size            5974.0    5099.0    1.0  \n"
     ]
    }
   ],
   "source": [
    "Qs = [\"PHQ-Q1\", \"PHQ-Q2\", \"PHQ-Q3\",\"PHQ-Q4\",\"PHQ-Q5\",\"PHQ-Q6\",\"PHQ-Q7\", \"PHQ-Q8\", \"PHQ-Q9\", \"GAD-Q1\", \"GAD-Q2\", \"GAD-Q3\", \"GAD-Q4\", \"GAD-Q5\", \"GAD-Q6\", \"GAD-Q7\"]\n",
    "\n",
    "for Q in Qs:\n",
    "    print(Q)\n",
    "    man = data[(data.Gender == 'Man') & (data.depressionTreatment == 'Yes')]\n",
    "    manST = man[man.prolificVersion == 'stereotype threat']\n",
    "    manC = man[man.prolificVersion == 'control']\n",
    "    woman = data[(data.Gender == 'Woman') & (data.depressionTreatment == 'Yes')]\n",
    "    womanST = woman[woman.prolificVersion == 'stereotype threat']\n",
    "    womanC = woman[woman.prolificVersion == 'control']\n",
    "    other = data[(data.Gender == 'Other') & (data.depressionTreatment == 'Yes')]\n",
    "    otherST = other[other.prolificVersion == 'stereotype threat']\n",
    "    otherC = other[other.prolificVersion == 'control']\n",
    "\n",
    "    manST9 = list(map(int, manST[Q].to_numpy()))\n",
    "    manC9 = list(map(int, manC[Q].to_numpy()))\n",
    "    womanST9 = list(map(int, womanST[Q].to_numpy()))\n",
    "    womanC9 = list(map(int, womanC[Q].to_numpy()))\n",
    "    otherST9 = list(map(int, otherST[Q].to_numpy()))\n",
    "    otherC9 = list(map(int, otherC[Q].to_numpy()))\n",
    "\n",
    "    drug = womanST9\n",
    "    placebo = womanC9\n",
    "\n",
    "    y1 = np.array(drug)\n",
    "    y2 = np.array(placebo)\n",
    "    y = pd.DataFrame(\n",
    "        dict(value=np.r_[y1, y2], group=np.r_[[\"drug\"] * len(drug), [\"placebo\"] * len(placebo)])\n",
    "    )\n",
    "\n",
    "    μ_m = y.value.mean()\n",
    "    μ_s = y.value.std() * 2\n",
    "\n",
    "    with pm.Model() as model:\n",
    "        group1_mean = pm.Normal(\"group1_mean\", mu=μ_m, sd=μ_s)\n",
    "        group2_mean = pm.Normal(\"group2_mean\", mu=μ_m, sd=μ_s)\n",
    "\n",
    "    σ_low = 1\n",
    "    σ_high = 10\n",
    "\n",
    "    with model:\n",
    "        group1_std = pm.Uniform(\"group1_std\", lower=σ_low, upper=σ_high)\n",
    "        group2_std = pm.Uniform(\"group2_std\", lower=σ_low, upper=σ_high)\n",
    "\n",
    "    with model:\n",
    "        ν = pm.Exponential(\"ν_minus_one\", 1 / 29.0) + 1\n",
    "\n",
    "    with model:\n",
    "        λ1 = group1_std ** -2\n",
    "        λ2 = group2_std ** -2\n",
    "\n",
    "        group1 = pm.StudentT(\"drug\", nu=ν, mu=group1_mean, lam=λ1, observed=y1)\n",
    "        group2 = pm.StudentT(\"placebo\", nu=ν, mu=group2_mean, lam=λ2, observed=y2)\n",
    "\n",
    "    with model:\n",
    "        diff_of_means = pm.Deterministic(\"difference of means\", group1_mean - group2_mean)\n",
    "        diff_of_stds = pm.Deterministic(\"difference of stds\", group1_std - group2_std)\n",
    "        effect_size = pm.Deterministic(\n",
    "            \"effect size\", diff_of_means / np.sqrt((group1_std ** 2 + group2_std ** 2) / 2)\n",
    "        )\n",
    "\n",
    "    with model:\n",
    "        trace = pm.sample(2000)\n",
    "\n",
    "    print(pm.summary(trace, var_names=[\"difference of means\", \"difference of stds\", \"effect size\"]))"
   ]
  },
  {
   "cell_type": "code",
   "execution_count": 5,
   "metadata": {
    "scrolled": false
   },
   "outputs": [
    {
     "name": "stdout",
     "output_type": "stream",
     "text": [
      "PHQ-Q1\n"
     ]
    },
    {
     "name": "stderr",
     "output_type": "stream",
     "text": [
      "C:\\Users\\mltla\\Anaconda3\\lib\\site-packages\\ipykernel_launcher.py:63: FutureWarning: In v4.0, pm.sample will return an `arviz.InferenceData` object instead of a `MultiTrace` by default. You can pass return_inferencedata=True or return_inferencedata=False to be safe and silence this warning.\n",
      "Auto-assigning NUTS sampler...\n",
      "Initializing NUTS using jitter+adapt_diag...\n",
      "C:\\Users\\mltla\\Anaconda3\\lib\\site-packages\\theano\\tensor\\elemwise.py:826: RuntimeWarning: divide by zero encountered in log\n",
      "  variables = ufunc(*ufunc_args, **ufunc_kwargs)\n",
      "C:\\Users\\mltla\\Anaconda3\\lib\\site-packages\\theano\\tensor\\elemwise.py:826: RuntimeWarning: invalid value encountered in multiply\n",
      "  variables = ufunc(*ufunc_args, **ufunc_kwargs)\n",
      "C:\\Users\\mltla\\Anaconda3\\lib\\site-packages\\theano\\tensor\\elemwise.py:826: RuntimeWarning: invalid value encountered in log\n",
      "  variables = ufunc(*ufunc_args, **ufunc_kwargs)\n",
      "Multiprocess sampling (4 chains in 4 jobs)\n",
      "NUTS: [ν_minus_one, group2_std, group1_std, group2_mean, group1_mean]\n"
     ]
    },
    {
     "data": {
      "text/html": [
       "\n",
       "    <div>\n",
       "        <style>\n",
       "            /* Turns off some styling */\n",
       "            progress {\n",
       "                /* gets rid of default border in Firefox and Opera. */\n",
       "                border: none;\n",
       "                /* Needs to be in here for Safari polyfill so background images work as expected. */\n",
       "                background-size: auto;\n",
       "            }\n",
       "            .progress-bar-interrupted, .progress-bar-interrupted::-webkit-progress-bar {\n",
       "                background: #F44336;\n",
       "            }\n",
       "        </style>\n",
       "      <progress value='12000' class='' max='12000' style='width:300px; height:20px; vertical-align: middle;'></progress>\n",
       "      100.00% [12000/12000 06:37<00:00 Sampling 4 chains, 0 divergences]\n",
       "    </div>\n",
       "    "
      ],
      "text/plain": [
       "<IPython.core.display.HTML object>"
      ]
     },
     "metadata": {},
     "output_type": "display_data"
    },
    {
     "name": "stderr",
     "output_type": "stream",
     "text": [
      "Sampling 4 chains for 1_000 tune and 2_000 draw iterations (4_000 + 8_000 draws total) took 411 seconds.\n",
      "C:\\Users\\mltla\\Anaconda3\\lib\\site-packages\\arviz\\data\\io_pymc3.py:100: FutureWarning: Using `from_pymc3` without the model will be deprecated in a future release. Not using the model will return less accurate and less useful results. Make sure you use the model argument or call from_pymc3 within a model context.\n",
      "  FutureWarning,\n"
     ]
    },
    {
     "name": "stdout",
     "output_type": "stream",
     "text": [
      "                      mean     sd  hdi_3%  hdi_97%  mcse_mean  mcse_sd  \\\n",
      "difference of means  0.002  0.296  -0.553    0.560      0.004    0.004   \n",
      "difference of stds   0.000  0.163  -0.317    0.311      0.002    0.002   \n",
      "effect size          0.002  0.257  -0.470    0.497      0.003    0.003   \n",
      "\n",
      "                     ess_bulk  ess_tail  r_hat  \n",
      "difference of means    5271.0    4408.0    1.0  \n",
      "difference of stds     5895.0    5940.0    1.0  \n",
      "effect size            5435.0    4503.0    1.0  \n",
      "PHQ-Q2\n"
     ]
    },
    {
     "name": "stderr",
     "output_type": "stream",
     "text": [
      "C:\\Users\\mltla\\Anaconda3\\lib\\site-packages\\ipykernel_launcher.py:63: FutureWarning: In v4.0, pm.sample will return an `arviz.InferenceData` object instead of a `MultiTrace` by default. You can pass return_inferencedata=True or return_inferencedata=False to be safe and silence this warning.\n",
      "Auto-assigning NUTS sampler...\n",
      "Initializing NUTS using jitter+adapt_diag...\n",
      "C:\\Users\\mltla\\Anaconda3\\lib\\site-packages\\theano\\tensor\\elemwise.py:826: RuntimeWarning: divide by zero encountered in log\n",
      "  variables = ufunc(*ufunc_args, **ufunc_kwargs)\n",
      "C:\\Users\\mltla\\Anaconda3\\lib\\site-packages\\theano\\tensor\\elemwise.py:826: RuntimeWarning: invalid value encountered in multiply\n",
      "  variables = ufunc(*ufunc_args, **ufunc_kwargs)\n",
      "C:\\Users\\mltla\\Anaconda3\\lib\\site-packages\\theano\\tensor\\elemwise.py:826: RuntimeWarning: invalid value encountered in log\n",
      "  variables = ufunc(*ufunc_args, **ufunc_kwargs)\n",
      "Multiprocess sampling (4 chains in 4 jobs)\n",
      "NUTS: [ν_minus_one, group2_std, group1_std, group2_mean, group1_mean]\n"
     ]
    },
    {
     "data": {
      "text/html": [
       "\n",
       "    <div>\n",
       "        <style>\n",
       "            /* Turns off some styling */\n",
       "            progress {\n",
       "                /* gets rid of default border in Firefox and Opera. */\n",
       "                border: none;\n",
       "                /* Needs to be in here for Safari polyfill so background images work as expected. */\n",
       "                background-size: auto;\n",
       "            }\n",
       "            .progress-bar-interrupted, .progress-bar-interrupted::-webkit-progress-bar {\n",
       "                background: #F44336;\n",
       "            }\n",
       "        </style>\n",
       "      <progress value='12000' class='' max='12000' style='width:300px; height:20px; vertical-align: middle;'></progress>\n",
       "      100.00% [12000/12000 07:21<00:00 Sampling 4 chains, 0 divergences]\n",
       "    </div>\n",
       "    "
      ],
      "text/plain": [
       "<IPython.core.display.HTML object>"
      ]
     },
     "metadata": {},
     "output_type": "display_data"
    },
    {
     "name": "stderr",
     "output_type": "stream",
     "text": [
      "Sampling 4 chains for 1_000 tune and 2_000 draw iterations (4_000 + 8_000 draws total) took 456 seconds.\n",
      "C:\\Users\\mltla\\Anaconda3\\lib\\site-packages\\arviz\\data\\io_pymc3.py:100: FutureWarning: Using `from_pymc3` without the model will be deprecated in a future release. Not using the model will return less accurate and less useful results. Make sure you use the model argument or call from_pymc3 within a model context.\n",
      "  FutureWarning,\n"
     ]
    },
    {
     "name": "stdout",
     "output_type": "stream",
     "text": [
      "                      mean     sd  hdi_3%  hdi_97%  mcse_mean  mcse_sd  \\\n",
      "difference of means -0.215  0.290  -0.765    0.318      0.004    0.003   \n",
      "difference of stds   0.013  0.162  -0.284    0.341      0.002    0.002   \n",
      "effect size         -0.190  0.253  -0.682    0.267      0.003    0.002   \n",
      "\n",
      "                     ess_bulk  ess_tail  r_hat  \n",
      "difference of means    5919.0    5033.0    1.0  \n",
      "difference of stds     6433.0    5099.0    1.0  \n",
      "effect size            6229.0    5296.0    1.0  \n",
      "PHQ-Q3\n"
     ]
    },
    {
     "name": "stderr",
     "output_type": "stream",
     "text": [
      "C:\\Users\\mltla\\Anaconda3\\lib\\site-packages\\ipykernel_launcher.py:63: FutureWarning: In v4.0, pm.sample will return an `arviz.InferenceData` object instead of a `MultiTrace` by default. You can pass return_inferencedata=True or return_inferencedata=False to be safe and silence this warning.\n",
      "Auto-assigning NUTS sampler...\n",
      "Initializing NUTS using jitter+adapt_diag...\n",
      "C:\\Users\\mltla\\Anaconda3\\lib\\site-packages\\theano\\tensor\\elemwise.py:826: RuntimeWarning: divide by zero encountered in log\n",
      "  variables = ufunc(*ufunc_args, **ufunc_kwargs)\n",
      "C:\\Users\\mltla\\Anaconda3\\lib\\site-packages\\theano\\tensor\\elemwise.py:826: RuntimeWarning: invalid value encountered in multiply\n",
      "  variables = ufunc(*ufunc_args, **ufunc_kwargs)\n",
      "C:\\Users\\mltla\\Anaconda3\\lib\\site-packages\\theano\\tensor\\elemwise.py:826: RuntimeWarning: invalid value encountered in log\n",
      "  variables = ufunc(*ufunc_args, **ufunc_kwargs)\n",
      "Multiprocess sampling (4 chains in 4 jobs)\n",
      "NUTS: [ν_minus_one, group2_std, group1_std, group2_mean, group1_mean]\n"
     ]
    },
    {
     "data": {
      "text/html": [
       "\n",
       "    <div>\n",
       "        <style>\n",
       "            /* Turns off some styling */\n",
       "            progress {\n",
       "                /* gets rid of default border in Firefox and Opera. */\n",
       "                border: none;\n",
       "                /* Needs to be in here for Safari polyfill so background images work as expected. */\n",
       "                background-size: auto;\n",
       "            }\n",
       "            .progress-bar-interrupted, .progress-bar-interrupted::-webkit-progress-bar {\n",
       "                background: #F44336;\n",
       "            }\n",
       "        </style>\n",
       "      <progress value='12000' class='' max='12000' style='width:300px; height:20px; vertical-align: middle;'></progress>\n",
       "      100.00% [12000/12000 06:57<00:00 Sampling 4 chains, 0 divergences]\n",
       "    </div>\n",
       "    "
      ],
      "text/plain": [
       "<IPython.core.display.HTML object>"
      ]
     },
     "metadata": {},
     "output_type": "display_data"
    },
    {
     "name": "stderr",
     "output_type": "stream",
     "text": [
      "Sampling 4 chains for 1_000 tune and 2_000 draw iterations (4_000 + 8_000 draws total) took 431 seconds.\n",
      "C:\\Users\\mltla\\Anaconda3\\lib\\site-packages\\arviz\\data\\io_pymc3.py:100: FutureWarning: Using `from_pymc3` without the model will be deprecated in a future release. Not using the model will return less accurate and less useful results. Make sure you use the model argument or call from_pymc3 within a model context.\n",
      "  FutureWarning,\n"
     ]
    },
    {
     "name": "stdout",
     "output_type": "stream",
     "text": [
      "                      mean     sd  hdi_3%  hdi_97%  mcse_mean  mcse_sd  \\\n",
      "difference of means -0.126  0.304  -0.725    0.415      0.004    0.004   \n",
      "difference of stds   0.060  0.192  -0.278    0.447      0.003    0.002   \n",
      "effect size         -0.107  0.257  -0.601    0.356      0.003    0.003   \n",
      "\n",
      "                     ess_bulk  ess_tail  r_hat  \n",
      "difference of means    5280.0    4567.0    1.0  \n",
      "difference of stds     5362.0    5523.0    1.0  \n",
      "effect size            5525.0    4820.0    1.0  \n",
      "PHQ-Q4\n"
     ]
    },
    {
     "name": "stderr",
     "output_type": "stream",
     "text": [
      "C:\\Users\\mltla\\Anaconda3\\lib\\site-packages\\ipykernel_launcher.py:63: FutureWarning: In v4.0, pm.sample will return an `arviz.InferenceData` object instead of a `MultiTrace` by default. You can pass return_inferencedata=True or return_inferencedata=False to be safe and silence this warning.\n",
      "Auto-assigning NUTS sampler...\n",
      "Initializing NUTS using jitter+adapt_diag...\n",
      "C:\\Users\\mltla\\Anaconda3\\lib\\site-packages\\theano\\tensor\\elemwise.py:826: RuntimeWarning: divide by zero encountered in log\n",
      "  variables = ufunc(*ufunc_args, **ufunc_kwargs)\n",
      "C:\\Users\\mltla\\Anaconda3\\lib\\site-packages\\theano\\tensor\\elemwise.py:826: RuntimeWarning: invalid value encountered in multiply\n",
      "  variables = ufunc(*ufunc_args, **ufunc_kwargs)\n",
      "C:\\Users\\mltla\\Anaconda3\\lib\\site-packages\\theano\\tensor\\elemwise.py:826: RuntimeWarning: invalid value encountered in log\n",
      "  variables = ufunc(*ufunc_args, **ufunc_kwargs)\n",
      "Multiprocess sampling (4 chains in 4 jobs)\n",
      "NUTS: [ν_minus_one, group2_std, group1_std, group2_mean, group1_mean]\n"
     ]
    },
    {
     "data": {
      "text/html": [
       "\n",
       "    <div>\n",
       "        <style>\n",
       "            /* Turns off some styling */\n",
       "            progress {\n",
       "                /* gets rid of default border in Firefox and Opera. */\n",
       "                border: none;\n",
       "                /* Needs to be in here for Safari polyfill so background images work as expected. */\n",
       "                background-size: auto;\n",
       "            }\n",
       "            .progress-bar-interrupted, .progress-bar-interrupted::-webkit-progress-bar {\n",
       "                background: #F44336;\n",
       "            }\n",
       "        </style>\n",
       "      <progress value='12000' class='' max='12000' style='width:300px; height:20px; vertical-align: middle;'></progress>\n",
       "      100.00% [12000/12000 06:53<00:00 Sampling 4 chains, 0 divergences]\n",
       "    </div>\n",
       "    "
      ],
      "text/plain": [
       "<IPython.core.display.HTML object>"
      ]
     },
     "metadata": {},
     "output_type": "display_data"
    },
    {
     "name": "stderr",
     "output_type": "stream",
     "text": [
      "Sampling 4 chains for 1_000 tune and 2_000 draw iterations (4_000 + 8_000 draws total) took 428 seconds.\n",
      "C:\\Users\\mltla\\Anaconda3\\lib\\site-packages\\arviz\\data\\io_pymc3.py:100: FutureWarning: Using `from_pymc3` without the model will be deprecated in a future release. Not using the model will return less accurate and less useful results. Make sure you use the model argument or call from_pymc3 within a model context.\n",
      "  FutureWarning,\n"
     ]
    },
    {
     "name": "stdout",
     "output_type": "stream",
     "text": [
      "                      mean     sd  hdi_3%  hdi_97%  mcse_mean  mcse_sd  \\\n",
      "difference of means -0.082  0.284  -0.622    0.436      0.004    0.003   \n",
      "difference of stds   0.011  0.149  -0.268    0.313      0.002    0.001   \n",
      "effect size         -0.074  0.252  -0.537    0.402      0.003    0.003   \n",
      "\n",
      "                     ess_bulk  ess_tail  r_hat  \n",
      "difference of means    5402.0    4739.0    1.0  \n",
      "difference of stds     6248.0    5570.0    1.0  \n",
      "effect size            5583.0    4840.0    1.0  \n",
      "PHQ-Q5\n"
     ]
    },
    {
     "name": "stderr",
     "output_type": "stream",
     "text": [
      "C:\\Users\\mltla\\Anaconda3\\lib\\site-packages\\ipykernel_launcher.py:63: FutureWarning: In v4.0, pm.sample will return an `arviz.InferenceData` object instead of a `MultiTrace` by default. You can pass return_inferencedata=True or return_inferencedata=False to be safe and silence this warning.\n",
      "Auto-assigning NUTS sampler...\n",
      "Initializing NUTS using jitter+adapt_diag...\n",
      "C:\\Users\\mltla\\Anaconda3\\lib\\site-packages\\theano\\tensor\\elemwise.py:826: RuntimeWarning: divide by zero encountered in log\n",
      "  variables = ufunc(*ufunc_args, **ufunc_kwargs)\n",
      "C:\\Users\\mltla\\Anaconda3\\lib\\site-packages\\theano\\tensor\\elemwise.py:826: RuntimeWarning: invalid value encountered in multiply\n",
      "  variables = ufunc(*ufunc_args, **ufunc_kwargs)\n",
      "C:\\Users\\mltla\\Anaconda3\\lib\\site-packages\\theano\\tensor\\elemwise.py:826: RuntimeWarning: invalid value encountered in log\n",
      "  variables = ufunc(*ufunc_args, **ufunc_kwargs)\n",
      "Multiprocess sampling (4 chains in 4 jobs)\n",
      "NUTS: [ν_minus_one, group2_std, group1_std, group2_mean, group1_mean]\n"
     ]
    },
    {
     "data": {
      "text/html": [
       "\n",
       "    <div>\n",
       "        <style>\n",
       "            /* Turns off some styling */\n",
       "            progress {\n",
       "                /* gets rid of default border in Firefox and Opera. */\n",
       "                border: none;\n",
       "                /* Needs to be in here for Safari polyfill so background images work as expected. */\n",
       "                background-size: auto;\n",
       "            }\n",
       "            .progress-bar-interrupted, .progress-bar-interrupted::-webkit-progress-bar {\n",
       "                background: #F44336;\n",
       "            }\n",
       "        </style>\n",
       "      <progress value='12000' class='' max='12000' style='width:300px; height:20px; vertical-align: middle;'></progress>\n",
       "      100.00% [12000/12000 06:30<00:00 Sampling 4 chains, 0 divergences]\n",
       "    </div>\n",
       "    "
      ],
      "text/plain": [
       "<IPython.core.display.HTML object>"
      ]
     },
     "metadata": {},
     "output_type": "display_data"
    },
    {
     "name": "stderr",
     "output_type": "stream",
     "text": [
      "Sampling 4 chains for 1_000 tune and 2_000 draw iterations (4_000 + 8_000 draws total) took 407 seconds.\n",
      "C:\\Users\\mltla\\Anaconda3\\lib\\site-packages\\arviz\\data\\io_pymc3.py:100: FutureWarning: Using `from_pymc3` without the model will be deprecated in a future release. Not using the model will return less accurate and less useful results. Make sure you use the model argument or call from_pymc3 within a model context.\n",
      "  FutureWarning,\n"
     ]
    },
    {
     "name": "stdout",
     "output_type": "stream",
     "text": [
      "                      mean     sd  hdi_3%  hdi_97%  mcse_mean  mcse_sd  \\\n",
      "difference of means -0.015  0.303  -0.573    0.560      0.004    0.004   \n",
      "difference of stds  -0.036  0.174  -0.375    0.294      0.002    0.002   \n",
      "effect size         -0.013  0.259  -0.490    0.474      0.004    0.003   \n",
      "\n",
      "                     ess_bulk  ess_tail  r_hat  \n",
      "difference of means    4628.0    4182.0    1.0  \n",
      "difference of stds     5856.0    5205.0    1.0  \n",
      "effect size            4918.0    4270.0    1.0  \n",
      "PHQ-Q6\n"
     ]
    },
    {
     "name": "stderr",
     "output_type": "stream",
     "text": [
      "C:\\Users\\mltla\\Anaconda3\\lib\\site-packages\\ipykernel_launcher.py:63: FutureWarning: In v4.0, pm.sample will return an `arviz.InferenceData` object instead of a `MultiTrace` by default. You can pass return_inferencedata=True or return_inferencedata=False to be safe and silence this warning.\n",
      "Auto-assigning NUTS sampler...\n",
      "Initializing NUTS using jitter+adapt_diag...\n",
      "C:\\Users\\mltla\\Anaconda3\\lib\\site-packages\\theano\\tensor\\elemwise.py:826: RuntimeWarning: divide by zero encountered in log\n",
      "  variables = ufunc(*ufunc_args, **ufunc_kwargs)\n",
      "C:\\Users\\mltla\\Anaconda3\\lib\\site-packages\\theano\\tensor\\elemwise.py:826: RuntimeWarning: invalid value encountered in multiply\n",
      "  variables = ufunc(*ufunc_args, **ufunc_kwargs)\n",
      "C:\\Users\\mltla\\Anaconda3\\lib\\site-packages\\theano\\tensor\\elemwise.py:826: RuntimeWarning: invalid value encountered in log\n",
      "  variables = ufunc(*ufunc_args, **ufunc_kwargs)\n",
      "Multiprocess sampling (4 chains in 4 jobs)\n",
      "NUTS: [ν_minus_one, group2_std, group1_std, group2_mean, group1_mean]\n"
     ]
    },
    {
     "data": {
      "text/html": [
       "\n",
       "    <div>\n",
       "        <style>\n",
       "            /* Turns off some styling */\n",
       "            progress {\n",
       "                /* gets rid of default border in Firefox and Opera. */\n",
       "                border: none;\n",
       "                /* Needs to be in here for Safari polyfill so background images work as expected. */\n",
       "                background-size: auto;\n",
       "            }\n",
       "            .progress-bar-interrupted, .progress-bar-interrupted::-webkit-progress-bar {\n",
       "                background: #F44336;\n",
       "            }\n",
       "        </style>\n",
       "      <progress value='12000' class='' max='12000' style='width:300px; height:20px; vertical-align: middle;'></progress>\n",
       "      100.00% [12000/12000 06:58<00:00 Sampling 4 chains, 0 divergences]\n",
       "    </div>\n",
       "    "
      ],
      "text/plain": [
       "<IPython.core.display.HTML object>"
      ]
     },
     "metadata": {},
     "output_type": "display_data"
    },
    {
     "name": "stderr",
     "output_type": "stream",
     "text": [
      "Sampling 4 chains for 1_000 tune and 2_000 draw iterations (4_000 + 8_000 draws total) took 432 seconds.\n",
      "C:\\Users\\mltla\\Anaconda3\\lib\\site-packages\\arviz\\data\\io_pymc3.py:100: FutureWarning: Using `from_pymc3` without the model will be deprecated in a future release. Not using the model will return less accurate and less useful results. Make sure you use the model argument or call from_pymc3 within a model context.\n",
      "  FutureWarning,\n"
     ]
    },
    {
     "name": "stdout",
     "output_type": "stream",
     "text": [
      "                      mean     sd  hdi_3%  hdi_97%  mcse_mean  mcse_sd  \\\n",
      "difference of means -0.228  0.318  -0.833    0.355      0.004    0.003   \n",
      "difference of stds   0.151  0.214  -0.249    0.546      0.003    0.002   \n",
      "effect size         -0.187  0.258  -0.661    0.303      0.003    0.003   \n",
      "\n",
      "                     ess_bulk  ess_tail  r_hat  \n",
      "difference of means    5657.0    5278.0    1.0  \n",
      "difference of stds     5533.0    5652.0    1.0  \n",
      "effect size            5954.0    5505.0    1.0  \n",
      "PHQ-Q7\n"
     ]
    },
    {
     "name": "stderr",
     "output_type": "stream",
     "text": [
      "C:\\Users\\mltla\\Anaconda3\\lib\\site-packages\\ipykernel_launcher.py:63: FutureWarning: In v4.0, pm.sample will return an `arviz.InferenceData` object instead of a `MultiTrace` by default. You can pass return_inferencedata=True or return_inferencedata=False to be safe and silence this warning.\n",
      "Auto-assigning NUTS sampler...\n",
      "Initializing NUTS using jitter+adapt_diag...\n",
      "C:\\Users\\mltla\\Anaconda3\\lib\\site-packages\\theano\\tensor\\elemwise.py:826: RuntimeWarning: divide by zero encountered in log\n",
      "  variables = ufunc(*ufunc_args, **ufunc_kwargs)\n",
      "C:\\Users\\mltla\\Anaconda3\\lib\\site-packages\\theano\\tensor\\elemwise.py:826: RuntimeWarning: invalid value encountered in multiply\n",
      "  variables = ufunc(*ufunc_args, **ufunc_kwargs)\n",
      "C:\\Users\\mltla\\Anaconda3\\lib\\site-packages\\theano\\tensor\\elemwise.py:826: RuntimeWarning: invalid value encountered in log\n",
      "  variables = ufunc(*ufunc_args, **ufunc_kwargs)\n",
      "Multiprocess sampling (4 chains in 4 jobs)\n",
      "NUTS: [ν_minus_one, group2_std, group1_std, group2_mean, group1_mean]\n"
     ]
    },
    {
     "data": {
      "text/html": [
       "\n",
       "    <div>\n",
       "        <style>\n",
       "            /* Turns off some styling */\n",
       "            progress {\n",
       "                /* gets rid of default border in Firefox and Opera. */\n",
       "                border: none;\n",
       "                /* Needs to be in here for Safari polyfill so background images work as expected. */\n",
       "                background-size: auto;\n",
       "            }\n",
       "            .progress-bar-interrupted, .progress-bar-interrupted::-webkit-progress-bar {\n",
       "                background: #F44336;\n",
       "            }\n",
       "        </style>\n",
       "      <progress value='12000' class='' max='12000' style='width:300px; height:20px; vertical-align: middle;'></progress>\n",
       "      100.00% [12000/12000 07:38<00:00 Sampling 4 chains, 0 divergences]\n",
       "    </div>\n",
       "    "
      ],
      "text/plain": [
       "<IPython.core.display.HTML object>"
      ]
     },
     "metadata": {},
     "output_type": "display_data"
    },
    {
     "name": "stderr",
     "output_type": "stream",
     "text": [
      "Sampling 4 chains for 1_000 tune and 2_000 draw iterations (4_000 + 8_000 draws total) took 474 seconds.\n",
      "C:\\Users\\mltla\\Anaconda3\\lib\\site-packages\\arviz\\data\\io_pymc3.py:100: FutureWarning: Using `from_pymc3` without the model will be deprecated in a future release. Not using the model will return less accurate and less useful results. Make sure you use the model argument or call from_pymc3 within a model context.\n",
      "  FutureWarning,\n"
     ]
    },
    {
     "name": "stdout",
     "output_type": "stream",
     "text": [
      "                      mean     sd  hdi_3%  hdi_97%  mcse_mean  mcse_sd  \\\n",
      "difference of means -0.219  0.314  -0.778    0.368      0.004    0.003   \n",
      "difference of stds   0.068  0.205  -0.303    0.476      0.003    0.002   \n",
      "effect size         -0.182  0.258  -0.665    0.283      0.003    0.003   \n",
      "\n",
      "                     ess_bulk  ess_tail  r_hat  \n",
      "difference of means    5382.0    4980.0    1.0  \n",
      "difference of stds     5318.0    5476.0    1.0  \n",
      "effect size            5567.0    5564.0    1.0  \n",
      "PHQ-Q8\n"
     ]
    },
    {
     "name": "stderr",
     "output_type": "stream",
     "text": [
      "C:\\Users\\mltla\\Anaconda3\\lib\\site-packages\\ipykernel_launcher.py:63: FutureWarning: In v4.0, pm.sample will return an `arviz.InferenceData` object instead of a `MultiTrace` by default. You can pass return_inferencedata=True or return_inferencedata=False to be safe and silence this warning.\n",
      "Auto-assigning NUTS sampler...\n",
      "Initializing NUTS using jitter+adapt_diag...\n",
      "C:\\Users\\mltla\\Anaconda3\\lib\\site-packages\\theano\\tensor\\elemwise.py:826: RuntimeWarning: divide by zero encountered in log\n",
      "  variables = ufunc(*ufunc_args, **ufunc_kwargs)\n",
      "C:\\Users\\mltla\\Anaconda3\\lib\\site-packages\\theano\\tensor\\elemwise.py:826: RuntimeWarning: invalid value encountered in multiply\n",
      "  variables = ufunc(*ufunc_args, **ufunc_kwargs)\n",
      "C:\\Users\\mltla\\Anaconda3\\lib\\site-packages\\theano\\tensor\\elemwise.py:826: RuntimeWarning: invalid value encountered in log\n",
      "  variables = ufunc(*ufunc_args, **ufunc_kwargs)\n",
      "Multiprocess sampling (4 chains in 4 jobs)\n",
      "NUTS: [ν_minus_one, group2_std, group1_std, group2_mean, group1_mean]\n"
     ]
    },
    {
     "data": {
      "text/html": [
       "\n",
       "    <div>\n",
       "        <style>\n",
       "            /* Turns off some styling */\n",
       "            progress {\n",
       "                /* gets rid of default border in Firefox and Opera. */\n",
       "                border: none;\n",
       "                /* Needs to be in here for Safari polyfill so background images work as expected. */\n",
       "                background-size: auto;\n",
       "            }\n",
       "            .progress-bar-interrupted, .progress-bar-interrupted::-webkit-progress-bar {\n",
       "                background: #F44336;\n",
       "            }\n",
       "        </style>\n",
       "      <progress value='12000' class='' max='12000' style='width:300px; height:20px; vertical-align: middle;'></progress>\n",
       "      100.00% [12000/12000 07:17<00:00 Sampling 4 chains, 0 divergences]\n",
       "    </div>\n",
       "    "
      ],
      "text/plain": [
       "<IPython.core.display.HTML object>"
      ]
     },
     "metadata": {},
     "output_type": "display_data"
    },
    {
     "name": "stderr",
     "output_type": "stream",
     "text": [
      "Sampling 4 chains for 1_000 tune and 2_000 draw iterations (4_000 + 8_000 draws total) took 454 seconds.\n",
      "C:\\Users\\mltla\\Anaconda3\\lib\\site-packages\\arviz\\data\\io_pymc3.py:100: FutureWarning: Using `from_pymc3` without the model will be deprecated in a future release. Not using the model will return less accurate and less useful results. Make sure you use the model argument or call from_pymc3 within a model context.\n",
      "  FutureWarning,\n"
     ]
    },
    {
     "name": "stdout",
     "output_type": "stream",
     "text": [
      "                      mean     sd  hdi_3%  hdi_97%  mcse_mean  mcse_sd  \\\n",
      "difference of means -0.234  0.289  -0.762    0.328      0.004    0.003   \n",
      "difference of stds  -0.062  0.130  -0.330    0.171      0.002    0.001   \n",
      "effect size         -0.212  0.261  -0.708    0.268      0.003    0.003   \n",
      "\n",
      "                     ess_bulk  ess_tail  r_hat  \n",
      "difference of means    5436.0    4476.0    1.0  \n",
      "difference of stds     5271.0    5433.0    1.0  \n",
      "effect size            5631.0    4762.0    1.0  \n",
      "PHQ-Q9\n"
     ]
    },
    {
     "name": "stderr",
     "output_type": "stream",
     "text": [
      "C:\\Users\\mltla\\Anaconda3\\lib\\site-packages\\ipykernel_launcher.py:63: FutureWarning: In v4.0, pm.sample will return an `arviz.InferenceData` object instead of a `MultiTrace` by default. You can pass return_inferencedata=True or return_inferencedata=False to be safe and silence this warning.\n",
      "Auto-assigning NUTS sampler...\n",
      "Initializing NUTS using jitter+adapt_diag...\n",
      "C:\\Users\\mltla\\Anaconda3\\lib\\site-packages\\theano\\tensor\\elemwise.py:826: RuntimeWarning: divide by zero encountered in log\n",
      "  variables = ufunc(*ufunc_args, **ufunc_kwargs)\n",
      "C:\\Users\\mltla\\Anaconda3\\lib\\site-packages\\theano\\tensor\\elemwise.py:826: RuntimeWarning: invalid value encountered in multiply\n",
      "  variables = ufunc(*ufunc_args, **ufunc_kwargs)\n",
      "C:\\Users\\mltla\\Anaconda3\\lib\\site-packages\\theano\\tensor\\elemwise.py:826: RuntimeWarning: invalid value encountered in log\n",
      "  variables = ufunc(*ufunc_args, **ufunc_kwargs)\n",
      "Multiprocess sampling (4 chains in 4 jobs)\n",
      "NUTS: [ν_minus_one, group2_std, group1_std, group2_mean, group1_mean]\n"
     ]
    },
    {
     "data": {
      "text/html": [
       "\n",
       "    <div>\n",
       "        <style>\n",
       "            /* Turns off some styling */\n",
       "            progress {\n",
       "                /* gets rid of default border in Firefox and Opera. */\n",
       "                border: none;\n",
       "                /* Needs to be in here for Safari polyfill so background images work as expected. */\n",
       "                background-size: auto;\n",
       "            }\n",
       "            .progress-bar-interrupted, .progress-bar-interrupted::-webkit-progress-bar {\n",
       "                background: #F44336;\n",
       "            }\n",
       "        </style>\n",
       "      <progress value='12000' class='' max='12000' style='width:300px; height:20px; vertical-align: middle;'></progress>\n",
       "      100.00% [12000/12000 07:33<00:00 Sampling 4 chains, 0 divergences]\n",
       "    </div>\n",
       "    "
      ],
      "text/plain": [
       "<IPython.core.display.HTML object>"
      ]
     },
     "metadata": {},
     "output_type": "display_data"
    },
    {
     "name": "stderr",
     "output_type": "stream",
     "text": [
      "Sampling 4 chains for 1_000 tune and 2_000 draw iterations (4_000 + 8_000 draws total) took 470 seconds.\n",
      "C:\\Users\\mltla\\Anaconda3\\lib\\site-packages\\arviz\\data\\io_pymc3.py:100: FutureWarning: Using `from_pymc3` without the model will be deprecated in a future release. Not using the model will return less accurate and less useful results. Make sure you use the model argument or call from_pymc3 within a model context.\n",
      "  FutureWarning,\n"
     ]
    },
    {
     "name": "stdout",
     "output_type": "stream",
     "text": [
      "                      mean     sd  hdi_3%  hdi_97%  mcse_mean  mcse_sd  \\\n",
      "difference of means -0.086  0.302  -0.675    0.461      0.004    0.003   \n",
      "difference of stds  -0.018  0.182  -0.365    0.342      0.002    0.002   \n",
      "effect size         -0.073  0.257  -0.548    0.411      0.003    0.003   \n",
      "\n",
      "                     ess_bulk  ess_tail  r_hat  \n",
      "difference of means    6040.0    5613.0    1.0  \n",
      "difference of stds     5700.0    6141.0    1.0  \n",
      "effect size            6355.0    5700.0    1.0  \n",
      "GAD-Q1\n"
     ]
    },
    {
     "name": "stderr",
     "output_type": "stream",
     "text": [
      "C:\\Users\\mltla\\Anaconda3\\lib\\site-packages\\ipykernel_launcher.py:63: FutureWarning: In v4.0, pm.sample will return an `arviz.InferenceData` object instead of a `MultiTrace` by default. You can pass return_inferencedata=True or return_inferencedata=False to be safe and silence this warning.\n",
      "Auto-assigning NUTS sampler...\n",
      "Initializing NUTS using jitter+adapt_diag...\n",
      "C:\\Users\\mltla\\Anaconda3\\lib\\site-packages\\theano\\tensor\\elemwise.py:826: RuntimeWarning: divide by zero encountered in log\n",
      "  variables = ufunc(*ufunc_args, **ufunc_kwargs)\n",
      "C:\\Users\\mltla\\Anaconda3\\lib\\site-packages\\theano\\tensor\\elemwise.py:826: RuntimeWarning: invalid value encountered in multiply\n",
      "  variables = ufunc(*ufunc_args, **ufunc_kwargs)\n",
      "C:\\Users\\mltla\\Anaconda3\\lib\\site-packages\\theano\\tensor\\elemwise.py:826: RuntimeWarning: invalid value encountered in log\n",
      "  variables = ufunc(*ufunc_args, **ufunc_kwargs)\n",
      "Multiprocess sampling (4 chains in 4 jobs)\n",
      "NUTS: [ν_minus_one, group2_std, group1_std, group2_mean, group1_mean]\n"
     ]
    },
    {
     "data": {
      "text/html": [
       "\n",
       "    <div>\n",
       "        <style>\n",
       "            /* Turns off some styling */\n",
       "            progress {\n",
       "                /* gets rid of default border in Firefox and Opera. */\n",
       "                border: none;\n",
       "                /* Needs to be in here for Safari polyfill so background images work as expected. */\n",
       "                background-size: auto;\n",
       "            }\n",
       "            .progress-bar-interrupted, .progress-bar-interrupted::-webkit-progress-bar {\n",
       "                background: #F44336;\n",
       "            }\n",
       "        </style>\n",
       "      <progress value='12000' class='' max='12000' style='width:300px; height:20px; vertical-align: middle;'></progress>\n",
       "      100.00% [12000/12000 07:19<00:00 Sampling 4 chains, 0 divergences]\n",
       "    </div>\n",
       "    "
      ],
      "text/plain": [
       "<IPython.core.display.HTML object>"
      ]
     },
     "metadata": {},
     "output_type": "display_data"
    },
    {
     "name": "stderr",
     "output_type": "stream",
     "text": [
      "Sampling 4 chains for 1_000 tune and 2_000 draw iterations (4_000 + 8_000 draws total) took 455 seconds.\n",
      "C:\\Users\\mltla\\Anaconda3\\lib\\site-packages\\arviz\\data\\io_pymc3.py:100: FutureWarning: Using `from_pymc3` without the model will be deprecated in a future release. Not using the model will return less accurate and less useful results. Make sure you use the model argument or call from_pymc3 within a model context.\n",
      "  FutureWarning,\n"
     ]
    },
    {
     "name": "stdout",
     "output_type": "stream",
     "text": [
      "                      mean     sd  hdi_3%  hdi_97%  mcse_mean  mcse_sd  \\\n",
      "difference of means -0.510  0.294  -1.051    0.051      0.004    0.003   \n",
      "difference of stds  -0.007  0.149  -0.283    0.288      0.002    0.001   \n",
      "effect size         -0.454  0.262  -0.939    0.046      0.004    0.003   \n",
      "\n",
      "                     ess_bulk  ess_tail  r_hat  \n",
      "difference of means    5149.0    4800.0    1.0  \n",
      "difference of stds     6053.0    5474.0    1.0  \n",
      "effect size            5334.0    4755.0    1.0  \n",
      "GAD-Q2\n"
     ]
    },
    {
     "name": "stderr",
     "output_type": "stream",
     "text": [
      "C:\\Users\\mltla\\Anaconda3\\lib\\site-packages\\ipykernel_launcher.py:63: FutureWarning: In v4.0, pm.sample will return an `arviz.InferenceData` object instead of a `MultiTrace` by default. You can pass return_inferencedata=True or return_inferencedata=False to be safe and silence this warning.\n",
      "Auto-assigning NUTS sampler...\n",
      "Initializing NUTS using jitter+adapt_diag...\n",
      "C:\\Users\\mltla\\Anaconda3\\lib\\site-packages\\theano\\tensor\\elemwise.py:826: RuntimeWarning: divide by zero encountered in log\n",
      "  variables = ufunc(*ufunc_args, **ufunc_kwargs)\n",
      "C:\\Users\\mltla\\Anaconda3\\lib\\site-packages\\theano\\tensor\\elemwise.py:826: RuntimeWarning: invalid value encountered in multiply\n",
      "  variables = ufunc(*ufunc_args, **ufunc_kwargs)\n",
      "C:\\Users\\mltla\\Anaconda3\\lib\\site-packages\\theano\\tensor\\elemwise.py:826: RuntimeWarning: invalid value encountered in log\n",
      "  variables = ufunc(*ufunc_args, **ufunc_kwargs)\n",
      "Multiprocess sampling (4 chains in 4 jobs)\n",
      "NUTS: [ν_minus_one, group2_std, group1_std, group2_mean, group1_mean]\n"
     ]
    },
    {
     "data": {
      "text/html": [
       "\n",
       "    <div>\n",
       "        <style>\n",
       "            /* Turns off some styling */\n",
       "            progress {\n",
       "                /* gets rid of default border in Firefox and Opera. */\n",
       "                border: none;\n",
       "                /* Needs to be in here for Safari polyfill so background images work as expected. */\n",
       "                background-size: auto;\n",
       "            }\n",
       "            .progress-bar-interrupted, .progress-bar-interrupted::-webkit-progress-bar {\n",
       "                background: #F44336;\n",
       "            }\n",
       "        </style>\n",
       "      <progress value='12000' class='' max='12000' style='width:300px; height:20px; vertical-align: middle;'></progress>\n",
       "      100.00% [12000/12000 07:33<00:00 Sampling 4 chains, 0 divergences]\n",
       "    </div>\n",
       "    "
      ],
      "text/plain": [
       "<IPython.core.display.HTML object>"
      ]
     },
     "metadata": {},
     "output_type": "display_data"
    },
    {
     "name": "stderr",
     "output_type": "stream",
     "text": [
      "Sampling 4 chains for 1_000 tune and 2_000 draw iterations (4_000 + 8_000 draws total) took 470 seconds.\n",
      "C:\\Users\\mltla\\Anaconda3\\lib\\site-packages\\arviz\\data\\io_pymc3.py:100: FutureWarning: Using `from_pymc3` without the model will be deprecated in a future release. Not using the model will return less accurate and less useful results. Make sure you use the model argument or call from_pymc3 within a model context.\n",
      "  FutureWarning,\n"
     ]
    },
    {
     "name": "stdout",
     "output_type": "stream",
     "text": [
      "                      mean     sd  hdi_3%  hdi_97%  mcse_mean  mcse_sd  \\\n",
      "difference of means -0.141  0.293  -0.661    0.439      0.004    0.003   \n",
      "difference of stds   0.043  0.160  -0.273    0.340      0.002    0.002   \n",
      "effect size         -0.124  0.256  -0.599    0.359      0.004    0.003   \n",
      "\n",
      "                     ess_bulk  ess_tail  r_hat  \n",
      "difference of means    4597.0    4732.0    1.0  \n",
      "difference of stds     6240.0    5658.0    1.0  \n",
      "effect size            4771.0    4760.0    1.0  \n",
      "GAD-Q3\n"
     ]
    },
    {
     "name": "stderr",
     "output_type": "stream",
     "text": [
      "C:\\Users\\mltla\\Anaconda3\\lib\\site-packages\\ipykernel_launcher.py:63: FutureWarning: In v4.0, pm.sample will return an `arviz.InferenceData` object instead of a `MultiTrace` by default. You can pass return_inferencedata=True or return_inferencedata=False to be safe and silence this warning.\n",
      "Auto-assigning NUTS sampler...\n",
      "Initializing NUTS using jitter+adapt_diag...\n",
      "C:\\Users\\mltla\\Anaconda3\\lib\\site-packages\\theano\\tensor\\elemwise.py:826: RuntimeWarning: divide by zero encountered in log\n",
      "  variables = ufunc(*ufunc_args, **ufunc_kwargs)\n",
      "C:\\Users\\mltla\\Anaconda3\\lib\\site-packages\\theano\\tensor\\elemwise.py:826: RuntimeWarning: invalid value encountered in multiply\n",
      "  variables = ufunc(*ufunc_args, **ufunc_kwargs)\n",
      "C:\\Users\\mltla\\Anaconda3\\lib\\site-packages\\theano\\tensor\\elemwise.py:826: RuntimeWarning: invalid value encountered in log\n",
      "  variables = ufunc(*ufunc_args, **ufunc_kwargs)\n",
      "Multiprocess sampling (4 chains in 4 jobs)\n",
      "NUTS: [ν_minus_one, group2_std, group1_std, group2_mean, group1_mean]\n"
     ]
    },
    {
     "data": {
      "text/html": [
       "\n",
       "    <div>\n",
       "        <style>\n",
       "            /* Turns off some styling */\n",
       "            progress {\n",
       "                /* gets rid of default border in Firefox and Opera. */\n",
       "                border: none;\n",
       "                /* Needs to be in here for Safari polyfill so background images work as expected. */\n",
       "                background-size: auto;\n",
       "            }\n",
       "            .progress-bar-interrupted, .progress-bar-interrupted::-webkit-progress-bar {\n",
       "                background: #F44336;\n",
       "            }\n",
       "        </style>\n",
       "      <progress value='12000' class='' max='12000' style='width:300px; height:20px; vertical-align: middle;'></progress>\n",
       "      100.00% [12000/12000 07:48<00:00 Sampling 4 chains, 0 divergences]\n",
       "    </div>\n",
       "    "
      ],
      "text/plain": [
       "<IPython.core.display.HTML object>"
      ]
     },
     "metadata": {},
     "output_type": "display_data"
    },
    {
     "name": "stderr",
     "output_type": "stream",
     "text": [
      "Sampling 4 chains for 1_000 tune and 2_000 draw iterations (4_000 + 8_000 draws total) took 484 seconds.\n",
      "C:\\Users\\mltla\\Anaconda3\\lib\\site-packages\\arviz\\data\\io_pymc3.py:100: FutureWarning: Using `from_pymc3` without the model will be deprecated in a future release. Not using the model will return less accurate and less useful results. Make sure you use the model argument or call from_pymc3 within a model context.\n",
      "  FutureWarning,\n"
     ]
    },
    {
     "name": "stdout",
     "output_type": "stream",
     "text": [
      "                      mean     sd  hdi_3%  hdi_97%  mcse_mean  mcse_sd  \\\n",
      "difference of means -0.279  0.310  -0.871    0.285      0.004    0.003   \n",
      "difference of stds   0.005  0.197  -0.365    0.387      0.002    0.002   \n",
      "effect size         -0.235  0.260  -0.722    0.248      0.003    0.003   \n",
      "\n",
      "                     ess_bulk  ess_tail  r_hat  \n",
      "difference of means    5855.0    4973.0    1.0  \n",
      "difference of stds     6464.0    5337.0    1.0  \n",
      "effect size            6050.0    5353.0    1.0  \n",
      "GAD-Q4\n"
     ]
    },
    {
     "name": "stderr",
     "output_type": "stream",
     "text": [
      "C:\\Users\\mltla\\Anaconda3\\lib\\site-packages\\ipykernel_launcher.py:63: FutureWarning: In v4.0, pm.sample will return an `arviz.InferenceData` object instead of a `MultiTrace` by default. You can pass return_inferencedata=True or return_inferencedata=False to be safe and silence this warning.\n",
      "Auto-assigning NUTS sampler...\n",
      "Initializing NUTS using jitter+adapt_diag...\n",
      "C:\\Users\\mltla\\Anaconda3\\lib\\site-packages\\theano\\tensor\\elemwise.py:826: RuntimeWarning: divide by zero encountered in log\n",
      "  variables = ufunc(*ufunc_args, **ufunc_kwargs)\n",
      "C:\\Users\\mltla\\Anaconda3\\lib\\site-packages\\theano\\tensor\\elemwise.py:826: RuntimeWarning: invalid value encountered in multiply\n",
      "  variables = ufunc(*ufunc_args, **ufunc_kwargs)\n",
      "C:\\Users\\mltla\\Anaconda3\\lib\\site-packages\\theano\\tensor\\elemwise.py:826: RuntimeWarning: invalid value encountered in log\n",
      "  variables = ufunc(*ufunc_args, **ufunc_kwargs)\n",
      "Multiprocess sampling (4 chains in 4 jobs)\n",
      "NUTS: [ν_minus_one, group2_std, group1_std, group2_mean, group1_mean]\n"
     ]
    },
    {
     "data": {
      "text/html": [
       "\n",
       "    <div>\n",
       "        <style>\n",
       "            /* Turns off some styling */\n",
       "            progress {\n",
       "                /* gets rid of default border in Firefox and Opera. */\n",
       "                border: none;\n",
       "                /* Needs to be in here for Safari polyfill so background images work as expected. */\n",
       "                background-size: auto;\n",
       "            }\n",
       "            .progress-bar-interrupted, .progress-bar-interrupted::-webkit-progress-bar {\n",
       "                background: #F44336;\n",
       "            }\n",
       "        </style>\n",
       "      <progress value='12000' class='' max='12000' style='width:300px; height:20px; vertical-align: middle;'></progress>\n",
       "      100.00% [12000/12000 07:39<00:00 Sampling 4 chains, 0 divergences]\n",
       "    </div>\n",
       "    "
      ],
      "text/plain": [
       "<IPython.core.display.HTML object>"
      ]
     },
     "metadata": {},
     "output_type": "display_data"
    },
    {
     "name": "stderr",
     "output_type": "stream",
     "text": [
      "Sampling 4 chains for 1_000 tune and 2_000 draw iterations (4_000 + 8_000 draws total) took 476 seconds.\n",
      "C:\\Users\\mltla\\Anaconda3\\lib\\site-packages\\arviz\\data\\io_pymc3.py:100: FutureWarning: Using `from_pymc3` without the model will be deprecated in a future release. Not using the model will return less accurate and less useful results. Make sure you use the model argument or call from_pymc3 within a model context.\n",
      "  FutureWarning,\n"
     ]
    },
    {
     "name": "stdout",
     "output_type": "stream",
     "text": [
      "                      mean     sd  hdi_3%  hdi_97%  mcse_mean  mcse_sd  \\\n",
      "difference of means -0.207  0.283  -0.757    0.303      0.004    0.003   \n",
      "difference of stds   0.055  0.145  -0.217    0.341      0.002    0.001   \n",
      "effect size         -0.186  0.253  -0.676    0.272      0.003    0.003   \n",
      "\n",
      "                     ess_bulk  ess_tail  r_hat  \n",
      "difference of means    5543.0    5587.0    1.0  \n",
      "difference of stds     6962.0    5957.0    1.0  \n",
      "effect size            5739.0    5706.0    1.0  \n",
      "GAD-Q5\n"
     ]
    },
    {
     "name": "stderr",
     "output_type": "stream",
     "text": [
      "C:\\Users\\mltla\\Anaconda3\\lib\\site-packages\\ipykernel_launcher.py:63: FutureWarning: In v4.0, pm.sample will return an `arviz.InferenceData` object instead of a `MultiTrace` by default. You can pass return_inferencedata=True or return_inferencedata=False to be safe and silence this warning.\n",
      "Auto-assigning NUTS sampler...\n",
      "Initializing NUTS using jitter+adapt_diag...\n",
      "C:\\Users\\mltla\\Anaconda3\\lib\\site-packages\\theano\\tensor\\elemwise.py:826: RuntimeWarning: divide by zero encountered in log\n",
      "  variables = ufunc(*ufunc_args, **ufunc_kwargs)\n",
      "C:\\Users\\mltla\\Anaconda3\\lib\\site-packages\\theano\\tensor\\elemwise.py:826: RuntimeWarning: invalid value encountered in multiply\n",
      "  variables = ufunc(*ufunc_args, **ufunc_kwargs)\n",
      "C:\\Users\\mltla\\Anaconda3\\lib\\site-packages\\theano\\tensor\\elemwise.py:826: RuntimeWarning: invalid value encountered in log\n",
      "  variables = ufunc(*ufunc_args, **ufunc_kwargs)\n",
      "Multiprocess sampling (4 chains in 4 jobs)\n",
      "NUTS: [ν_minus_one, group2_std, group1_std, group2_mean, group1_mean]\n"
     ]
    },
    {
     "data": {
      "text/html": [
       "\n",
       "    <div>\n",
       "        <style>\n",
       "            /* Turns off some styling */\n",
       "            progress {\n",
       "                /* gets rid of default border in Firefox and Opera. */\n",
       "                border: none;\n",
       "                /* Needs to be in here for Safari polyfill so background images work as expected. */\n",
       "                background-size: auto;\n",
       "            }\n",
       "            .progress-bar-interrupted, .progress-bar-interrupted::-webkit-progress-bar {\n",
       "                background: #F44336;\n",
       "            }\n",
       "        </style>\n",
       "      <progress value='12000' class='' max='12000' style='width:300px; height:20px; vertical-align: middle;'></progress>\n",
       "      100.00% [12000/12000 07:15<00:00 Sampling 4 chains, 0 divergences]\n",
       "    </div>\n",
       "    "
      ],
      "text/plain": [
       "<IPython.core.display.HTML object>"
      ]
     },
     "metadata": {},
     "output_type": "display_data"
    },
    {
     "name": "stderr",
     "output_type": "stream",
     "text": [
      "Sampling 4 chains for 1_000 tune and 2_000 draw iterations (4_000 + 8_000 draws total) took 452 seconds.\n",
      "C:\\Users\\mltla\\Anaconda3\\lib\\site-packages\\arviz\\data\\io_pymc3.py:100: FutureWarning: Using `from_pymc3` without the model will be deprecated in a future release. Not using the model will return less accurate and less useful results. Make sure you use the model argument or call from_pymc3 within a model context.\n",
      "  FutureWarning,\n"
     ]
    },
    {
     "name": "stdout",
     "output_type": "stream",
     "text": [
      "                      mean     sd  hdi_3%  hdi_97%  mcse_mean  mcse_sd  \\\n",
      "difference of means -0.082  0.290  -0.623    0.466      0.004    0.003   \n",
      "difference of stds  -0.011  0.164  -0.313    0.311      0.002    0.001   \n",
      "effect size         -0.072  0.254  -0.540    0.408      0.004    0.003   \n",
      "\n",
      "                     ess_bulk  ess_tail  r_hat  \n",
      "difference of means    4673.0    4447.0    1.0  \n",
      "difference of stds     5928.0    5154.0    1.0  \n",
      "effect size            4890.0    4352.0    1.0  \n",
      "GAD-Q6\n"
     ]
    },
    {
     "name": "stderr",
     "output_type": "stream",
     "text": [
      "C:\\Users\\mltla\\Anaconda3\\lib\\site-packages\\ipykernel_launcher.py:63: FutureWarning: In v4.0, pm.sample will return an `arviz.InferenceData` object instead of a `MultiTrace` by default. You can pass return_inferencedata=True or return_inferencedata=False to be safe and silence this warning.\n",
      "Auto-assigning NUTS sampler...\n",
      "Initializing NUTS using jitter+adapt_diag...\n",
      "C:\\Users\\mltla\\Anaconda3\\lib\\site-packages\\theano\\tensor\\elemwise.py:826: RuntimeWarning: divide by zero encountered in log\n",
      "  variables = ufunc(*ufunc_args, **ufunc_kwargs)\n",
      "C:\\Users\\mltla\\Anaconda3\\lib\\site-packages\\theano\\tensor\\elemwise.py:826: RuntimeWarning: invalid value encountered in multiply\n",
      "  variables = ufunc(*ufunc_args, **ufunc_kwargs)\n",
      "C:\\Users\\mltla\\Anaconda3\\lib\\site-packages\\theano\\tensor\\elemwise.py:826: RuntimeWarning: invalid value encountered in log\n",
      "  variables = ufunc(*ufunc_args, **ufunc_kwargs)\n",
      "Multiprocess sampling (4 chains in 4 jobs)\n",
      "NUTS: [ν_minus_one, group2_std, group1_std, group2_mean, group1_mean]\n"
     ]
    },
    {
     "data": {
      "text/html": [
       "\n",
       "    <div>\n",
       "        <style>\n",
       "            /* Turns off some styling */\n",
       "            progress {\n",
       "                /* gets rid of default border in Firefox and Opera. */\n",
       "                border: none;\n",
       "                /* Needs to be in here for Safari polyfill so background images work as expected. */\n",
       "                background-size: auto;\n",
       "            }\n",
       "            .progress-bar-interrupted, .progress-bar-interrupted::-webkit-progress-bar {\n",
       "                background: #F44336;\n",
       "            }\n",
       "        </style>\n",
       "      <progress value='12000' class='' max='12000' style='width:300px; height:20px; vertical-align: middle;'></progress>\n",
       "      100.00% [12000/12000 07:17<00:00 Sampling 4 chains, 0 divergences]\n",
       "    </div>\n",
       "    "
      ],
      "text/plain": [
       "<IPython.core.display.HTML object>"
      ]
     },
     "metadata": {},
     "output_type": "display_data"
    },
    {
     "name": "stderr",
     "output_type": "stream",
     "text": [
      "Sampling 4 chains for 1_000 tune and 2_000 draw iterations (4_000 + 8_000 draws total) took 453 seconds.\n",
      "C:\\Users\\mltla\\Anaconda3\\lib\\site-packages\\arviz\\data\\io_pymc3.py:100: FutureWarning: Using `from_pymc3` without the model will be deprecated in a future release. Not using the model will return less accurate and less useful results. Make sure you use the model argument or call from_pymc3 within a model context.\n",
      "  FutureWarning,\n"
     ]
    },
    {
     "name": "stdout",
     "output_type": "stream",
     "text": [
      "                      mean     sd  hdi_3%  hdi_97%  mcse_mean  mcse_sd  \\\n",
      "difference of means -0.327  0.280  -0.851    0.204      0.004    0.003   \n",
      "difference of stds  -0.025  0.137  -0.305    0.232      0.002    0.001   \n",
      "effect size         -0.295  0.252  -0.765    0.183      0.004    0.003   \n",
      "\n",
      "                     ess_bulk  ess_tail  r_hat  \n",
      "difference of means    4803.0    4180.0    1.0  \n",
      "difference of stds     5825.0    4975.0    1.0  \n",
      "effect size            4793.0    4361.0    1.0  \n",
      "GAD-Q7\n"
     ]
    },
    {
     "name": "stderr",
     "output_type": "stream",
     "text": [
      "C:\\Users\\mltla\\Anaconda3\\lib\\site-packages\\ipykernel_launcher.py:63: FutureWarning: In v4.0, pm.sample will return an `arviz.InferenceData` object instead of a `MultiTrace` by default. You can pass return_inferencedata=True or return_inferencedata=False to be safe and silence this warning.\n",
      "Auto-assigning NUTS sampler...\n",
      "Initializing NUTS using jitter+adapt_diag...\n",
      "C:\\Users\\mltla\\Anaconda3\\lib\\site-packages\\theano\\tensor\\elemwise.py:826: RuntimeWarning: divide by zero encountered in log\n",
      "  variables = ufunc(*ufunc_args, **ufunc_kwargs)\n",
      "C:\\Users\\mltla\\Anaconda3\\lib\\site-packages\\theano\\tensor\\elemwise.py:826: RuntimeWarning: invalid value encountered in multiply\n",
      "  variables = ufunc(*ufunc_args, **ufunc_kwargs)\n",
      "C:\\Users\\mltla\\Anaconda3\\lib\\site-packages\\theano\\tensor\\elemwise.py:826: RuntimeWarning: invalid value encountered in log\n",
      "  variables = ufunc(*ufunc_args, **ufunc_kwargs)\n",
      "Multiprocess sampling (4 chains in 4 jobs)\n",
      "NUTS: [ν_minus_one, group2_std, group1_std, group2_mean, group1_mean]\n"
     ]
    },
    {
     "data": {
      "text/html": [
       "\n",
       "    <div>\n",
       "        <style>\n",
       "            /* Turns off some styling */\n",
       "            progress {\n",
       "                /* gets rid of default border in Firefox and Opera. */\n",
       "                border: none;\n",
       "                /* Needs to be in here for Safari polyfill so background images work as expected. */\n",
       "                background-size: auto;\n",
       "            }\n",
       "            .progress-bar-interrupted, .progress-bar-interrupted::-webkit-progress-bar {\n",
       "                background: #F44336;\n",
       "            }\n",
       "        </style>\n",
       "      <progress value='12000' class='' max='12000' style='width:300px; height:20px; vertical-align: middle;'></progress>\n",
       "      100.00% [12000/12000 07:46<00:00 Sampling 4 chains, 0 divergences]\n",
       "    </div>\n",
       "    "
      ],
      "text/plain": [
       "<IPython.core.display.HTML object>"
      ]
     },
     "metadata": {},
     "output_type": "display_data"
    },
    {
     "name": "stderr",
     "output_type": "stream",
     "text": [
      "Sampling 4 chains for 1_000 tune and 2_000 draw iterations (4_000 + 8_000 draws total) took 483 seconds.\n",
      "C:\\Users\\mltla\\Anaconda3\\lib\\site-packages\\arviz\\data\\io_pymc3.py:100: FutureWarning: Using `from_pymc3` without the model will be deprecated in a future release. Not using the model will return less accurate and less useful results. Make sure you use the model argument or call from_pymc3 within a model context.\n",
      "  FutureWarning,\n"
     ]
    },
    {
     "name": "stdout",
     "output_type": "stream",
     "text": [
      "                      mean     sd  hdi_3%  hdi_97%  mcse_mean  mcse_sd  \\\n",
      "difference of means -0.071  0.309  -0.653    0.507      0.004    0.003   \n",
      "difference of stds   0.100  0.201  -0.274    0.493      0.003    0.002   \n",
      "effect size         -0.059  0.256  -0.536    0.424      0.003    0.003   \n",
      "\n",
      "                     ess_bulk  ess_tail  r_hat  \n",
      "difference of means    6104.0    5609.0    1.0  \n",
      "difference of stds     5277.0    5001.0    1.0  \n",
      "effect size            6311.0    5670.0    1.0  \n"
     ]
    }
   ],
   "source": [
    "Qs = [\"PHQ-Q1\", \"PHQ-Q2\", \"PHQ-Q3\",\"PHQ-Q4\",\"PHQ-Q5\",\"PHQ-Q6\",\"PHQ-Q7\", \"PHQ-Q8\", \"PHQ-Q9\", \"GAD-Q1\", \"GAD-Q2\", \"GAD-Q3\", \"GAD-Q4\", \"GAD-Q5\", \"GAD-Q6\", \"GAD-Q7\"]\n",
    "\n",
    "for Q in Qs:\n",
    "    print(Q)\n",
    "    man = data[(data.Gender == 'Man') & (data.depressionTreatment == 'Yes')]\n",
    "    manST = man[man.prolificVersion == 'stereotype threat']\n",
    "    manC = man[man.prolificVersion == 'control']\n",
    "    woman = data[(data.Gender == 'Woman') & (data.depressionTreatment == 'Yes')]\n",
    "    womanST = woman[woman.prolificVersion == 'stereotype threat']\n",
    "    womanC = woman[woman.prolificVersion == 'control']\n",
    "    other = data[(data.Gender == 'Other') & (data.depressionTreatment == 'Yes')]\n",
    "    otherST = other[other.prolificVersion == 'stereotype threat']\n",
    "    otherC = other[other.prolificVersion == 'control']\n",
    "\n",
    "    manST9 = list(map(int, manST[Q].to_numpy()))\n",
    "    manC9 = list(map(int, manC[Q].to_numpy()))\n",
    "    womanST9 = list(map(int, womanST[Q].to_numpy()))\n",
    "    womanC9 = list(map(int, womanC[Q].to_numpy()))\n",
    "    otherST9 = list(map(int, otherST[Q].to_numpy()))\n",
    "    otherC9 = list(map(int, otherC[Q].to_numpy()))\n",
    "\n",
    "    drug = manST9\n",
    "    placebo = manC9\n",
    "\n",
    "    y1 = np.array(drug)\n",
    "    y2 = np.array(placebo)\n",
    "    y = pd.DataFrame(\n",
    "        dict(value=np.r_[y1, y2], group=np.r_[[\"drug\"] * len(drug), [\"placebo\"] * len(placebo)])\n",
    "    )\n",
    "\n",
    "    μ_m = y.value.mean()\n",
    "    μ_s = y.value.std() * 2\n",
    "\n",
    "    with pm.Model() as model:\n",
    "        group1_mean = pm.Normal(\"group1_mean\", mu=μ_m, sd=μ_s)\n",
    "        group2_mean = pm.Normal(\"group2_mean\", mu=μ_m, sd=μ_s)\n",
    "\n",
    "    σ_low = 1\n",
    "    σ_high = 10\n",
    "\n",
    "    with model:\n",
    "        group1_std = pm.Uniform(\"group1_std\", lower=σ_low, upper=σ_high)\n",
    "        group2_std = pm.Uniform(\"group2_std\", lower=σ_low, upper=σ_high)\n",
    "\n",
    "    with model:\n",
    "        ν = pm.Exponential(\"ν_minus_one\", 1 / 29.0) + 1\n",
    "\n",
    "    with model:\n",
    "        λ1 = group1_std ** -2\n",
    "        λ2 = group2_std ** -2\n",
    "\n",
    "        group1 = pm.StudentT(\"drug\", nu=ν, mu=group1_mean, lam=λ1, observed=y1)\n",
    "        group2 = pm.StudentT(\"placebo\", nu=ν, mu=group2_mean, lam=λ2, observed=y2)\n",
    "\n",
    "    with model:\n",
    "        diff_of_means = pm.Deterministic(\"difference of means\", group1_mean - group2_mean)\n",
    "        diff_of_stds = pm.Deterministic(\"difference of stds\", group1_std - group2_std)\n",
    "        effect_size = pm.Deterministic(\n",
    "            \"effect size\", diff_of_means / np.sqrt((group1_std ** 2 + group2_std ** 2) / 2)\n",
    "        )\n",
    "\n",
    "    with model:\n",
    "        trace = pm.sample(2000)\n",
    "\n",
    "    print(pm.summary(trace, var_names=[\"difference of means\", \"difference of stds\", \"effect size\"]))"
   ]
  },
  {
   "cell_type": "code",
   "execution_count": 6,
   "metadata": {
    "scrolled": false
   },
   "outputs": [
    {
     "name": "stdout",
     "output_type": "stream",
     "text": [
      "PHQ-Q1\n"
     ]
    },
    {
     "name": "stderr",
     "output_type": "stream",
     "text": [
      "C:\\Users\\mltla\\Anaconda3\\lib\\site-packages\\ipykernel_launcher.py:63: FutureWarning: In v4.0, pm.sample will return an `arviz.InferenceData` object instead of a `MultiTrace` by default. You can pass return_inferencedata=True or return_inferencedata=False to be safe and silence this warning.\n",
      "Auto-assigning NUTS sampler...\n",
      "Initializing NUTS using jitter+adapt_diag...\n",
      "C:\\Users\\mltla\\Anaconda3\\lib\\site-packages\\theano\\tensor\\elemwise.py:826: RuntimeWarning: divide by zero encountered in log\n",
      "  variables = ufunc(*ufunc_args, **ufunc_kwargs)\n",
      "C:\\Users\\mltla\\Anaconda3\\lib\\site-packages\\theano\\tensor\\elemwise.py:826: RuntimeWarning: invalid value encountered in multiply\n",
      "  variables = ufunc(*ufunc_args, **ufunc_kwargs)\n",
      "C:\\Users\\mltla\\Anaconda3\\lib\\site-packages\\theano\\tensor\\elemwise.py:826: RuntimeWarning: invalid value encountered in log\n",
      "  variables = ufunc(*ufunc_args, **ufunc_kwargs)\n",
      "Multiprocess sampling (4 chains in 4 jobs)\n",
      "NUTS: [ν_minus_one, group2_std, group1_std, group2_mean, group1_mean]\n"
     ]
    },
    {
     "data": {
      "text/html": [
       "\n",
       "    <div>\n",
       "        <style>\n",
       "            /* Turns off some styling */\n",
       "            progress {\n",
       "                /* gets rid of default border in Firefox and Opera. */\n",
       "                border: none;\n",
       "                /* Needs to be in here for Safari polyfill so background images work as expected. */\n",
       "                background-size: auto;\n",
       "            }\n",
       "            .progress-bar-interrupted, .progress-bar-interrupted::-webkit-progress-bar {\n",
       "                background: #F44336;\n",
       "            }\n",
       "        </style>\n",
       "      <progress value='12000' class='' max='12000' style='width:300px; height:20px; vertical-align: middle;'></progress>\n",
       "      100.00% [12000/12000 02:53<00:00 Sampling 4 chains, 0 divergences]\n",
       "    </div>\n",
       "    "
      ],
      "text/plain": [
       "<IPython.core.display.HTML object>"
      ]
     },
     "metadata": {},
     "output_type": "display_data"
    },
    {
     "name": "stderr",
     "output_type": "stream",
     "text": [
      "Sampling 4 chains for 1_000 tune and 2_000 draw iterations (4_000 + 8_000 draws total) took 189 seconds.\n",
      "C:\\Users\\mltla\\Anaconda3\\lib\\site-packages\\arviz\\data\\io_pymc3.py:100: FutureWarning: Using `from_pymc3` without the model will be deprecated in a future release. Not using the model will return less accurate and less useful results. Make sure you use the model argument or call from_pymc3 within a model context.\n",
      "  FutureWarning,\n"
     ]
    },
    {
     "name": "stdout",
     "output_type": "stream",
     "text": [
      "                      mean     sd  hdi_3%  hdi_97%  mcse_mean  mcse_sd  \\\n",
      "difference of means -0.527  1.108  -2.544    1.622      0.018    0.013   \n",
      "difference of stds   0.334  1.387  -2.149    3.204      0.020    0.015   \n",
      "effect size         -0.320  0.604  -1.487    0.781      0.009    0.006   \n",
      "\n",
      "                     ess_bulk  ess_tail  r_hat  \n",
      "difference of means    4008.0    3448.0    1.0  \n",
      "difference of stds     5346.0    5318.0    1.0  \n",
      "effect size            4913.0    4868.0    1.0  \n",
      "PHQ-Q2\n"
     ]
    },
    {
     "name": "stderr",
     "output_type": "stream",
     "text": [
      "C:\\Users\\mltla\\Anaconda3\\lib\\site-packages\\ipykernel_launcher.py:63: FutureWarning: In v4.0, pm.sample will return an `arviz.InferenceData` object instead of a `MultiTrace` by default. You can pass return_inferencedata=True or return_inferencedata=False to be safe and silence this warning.\n",
      "Auto-assigning NUTS sampler...\n",
      "Initializing NUTS using jitter+adapt_diag...\n",
      "C:\\Users\\mltla\\Anaconda3\\lib\\site-packages\\theano\\tensor\\elemwise.py:826: RuntimeWarning: divide by zero encountered in log\n",
      "  variables = ufunc(*ufunc_args, **ufunc_kwargs)\n",
      "C:\\Users\\mltla\\Anaconda3\\lib\\site-packages\\theano\\tensor\\elemwise.py:826: RuntimeWarning: invalid value encountered in multiply\n",
      "  variables = ufunc(*ufunc_args, **ufunc_kwargs)\n",
      "C:\\Users\\mltla\\Anaconda3\\lib\\site-packages\\theano\\tensor\\elemwise.py:826: RuntimeWarning: invalid value encountered in log\n",
      "  variables = ufunc(*ufunc_args, **ufunc_kwargs)\n",
      "Multiprocess sampling (4 chains in 4 jobs)\n",
      "NUTS: [ν_minus_one, group2_std, group1_std, group2_mean, group1_mean]\n"
     ]
    },
    {
     "data": {
      "text/html": [
       "\n",
       "    <div>\n",
       "        <style>\n",
       "            /* Turns off some styling */\n",
       "            progress {\n",
       "                /* gets rid of default border in Firefox and Opera. */\n",
       "                border: none;\n",
       "                /* Needs to be in here for Safari polyfill so background images work as expected. */\n",
       "                background-size: auto;\n",
       "            }\n",
       "            .progress-bar-interrupted, .progress-bar-interrupted::-webkit-progress-bar {\n",
       "                background: #F44336;\n",
       "            }\n",
       "        </style>\n",
       "      <progress value='12000' class='' max='12000' style='width:300px; height:20px; vertical-align: middle;'></progress>\n",
       "      100.00% [12000/12000 02:40<00:00 Sampling 4 chains, 0 divergences]\n",
       "    </div>\n",
       "    "
      ],
      "text/plain": [
       "<IPython.core.display.HTML object>"
      ]
     },
     "metadata": {},
     "output_type": "display_data"
    },
    {
     "name": "stderr",
     "output_type": "stream",
     "text": [
      "Sampling 4 chains for 1_000 tune and 2_000 draw iterations (4_000 + 8_000 draws total) took 177 seconds.\n",
      "C:\\Users\\mltla\\Anaconda3\\lib\\site-packages\\arviz\\data\\io_pymc3.py:100: FutureWarning: Using `from_pymc3` without the model will be deprecated in a future release. Not using the model will return less accurate and less useful results. Make sure you use the model argument or call from_pymc3 within a model context.\n",
      "  FutureWarning,\n"
     ]
    },
    {
     "name": "stdout",
     "output_type": "stream",
     "text": [
      "                      mean     sd  hdi_3%  hdi_97%  mcse_mean  mcse_sd  \\\n",
      "difference of means  0.071  0.830  -1.511    1.582      0.011    0.009   \n",
      "difference of stds   0.228  1.136  -1.715    2.630      0.015    0.011   \n",
      "effect size          0.050  0.531  -0.951    1.048      0.006    0.005   \n",
      "\n",
      "                     ess_bulk  ess_tail  r_hat  \n",
      "difference of means    6262.0    5040.0    1.0  \n",
      "difference of stds     7152.0    6323.0    1.0  \n",
      "effect size            7254.0    5797.0    1.0  \n",
      "PHQ-Q3\n"
     ]
    },
    {
     "name": "stderr",
     "output_type": "stream",
     "text": [
      "C:\\Users\\mltla\\Anaconda3\\lib\\site-packages\\ipykernel_launcher.py:63: FutureWarning: In v4.0, pm.sample will return an `arviz.InferenceData` object instead of a `MultiTrace` by default. You can pass return_inferencedata=True or return_inferencedata=False to be safe and silence this warning.\n",
      "Auto-assigning NUTS sampler...\n",
      "Initializing NUTS using jitter+adapt_diag...\n",
      "C:\\Users\\mltla\\Anaconda3\\lib\\site-packages\\theano\\tensor\\elemwise.py:826: RuntimeWarning: divide by zero encountered in log\n",
      "  variables = ufunc(*ufunc_args, **ufunc_kwargs)\n",
      "C:\\Users\\mltla\\Anaconda3\\lib\\site-packages\\theano\\tensor\\elemwise.py:826: RuntimeWarning: invalid value encountered in multiply\n",
      "  variables = ufunc(*ufunc_args, **ufunc_kwargs)\n",
      "C:\\Users\\mltla\\Anaconda3\\lib\\site-packages\\theano\\tensor\\elemwise.py:826: RuntimeWarning: invalid value encountered in log\n",
      "  variables = ufunc(*ufunc_args, **ufunc_kwargs)\n",
      "Multiprocess sampling (4 chains in 4 jobs)\n",
      "NUTS: [ν_minus_one, group2_std, group1_std, group2_mean, group1_mean]\n"
     ]
    },
    {
     "data": {
      "text/html": [
       "\n",
       "    <div>\n",
       "        <style>\n",
       "            /* Turns off some styling */\n",
       "            progress {\n",
       "                /* gets rid of default border in Firefox and Opera. */\n",
       "                border: none;\n",
       "                /* Needs to be in here for Safari polyfill so background images work as expected. */\n",
       "                background-size: auto;\n",
       "            }\n",
       "            .progress-bar-interrupted, .progress-bar-interrupted::-webkit-progress-bar {\n",
       "                background: #F44336;\n",
       "            }\n",
       "        </style>\n",
       "      <progress value='12000' class='' max='12000' style='width:300px; height:20px; vertical-align: middle;'></progress>\n",
       "      100.00% [12000/12000 02:55<00:00 Sampling 4 chains, 0 divergences]\n",
       "    </div>\n",
       "    "
      ],
      "text/plain": [
       "<IPython.core.display.HTML object>"
      ]
     },
     "metadata": {},
     "output_type": "display_data"
    },
    {
     "name": "stderr",
     "output_type": "stream",
     "text": [
      "Sampling 4 chains for 1_000 tune and 2_000 draw iterations (4_000 + 8_000 draws total) took 191 seconds.\n",
      "C:\\Users\\mltla\\Anaconda3\\lib\\site-packages\\arviz\\data\\io_pymc3.py:100: FutureWarning: Using `from_pymc3` without the model will be deprecated in a future release. Not using the model will return less accurate and less useful results. Make sure you use the model argument or call from_pymc3 within a model context.\n",
      "  FutureWarning,\n"
     ]
    },
    {
     "name": "stdout",
     "output_type": "stream",
     "text": [
      "                      mean     sd  hdi_3%  hdi_97%  mcse_mean  mcse_sd  \\\n",
      "difference of means -0.897  1.244  -3.292    1.468      0.018    0.014   \n",
      "difference of stds   0.989  1.570  -1.509    4.419      0.023    0.018   \n",
      "effect size         -0.501  0.640  -1.685    0.692      0.008    0.006   \n",
      "\n",
      "                     ess_bulk  ess_tail  r_hat  \n",
      "difference of means    4843.0    4219.0    1.0  \n",
      "difference of stds     5620.0    4726.0    1.0  \n",
      "effect size            5938.0    5291.0    1.0  \n",
      "PHQ-Q4\n"
     ]
    },
    {
     "name": "stderr",
     "output_type": "stream",
     "text": [
      "C:\\Users\\mltla\\Anaconda3\\lib\\site-packages\\ipykernel_launcher.py:63: FutureWarning: In v4.0, pm.sample will return an `arviz.InferenceData` object instead of a `MultiTrace` by default. You can pass return_inferencedata=True or return_inferencedata=False to be safe and silence this warning.\n",
      "Auto-assigning NUTS sampler...\n",
      "Initializing NUTS using jitter+adapt_diag...\n",
      "C:\\Users\\mltla\\Anaconda3\\lib\\site-packages\\theano\\tensor\\elemwise.py:826: RuntimeWarning: divide by zero encountered in log\n",
      "  variables = ufunc(*ufunc_args, **ufunc_kwargs)\n",
      "C:\\Users\\mltla\\Anaconda3\\lib\\site-packages\\theano\\tensor\\elemwise.py:826: RuntimeWarning: invalid value encountered in multiply\n",
      "  variables = ufunc(*ufunc_args, **ufunc_kwargs)\n",
      "C:\\Users\\mltla\\Anaconda3\\lib\\site-packages\\theano\\tensor\\elemwise.py:826: RuntimeWarning: invalid value encountered in log\n",
      "  variables = ufunc(*ufunc_args, **ufunc_kwargs)\n",
      "Multiprocess sampling (4 chains in 4 jobs)\n",
      "NUTS: [ν_minus_one, group2_std, group1_std, group2_mean, group1_mean]\n"
     ]
    },
    {
     "data": {
      "text/html": [
       "\n",
       "    <div>\n",
       "        <style>\n",
       "            /* Turns off some styling */\n",
       "            progress {\n",
       "                /* gets rid of default border in Firefox and Opera. */\n",
       "                border: none;\n",
       "                /* Needs to be in here for Safari polyfill so background images work as expected. */\n",
       "                background-size: auto;\n",
       "            }\n",
       "            .progress-bar-interrupted, .progress-bar-interrupted::-webkit-progress-bar {\n",
       "                background: #F44336;\n",
       "            }\n",
       "        </style>\n",
       "      <progress value='12000' class='' max='12000' style='width:300px; height:20px; vertical-align: middle;'></progress>\n",
       "      100.00% [12000/12000 03:32<00:00 Sampling 4 chains, 0 divergences]\n",
       "    </div>\n",
       "    "
      ],
      "text/plain": [
       "<IPython.core.display.HTML object>"
      ]
     },
     "metadata": {},
     "output_type": "display_data"
    },
    {
     "name": "stderr",
     "output_type": "stream",
     "text": [
      "Sampling 4 chains for 1_000 tune and 2_000 draw iterations (4_000 + 8_000 draws total) took 229 seconds.\n",
      "C:\\Users\\mltla\\Anaconda3\\lib\\site-packages\\arviz\\data\\io_pymc3.py:100: FutureWarning: Using `from_pymc3` without the model will be deprecated in a future release. Not using the model will return less accurate and less useful results. Make sure you use the model argument or call from_pymc3 within a model context.\n",
      "  FutureWarning,\n"
     ]
    },
    {
     "name": "stdout",
     "output_type": "stream",
     "text": [
      "                      mean     sd  hdi_3%  hdi_97%  mcse_mean  mcse_sd  \\\n",
      "difference of means -1.790  1.291  -4.284    0.660      0.021    0.015   \n",
      "difference of stds   0.977  1.579  -1.497    4.444      0.024    0.017   \n",
      "effect size         -1.023  0.742  -2.406    0.337      0.011    0.008   \n",
      "\n",
      "                     ess_bulk  ess_tail  r_hat  \n",
      "difference of means    4174.0    3426.0    1.0  \n",
      "difference of stds     4817.0    4892.0    1.0  \n",
      "effect size            4512.0    3835.0    1.0  \n",
      "PHQ-Q5\n"
     ]
    },
    {
     "name": "stderr",
     "output_type": "stream",
     "text": [
      "C:\\Users\\mltla\\Anaconda3\\lib\\site-packages\\ipykernel_launcher.py:63: FutureWarning: In v4.0, pm.sample will return an `arviz.InferenceData` object instead of a `MultiTrace` by default. You can pass return_inferencedata=True or return_inferencedata=False to be safe and silence this warning.\n",
      "Auto-assigning NUTS sampler...\n",
      "Initializing NUTS using jitter+adapt_diag...\n",
      "C:\\Users\\mltla\\Anaconda3\\lib\\site-packages\\theano\\tensor\\elemwise.py:826: RuntimeWarning: divide by zero encountered in log\n",
      "  variables = ufunc(*ufunc_args, **ufunc_kwargs)\n",
      "C:\\Users\\mltla\\Anaconda3\\lib\\site-packages\\theano\\tensor\\elemwise.py:826: RuntimeWarning: invalid value encountered in multiply\n",
      "  variables = ufunc(*ufunc_args, **ufunc_kwargs)\n",
      "C:\\Users\\mltla\\Anaconda3\\lib\\site-packages\\theano\\tensor\\elemwise.py:826: RuntimeWarning: invalid value encountered in log\n",
      "  variables = ufunc(*ufunc_args, **ufunc_kwargs)\n",
      "Multiprocess sampling (4 chains in 4 jobs)\n",
      "NUTS: [ν_minus_one, group2_std, group1_std, group2_mean, group1_mean]\n"
     ]
    },
    {
     "data": {
      "text/html": [
       "\n",
       "    <div>\n",
       "        <style>\n",
       "            /* Turns off some styling */\n",
       "            progress {\n",
       "                /* gets rid of default border in Firefox and Opera. */\n",
       "                border: none;\n",
       "                /* Needs to be in here for Safari polyfill so background images work as expected. */\n",
       "                background-size: auto;\n",
       "            }\n",
       "            .progress-bar-interrupted, .progress-bar-interrupted::-webkit-progress-bar {\n",
       "                background: #F44336;\n",
       "            }\n",
       "        </style>\n",
       "      <progress value='12000' class='' max='12000' style='width:300px; height:20px; vertical-align: middle;'></progress>\n",
       "      100.00% [12000/12000 03:14<00:00 Sampling 4 chains, 0 divergences]\n",
       "    </div>\n",
       "    "
      ],
      "text/plain": [
       "<IPython.core.display.HTML object>"
      ]
     },
     "metadata": {},
     "output_type": "display_data"
    },
    {
     "name": "stderr",
     "output_type": "stream",
     "text": [
      "Sampling 4 chains for 1_000 tune and 2_000 draw iterations (4_000 + 8_000 draws total) took 215 seconds.\n",
      "C:\\Users\\mltla\\Anaconda3\\lib\\site-packages\\arviz\\data\\io_pymc3.py:100: FutureWarning: Using `from_pymc3` without the model will be deprecated in a future release. Not using the model will return less accurate and less useful results. Make sure you use the model argument or call from_pymc3 within a model context.\n",
      "  FutureWarning,\n"
     ]
    },
    {
     "name": "stdout",
     "output_type": "stream",
     "text": [
      "                      mean     sd  hdi_3%  hdi_97%  mcse_mean  mcse_sd  \\\n",
      "difference of means  0.064  1.138  -2.322    2.015      0.016    0.015   \n",
      "difference of stds   0.693  1.483  -1.737    3.876      0.022    0.018   \n",
      "effect size          0.039  0.599  -1.076    1.187      0.008    0.006   \n",
      "\n",
      "                     ess_bulk  ess_tail  r_hat  \n",
      "difference of means    4942.0    4165.0    1.0  \n",
      "difference of stds     4854.0    4885.0    1.0  \n",
      "effect size            6204.0    5928.0    1.0  \n",
      "PHQ-Q6\n"
     ]
    },
    {
     "name": "stderr",
     "output_type": "stream",
     "text": [
      "C:\\Users\\mltla\\Anaconda3\\lib\\site-packages\\ipykernel_launcher.py:63: FutureWarning: In v4.0, pm.sample will return an `arviz.InferenceData` object instead of a `MultiTrace` by default. You can pass return_inferencedata=True or return_inferencedata=False to be safe and silence this warning.\n",
      "Auto-assigning NUTS sampler...\n",
      "Initializing NUTS using jitter+adapt_diag...\n",
      "C:\\Users\\mltla\\Anaconda3\\lib\\site-packages\\theano\\tensor\\elemwise.py:826: RuntimeWarning: divide by zero encountered in log\n",
      "  variables = ufunc(*ufunc_args, **ufunc_kwargs)\n",
      "C:\\Users\\mltla\\Anaconda3\\lib\\site-packages\\theano\\tensor\\elemwise.py:826: RuntimeWarning: invalid value encountered in multiply\n",
      "  variables = ufunc(*ufunc_args, **ufunc_kwargs)\n",
      "C:\\Users\\mltla\\Anaconda3\\lib\\site-packages\\theano\\tensor\\elemwise.py:826: RuntimeWarning: invalid value encountered in log\n",
      "  variables = ufunc(*ufunc_args, **ufunc_kwargs)\n",
      "Multiprocess sampling (4 chains in 4 jobs)\n",
      "NUTS: [ν_minus_one, group2_std, group1_std, group2_mean, group1_mean]\n"
     ]
    },
    {
     "data": {
      "text/html": [
       "\n",
       "    <div>\n",
       "        <style>\n",
       "            /* Turns off some styling */\n",
       "            progress {\n",
       "                /* gets rid of default border in Firefox and Opera. */\n",
       "                border: none;\n",
       "                /* Needs to be in here for Safari polyfill so background images work as expected. */\n",
       "                background-size: auto;\n",
       "            }\n",
       "            .progress-bar-interrupted, .progress-bar-interrupted::-webkit-progress-bar {\n",
       "                background: #F44336;\n",
       "            }\n",
       "        </style>\n",
       "      <progress value='12000' class='' max='12000' style='width:300px; height:20px; vertical-align: middle;'></progress>\n",
       "      100.00% [12000/12000 03:05<00:00 Sampling 4 chains, 0 divergences]\n",
       "    </div>\n",
       "    "
      ],
      "text/plain": [
       "<IPython.core.display.HTML object>"
      ]
     },
     "metadata": {},
     "output_type": "display_data"
    },
    {
     "name": "stderr",
     "output_type": "stream",
     "text": [
      "Sampling 4 chains for 1_000 tune and 2_000 draw iterations (4_000 + 8_000 draws total) took 205 seconds.\n",
      "C:\\Users\\mltla\\Anaconda3\\lib\\site-packages\\arviz\\data\\io_pymc3.py:100: FutureWarning: Using `from_pymc3` without the model will be deprecated in a future release. Not using the model will return less accurate and less useful results. Make sure you use the model argument or call from_pymc3 within a model context.\n",
      "  FutureWarning,\n"
     ]
    },
    {
     "name": "stdout",
     "output_type": "stream",
     "text": [
      "                      mean     sd  hdi_3%  hdi_97%  mcse_mean  mcse_sd  \\\n",
      "difference of means -0.458  0.954  -2.290    1.373      0.013    0.010   \n",
      "difference of stds   0.327  1.276  -1.807    3.036      0.017    0.013   \n",
      "effect size         -0.304  0.581  -1.423    0.761      0.007    0.005   \n",
      "\n",
      "                     ess_bulk  ess_tail  r_hat  \n",
      "difference of means    5491.0    4479.0    1.0  \n",
      "difference of stds     6525.0    5798.0    1.0  \n",
      "effect size            6411.0    5913.0    1.0  \n",
      "PHQ-Q7\n"
     ]
    },
    {
     "name": "stderr",
     "output_type": "stream",
     "text": [
      "C:\\Users\\mltla\\Anaconda3\\lib\\site-packages\\ipykernel_launcher.py:63: FutureWarning: In v4.0, pm.sample will return an `arviz.InferenceData` object instead of a `MultiTrace` by default. You can pass return_inferencedata=True or return_inferencedata=False to be safe and silence this warning.\n",
      "Auto-assigning NUTS sampler...\n",
      "Initializing NUTS using jitter+adapt_diag...\n",
      "C:\\Users\\mltla\\Anaconda3\\lib\\site-packages\\theano\\tensor\\elemwise.py:826: RuntimeWarning: divide by zero encountered in log\n",
      "  variables = ufunc(*ufunc_args, **ufunc_kwargs)\n",
      "C:\\Users\\mltla\\Anaconda3\\lib\\site-packages\\theano\\tensor\\elemwise.py:826: RuntimeWarning: invalid value encountered in multiply\n",
      "  variables = ufunc(*ufunc_args, **ufunc_kwargs)\n",
      "C:\\Users\\mltla\\Anaconda3\\lib\\site-packages\\theano\\tensor\\elemwise.py:826: RuntimeWarning: invalid value encountered in log\n",
      "  variables = ufunc(*ufunc_args, **ufunc_kwargs)\n",
      "Multiprocess sampling (4 chains in 4 jobs)\n",
      "NUTS: [ν_minus_one, group2_std, group1_std, group2_mean, group1_mean]\n"
     ]
    },
    {
     "data": {
      "text/html": [
       "\n",
       "    <div>\n",
       "        <style>\n",
       "            /* Turns off some styling */\n",
       "            progress {\n",
       "                /* gets rid of default border in Firefox and Opera. */\n",
       "                border: none;\n",
       "                /* Needs to be in here for Safari polyfill so background images work as expected. */\n",
       "                background-size: auto;\n",
       "            }\n",
       "            .progress-bar-interrupted, .progress-bar-interrupted::-webkit-progress-bar {\n",
       "                background: #F44336;\n",
       "            }\n",
       "        </style>\n",
       "      <progress value='12000' class='' max='12000' style='width:300px; height:20px; vertical-align: middle;'></progress>\n",
       "      100.00% [12000/12000 03:09<00:00 Sampling 4 chains, 0 divergences]\n",
       "    </div>\n",
       "    "
      ],
      "text/plain": [
       "<IPython.core.display.HTML object>"
      ]
     },
     "metadata": {},
     "output_type": "display_data"
    },
    {
     "name": "stderr",
     "output_type": "stream",
     "text": [
      "Sampling 4 chains for 1_000 tune and 2_000 draw iterations (4_000 + 8_000 draws total) took 207 seconds.\n",
      "C:\\Users\\mltla\\Anaconda3\\lib\\site-packages\\arviz\\data\\io_pymc3.py:100: FutureWarning: Using `from_pymc3` without the model will be deprecated in a future release. Not using the model will return less accurate and less useful results. Make sure you use the model argument or call from_pymc3 within a model context.\n",
      "  FutureWarning,\n"
     ]
    },
    {
     "name": "stdout",
     "output_type": "stream",
     "text": [
      "                      mean     sd  hdi_3%  hdi_97%  mcse_mean  mcse_sd  \\\n",
      "difference of means -0.150  1.002  -2.122    1.625      0.014    0.012   \n",
      "difference of stds   0.231  1.323  -2.144    2.908      0.019    0.015   \n",
      "effect size         -0.099  0.573  -1.213    0.965      0.007    0.006   \n",
      "\n",
      "                     ess_bulk  ess_tail  r_hat  \n",
      "difference of means    5308.0    4449.0    1.0  \n",
      "difference of stds     5778.0    5100.0    1.0  \n",
      "effect size            6461.0    5753.0    1.0  \n",
      "PHQ-Q8\n"
     ]
    },
    {
     "name": "stderr",
     "output_type": "stream",
     "text": [
      "C:\\Users\\mltla\\Anaconda3\\lib\\site-packages\\ipykernel_launcher.py:63: FutureWarning: In v4.0, pm.sample will return an `arviz.InferenceData` object instead of a `MultiTrace` by default. You can pass return_inferencedata=True or return_inferencedata=False to be safe and silence this warning.\n",
      "Auto-assigning NUTS sampler...\n",
      "Initializing NUTS using jitter+adapt_diag...\n",
      "C:\\Users\\mltla\\Anaconda3\\lib\\site-packages\\theano\\tensor\\elemwise.py:826: RuntimeWarning: divide by zero encountered in log\n",
      "  variables = ufunc(*ufunc_args, **ufunc_kwargs)\n",
      "C:\\Users\\mltla\\Anaconda3\\lib\\site-packages\\theano\\tensor\\elemwise.py:826: RuntimeWarning: invalid value encountered in multiply\n",
      "  variables = ufunc(*ufunc_args, **ufunc_kwargs)\n",
      "C:\\Users\\mltla\\Anaconda3\\lib\\site-packages\\theano\\tensor\\elemwise.py:826: RuntimeWarning: invalid value encountered in log\n",
      "  variables = ufunc(*ufunc_args, **ufunc_kwargs)\n",
      "Multiprocess sampling (4 chains in 4 jobs)\n",
      "NUTS: [ν_minus_one, group2_std, group1_std, group2_mean, group1_mean]\n"
     ]
    },
    {
     "data": {
      "text/html": [
       "\n",
       "    <div>\n",
       "        <style>\n",
       "            /* Turns off some styling */\n",
       "            progress {\n",
       "                /* gets rid of default border in Firefox and Opera. */\n",
       "                border: none;\n",
       "                /* Needs to be in here for Safari polyfill so background images work as expected. */\n",
       "                background-size: auto;\n",
       "            }\n",
       "            .progress-bar-interrupted, .progress-bar-interrupted::-webkit-progress-bar {\n",
       "                background: #F44336;\n",
       "            }\n",
       "        </style>\n",
       "      <progress value='12000' class='' max='12000' style='width:300px; height:20px; vertical-align: middle;'></progress>\n",
       "      100.00% [12000/12000 03:17<00:00 Sampling 4 chains, 0 divergences]\n",
       "    </div>\n",
       "    "
      ],
      "text/plain": [
       "<IPython.core.display.HTML object>"
      ]
     },
     "metadata": {},
     "output_type": "display_data"
    },
    {
     "name": "stderr",
     "output_type": "stream",
     "text": [
      "Sampling 4 chains for 1_000 tune and 2_000 draw iterations (4_000 + 8_000 draws total) took 217 seconds.\n",
      "C:\\Users\\mltla\\Anaconda3\\lib\\site-packages\\arviz\\data\\io_pymc3.py:100: FutureWarning: Using `from_pymc3` without the model will be deprecated in a future release. Not using the model will return less accurate and less useful results. Make sure you use the model argument or call from_pymc3 within a model context.\n",
      "  FutureWarning,\n"
     ]
    },
    {
     "name": "stdout",
     "output_type": "stream",
     "text": [
      "                      mean     sd  hdi_3%  hdi_97%  mcse_mean  mcse_sd  \\\n",
      "difference of means  0.527  1.121  -1.632    2.693      0.016    0.013   \n",
      "difference of stds   0.680  1.433  -1.723    3.772      0.020    0.016   \n",
      "effect size          0.313  0.605  -0.801    1.494      0.007    0.006   \n",
      "\n",
      "                     ess_bulk  ess_tail  r_hat  \n",
      "difference of means    5244.0    4583.0    1.0  \n",
      "difference of stds     5668.0    5131.0    1.0  \n",
      "effect size            6648.0    5954.0    1.0  \n",
      "PHQ-Q9\n"
     ]
    },
    {
     "name": "stderr",
     "output_type": "stream",
     "text": [
      "C:\\Users\\mltla\\Anaconda3\\lib\\site-packages\\ipykernel_launcher.py:63: FutureWarning: In v4.0, pm.sample will return an `arviz.InferenceData` object instead of a `MultiTrace` by default. You can pass return_inferencedata=True or return_inferencedata=False to be safe and silence this warning.\n",
      "Auto-assigning NUTS sampler...\n",
      "Initializing NUTS using jitter+adapt_diag...\n",
      "C:\\Users\\mltla\\Anaconda3\\lib\\site-packages\\theano\\tensor\\elemwise.py:826: RuntimeWarning: divide by zero encountered in log\n",
      "  variables = ufunc(*ufunc_args, **ufunc_kwargs)\n",
      "C:\\Users\\mltla\\Anaconda3\\lib\\site-packages\\theano\\tensor\\elemwise.py:826: RuntimeWarning: invalid value encountered in multiply\n",
      "  variables = ufunc(*ufunc_args, **ufunc_kwargs)\n",
      "C:\\Users\\mltla\\Anaconda3\\lib\\site-packages\\theano\\tensor\\elemwise.py:826: RuntimeWarning: invalid value encountered in log\n",
      "  variables = ufunc(*ufunc_args, **ufunc_kwargs)\n",
      "Multiprocess sampling (4 chains in 4 jobs)\n",
      "NUTS: [ν_minus_one, group2_std, group1_std, group2_mean, group1_mean]\n"
     ]
    },
    {
     "data": {
      "text/html": [
       "\n",
       "    <div>\n",
       "        <style>\n",
       "            /* Turns off some styling */\n",
       "            progress {\n",
       "                /* gets rid of default border in Firefox and Opera. */\n",
       "                border: none;\n",
       "                /* Needs to be in here for Safari polyfill so background images work as expected. */\n",
       "                background-size: auto;\n",
       "            }\n",
       "            .progress-bar-interrupted, .progress-bar-interrupted::-webkit-progress-bar {\n",
       "                background: #F44336;\n",
       "            }\n",
       "        </style>\n",
       "      <progress value='12000' class='' max='12000' style='width:300px; height:20px; vertical-align: middle;'></progress>\n",
       "      100.00% [12000/12000 02:54<00:00 Sampling 4 chains, 0 divergences]\n",
       "    </div>\n",
       "    "
      ],
      "text/plain": [
       "<IPython.core.display.HTML object>"
      ]
     },
     "metadata": {},
     "output_type": "display_data"
    },
    {
     "name": "stderr",
     "output_type": "stream",
     "text": [
      "Sampling 4 chains for 1_000 tune and 2_000 draw iterations (4_000 + 8_000 draws total) took 192 seconds.\n",
      "C:\\Users\\mltla\\Anaconda3\\lib\\site-packages\\arviz\\data\\io_pymc3.py:100: FutureWarning: Using `from_pymc3` without the model will be deprecated in a future release. Not using the model will return less accurate and less useful results. Make sure you use the model argument or call from_pymc3 within a model context.\n",
      "  FutureWarning,\n"
     ]
    },
    {
     "name": "stdout",
     "output_type": "stream",
     "text": [
      "                      mean     sd  hdi_3%  hdi_97%  mcse_mean  mcse_sd  \\\n",
      "difference of means  0.386  1.396  -2.292    3.066      0.021    0.017   \n",
      "difference of stds   0.655  1.747  -2.544    4.438      0.027    0.019   \n",
      "effect size          0.197  0.629  -0.956    1.413      0.008    0.006   \n",
      "\n",
      "                     ess_bulk  ess_tail  r_hat  \n",
      "difference of means    4778.0    3924.0    1.0  \n",
      "difference of stds     4454.0    4396.0    1.0  \n",
      "effect size            6244.0    6055.0    1.0  \n",
      "GAD-Q1\n"
     ]
    },
    {
     "name": "stderr",
     "output_type": "stream",
     "text": [
      "C:\\Users\\mltla\\Anaconda3\\lib\\site-packages\\ipykernel_launcher.py:63: FutureWarning: In v4.0, pm.sample will return an `arviz.InferenceData` object instead of a `MultiTrace` by default. You can pass return_inferencedata=True or return_inferencedata=False to be safe and silence this warning.\n",
      "Auto-assigning NUTS sampler...\n",
      "Initializing NUTS using jitter+adapt_diag...\n",
      "C:\\Users\\mltla\\Anaconda3\\lib\\site-packages\\theano\\tensor\\elemwise.py:826: RuntimeWarning: divide by zero encountered in log\n",
      "  variables = ufunc(*ufunc_args, **ufunc_kwargs)\n",
      "C:\\Users\\mltla\\Anaconda3\\lib\\site-packages\\theano\\tensor\\elemwise.py:826: RuntimeWarning: invalid value encountered in multiply\n",
      "  variables = ufunc(*ufunc_args, **ufunc_kwargs)\n",
      "C:\\Users\\mltla\\Anaconda3\\lib\\site-packages\\theano\\tensor\\elemwise.py:826: RuntimeWarning: invalid value encountered in log\n",
      "  variables = ufunc(*ufunc_args, **ufunc_kwargs)\n",
      "Multiprocess sampling (4 chains in 4 jobs)\n",
      "NUTS: [ν_minus_one, group2_std, group1_std, group2_mean, group1_mean]\n"
     ]
    },
    {
     "data": {
      "text/html": [
       "\n",
       "    <div>\n",
       "        <style>\n",
       "            /* Turns off some styling */\n",
       "            progress {\n",
       "                /* gets rid of default border in Firefox and Opera. */\n",
       "                border: none;\n",
       "                /* Needs to be in here for Safari polyfill so background images work as expected. */\n",
       "                background-size: auto;\n",
       "            }\n",
       "            .progress-bar-interrupted, .progress-bar-interrupted::-webkit-progress-bar {\n",
       "                background: #F44336;\n",
       "            }\n",
       "        </style>\n",
       "      <progress value='12000' class='' max='12000' style='width:300px; height:20px; vertical-align: middle;'></progress>\n",
       "      100.00% [12000/12000 02:47<00:00 Sampling 4 chains, 0 divergences]\n",
       "    </div>\n",
       "    "
      ],
      "text/plain": [
       "<IPython.core.display.HTML object>"
      ]
     },
     "metadata": {},
     "output_type": "display_data"
    },
    {
     "name": "stderr",
     "output_type": "stream",
     "text": [
      "Sampling 4 chains for 1_000 tune and 2_000 draw iterations (4_000 + 8_000 draws total) took 184 seconds.\n",
      "C:\\Users\\mltla\\Anaconda3\\lib\\site-packages\\arviz\\data\\io_pymc3.py:100: FutureWarning: Using `from_pymc3` without the model will be deprecated in a future release. Not using the model will return less accurate and less useful results. Make sure you use the model argument or call from_pymc3 within a model context.\n",
      "  FutureWarning,\n"
     ]
    },
    {
     "name": "stdout",
     "output_type": "stream",
     "text": [
      "                      mean     sd  hdi_3%  hdi_97%  mcse_mean  mcse_sd  \\\n",
      "difference of means -0.414  0.802  -2.006    1.005      0.010    0.008   \n",
      "difference of stds   0.138  1.027  -1.703    2.228      0.012    0.009   \n",
      "effect size         -0.292  0.539  -1.323    0.687      0.006    0.005   \n",
      "\n",
      "                     ess_bulk  ess_tail  r_hat  \n",
      "difference of means    6494.0    5156.0    1.0  \n",
      "difference of stds     7244.0    6259.0    1.0  \n",
      "effect size            7180.0    6039.0    1.0  \n",
      "GAD-Q2\n"
     ]
    },
    {
     "name": "stderr",
     "output_type": "stream",
     "text": [
      "C:\\Users\\mltla\\Anaconda3\\lib\\site-packages\\ipykernel_launcher.py:63: FutureWarning: In v4.0, pm.sample will return an `arviz.InferenceData` object instead of a `MultiTrace` by default. You can pass return_inferencedata=True or return_inferencedata=False to be safe and silence this warning.\n",
      "Auto-assigning NUTS sampler...\n",
      "Initializing NUTS using jitter+adapt_diag...\n",
      "C:\\Users\\mltla\\Anaconda3\\lib\\site-packages\\theano\\tensor\\elemwise.py:826: RuntimeWarning: divide by zero encountered in log\n",
      "  variables = ufunc(*ufunc_args, **ufunc_kwargs)\n",
      "C:\\Users\\mltla\\Anaconda3\\lib\\site-packages\\theano\\tensor\\elemwise.py:826: RuntimeWarning: invalid value encountered in multiply\n",
      "  variables = ufunc(*ufunc_args, **ufunc_kwargs)\n",
      "C:\\Users\\mltla\\Anaconda3\\lib\\site-packages\\theano\\tensor\\elemwise.py:826: RuntimeWarning: invalid value encountered in log\n",
      "  variables = ufunc(*ufunc_args, **ufunc_kwargs)\n",
      "Multiprocess sampling (4 chains in 4 jobs)\n",
      "NUTS: [ν_minus_one, group2_std, group1_std, group2_mean, group1_mean]\n"
     ]
    },
    {
     "data": {
      "text/html": [
       "\n",
       "    <div>\n",
       "        <style>\n",
       "            /* Turns off some styling */\n",
       "            progress {\n",
       "                /* gets rid of default border in Firefox and Opera. */\n",
       "                border: none;\n",
       "                /* Needs to be in here for Safari polyfill so background images work as expected. */\n",
       "                background-size: auto;\n",
       "            }\n",
       "            .progress-bar-interrupted, .progress-bar-interrupted::-webkit-progress-bar {\n",
       "                background: #F44336;\n",
       "            }\n",
       "        </style>\n",
       "      <progress value='12000' class='' max='12000' style='width:300px; height:20px; vertical-align: middle;'></progress>\n",
       "      100.00% [12000/12000 02:43<00:00 Sampling 4 chains, 0 divergences]\n",
       "    </div>\n",
       "    "
      ],
      "text/plain": [
       "<IPython.core.display.HTML object>"
      ]
     },
     "metadata": {},
     "output_type": "display_data"
    },
    {
     "name": "stderr",
     "output_type": "stream",
     "text": [
      "Sampling 4 chains for 1_000 tune and 2_000 draw iterations (4_000 + 8_000 draws total) took 178 seconds.\n",
      "C:\\Users\\mltla\\Anaconda3\\lib\\site-packages\\arviz\\data\\io_pymc3.py:100: FutureWarning: Using `from_pymc3` without the model will be deprecated in a future release. Not using the model will return less accurate and less useful results. Make sure you use the model argument or call from_pymc3 within a model context.\n",
      "  FutureWarning,\n"
     ]
    },
    {
     "name": "stdout",
     "output_type": "stream",
     "text": [
      "                      mean     sd  hdi_3%  hdi_97%  mcse_mean  mcse_sd  \\\n",
      "difference of means -0.555  1.115  -2.640    1.527      0.017    0.013   \n",
      "difference of stds  -0.042  1.371  -2.713    2.641      0.020    0.016   \n",
      "effect size         -0.349  0.618  -1.486    0.834      0.008    0.006   \n",
      "\n",
      "                     ess_bulk  ess_tail  r_hat  \n",
      "difference of means    4561.0    3298.0    1.0  \n",
      "difference of stds     5104.0    5364.0    1.0  \n",
      "effect size            5523.0    4440.0    1.0  \n",
      "GAD-Q3\n"
     ]
    },
    {
     "name": "stderr",
     "output_type": "stream",
     "text": [
      "C:\\Users\\mltla\\Anaconda3\\lib\\site-packages\\ipykernel_launcher.py:63: FutureWarning: In v4.0, pm.sample will return an `arviz.InferenceData` object instead of a `MultiTrace` by default. You can pass return_inferencedata=True or return_inferencedata=False to be safe and silence this warning.\n",
      "Auto-assigning NUTS sampler...\n",
      "Initializing NUTS using jitter+adapt_diag...\n",
      "C:\\Users\\mltla\\Anaconda3\\lib\\site-packages\\theano\\tensor\\elemwise.py:826: RuntimeWarning: divide by zero encountered in log\n",
      "  variables = ufunc(*ufunc_args, **ufunc_kwargs)\n",
      "C:\\Users\\mltla\\Anaconda3\\lib\\site-packages\\theano\\tensor\\elemwise.py:826: RuntimeWarning: invalid value encountered in multiply\n",
      "  variables = ufunc(*ufunc_args, **ufunc_kwargs)\n",
      "C:\\Users\\mltla\\Anaconda3\\lib\\site-packages\\theano\\tensor\\elemwise.py:826: RuntimeWarning: invalid value encountered in log\n",
      "  variables = ufunc(*ufunc_args, **ufunc_kwargs)\n",
      "Multiprocess sampling (4 chains in 4 jobs)\n",
      "NUTS: [ν_minus_one, group2_std, group1_std, group2_mean, group1_mean]\n"
     ]
    },
    {
     "data": {
      "text/html": [
       "\n",
       "    <div>\n",
       "        <style>\n",
       "            /* Turns off some styling */\n",
       "            progress {\n",
       "                /* gets rid of default border in Firefox and Opera. */\n",
       "                border: none;\n",
       "                /* Needs to be in here for Safari polyfill so background images work as expected. */\n",
       "                background-size: auto;\n",
       "            }\n",
       "            .progress-bar-interrupted, .progress-bar-interrupted::-webkit-progress-bar {\n",
       "                background: #F44336;\n",
       "            }\n",
       "        </style>\n",
       "      <progress value='12000' class='' max='12000' style='width:300px; height:20px; vertical-align: middle;'></progress>\n",
       "      100.00% [12000/12000 02:54<00:00 Sampling 4 chains, 0 divergences]\n",
       "    </div>\n",
       "    "
      ],
      "text/plain": [
       "<IPython.core.display.HTML object>"
      ]
     },
     "metadata": {},
     "output_type": "display_data"
    },
    {
     "name": "stderr",
     "output_type": "stream",
     "text": [
      "Sampling 4 chains for 1_000 tune and 2_000 draw iterations (4_000 + 8_000 draws total) took 191 seconds.\n",
      "C:\\Users\\mltla\\Anaconda3\\lib\\site-packages\\arviz\\data\\io_pymc3.py:100: FutureWarning: Using `from_pymc3` without the model will be deprecated in a future release. Not using the model will return less accurate and less useful results. Make sure you use the model argument or call from_pymc3 within a model context.\n",
      "  FutureWarning,\n"
     ]
    },
    {
     "name": "stdout",
     "output_type": "stream",
     "text": [
      "                      mean     sd  hdi_3%  hdi_97%  mcse_mean  mcse_sd  \\\n",
      "difference of means -0.364  1.109  -2.486    1.625      0.017    0.014   \n",
      "difference of stds   0.374  1.405  -2.087    3.366      0.020    0.016   \n",
      "effect size         -0.226  0.600  -1.439    0.799      0.008    0.006   \n",
      "\n",
      "                     ess_bulk  ess_tail  r_hat  \n",
      "difference of means    4853.0    3959.0    1.0  \n",
      "difference of stds     5824.0    5396.0    1.0  \n",
      "effect size            6194.0    5414.0    1.0  \n",
      "GAD-Q4\n"
     ]
    },
    {
     "name": "stderr",
     "output_type": "stream",
     "text": [
      "C:\\Users\\mltla\\Anaconda3\\lib\\site-packages\\ipykernel_launcher.py:63: FutureWarning: In v4.0, pm.sample will return an `arviz.InferenceData` object instead of a `MultiTrace` by default. You can pass return_inferencedata=True or return_inferencedata=False to be safe and silence this warning.\n",
      "Auto-assigning NUTS sampler...\n",
      "Initializing NUTS using jitter+adapt_diag...\n",
      "C:\\Users\\mltla\\Anaconda3\\lib\\site-packages\\theano\\tensor\\elemwise.py:826: RuntimeWarning: divide by zero encountered in log\n",
      "  variables = ufunc(*ufunc_args, **ufunc_kwargs)\n",
      "C:\\Users\\mltla\\Anaconda3\\lib\\site-packages\\theano\\tensor\\elemwise.py:826: RuntimeWarning: invalid value encountered in multiply\n",
      "  variables = ufunc(*ufunc_args, **ufunc_kwargs)\n",
      "C:\\Users\\mltla\\Anaconda3\\lib\\site-packages\\theano\\tensor\\elemwise.py:826: RuntimeWarning: invalid value encountered in log\n",
      "  variables = ufunc(*ufunc_args, **ufunc_kwargs)\n",
      "Multiprocess sampling (4 chains in 4 jobs)\n",
      "NUTS: [ν_minus_one, group2_std, group1_std, group2_mean, group1_mean]\n"
     ]
    },
    {
     "data": {
      "text/html": [
       "\n",
       "    <div>\n",
       "        <style>\n",
       "            /* Turns off some styling */\n",
       "            progress {\n",
       "                /* gets rid of default border in Firefox and Opera. */\n",
       "                border: none;\n",
       "                /* Needs to be in here for Safari polyfill so background images work as expected. */\n",
       "                background-size: auto;\n",
       "            }\n",
       "            .progress-bar-interrupted, .progress-bar-interrupted::-webkit-progress-bar {\n",
       "                background: #F44336;\n",
       "            }\n",
       "        </style>\n",
       "      <progress value='12000' class='' max='12000' style='width:300px; height:20px; vertical-align: middle;'></progress>\n",
       "      100.00% [12000/12000 02:54<00:00 Sampling 4 chains, 0 divergences]\n",
       "    </div>\n",
       "    "
      ],
      "text/plain": [
       "<IPython.core.display.HTML object>"
      ]
     },
     "metadata": {},
     "output_type": "display_data"
    },
    {
     "name": "stderr",
     "output_type": "stream",
     "text": [
      "Sampling 4 chains for 1_000 tune and 2_000 draw iterations (4_000 + 8_000 draws total) took 190 seconds.\n",
      "C:\\Users\\mltla\\Anaconda3\\lib\\site-packages\\arviz\\data\\io_pymc3.py:100: FutureWarning: Using `from_pymc3` without the model will be deprecated in a future release. Not using the model will return less accurate and less useful results. Make sure you use the model argument or call from_pymc3 within a model context.\n",
      "  FutureWarning,\n"
     ]
    },
    {
     "name": "stdout",
     "output_type": "stream",
     "text": [
      "                      mean     sd  hdi_3%  hdi_97%  mcse_mean  mcse_sd  \\\n",
      "difference of means -0.165  1.062  -2.129    1.876      0.015    0.013   \n",
      "difference of stds   0.293  1.393  -2.228    3.111      0.021    0.015   \n",
      "effect size         -0.093  0.580  -1.201    0.988      0.007    0.006   \n",
      "\n",
      "                     ess_bulk  ess_tail  r_hat  \n",
      "difference of means    5321.0    4487.0    1.0  \n",
      "difference of stds     5277.0    5319.0    1.0  \n",
      "effect size            6604.0    6339.0    1.0  \n",
      "GAD-Q5\n"
     ]
    },
    {
     "name": "stderr",
     "output_type": "stream",
     "text": [
      "C:\\Users\\mltla\\Anaconda3\\lib\\site-packages\\ipykernel_launcher.py:63: FutureWarning: In v4.0, pm.sample will return an `arviz.InferenceData` object instead of a `MultiTrace` by default. You can pass return_inferencedata=True or return_inferencedata=False to be safe and silence this warning.\n",
      "Auto-assigning NUTS sampler...\n",
      "Initializing NUTS using jitter+adapt_diag...\n",
      "C:\\Users\\mltla\\Anaconda3\\lib\\site-packages\\theano\\tensor\\elemwise.py:826: RuntimeWarning: divide by zero encountered in log\n",
      "  variables = ufunc(*ufunc_args, **ufunc_kwargs)\n",
      "C:\\Users\\mltla\\Anaconda3\\lib\\site-packages\\theano\\tensor\\elemwise.py:826: RuntimeWarning: invalid value encountered in multiply\n",
      "  variables = ufunc(*ufunc_args, **ufunc_kwargs)\n",
      "C:\\Users\\mltla\\Anaconda3\\lib\\site-packages\\theano\\tensor\\elemwise.py:826: RuntimeWarning: invalid value encountered in log\n",
      "  variables = ufunc(*ufunc_args, **ufunc_kwargs)\n",
      "Multiprocess sampling (4 chains in 4 jobs)\n",
      "NUTS: [ν_minus_one, group2_std, group1_std, group2_mean, group1_mean]\n"
     ]
    },
    {
     "data": {
      "text/html": [
       "\n",
       "    <div>\n",
       "        <style>\n",
       "            /* Turns off some styling */\n",
       "            progress {\n",
       "                /* gets rid of default border in Firefox and Opera. */\n",
       "                border: none;\n",
       "                /* Needs to be in here for Safari polyfill so background images work as expected. */\n",
       "                background-size: auto;\n",
       "            }\n",
       "            .progress-bar-interrupted, .progress-bar-interrupted::-webkit-progress-bar {\n",
       "                background: #F44336;\n",
       "            }\n",
       "        </style>\n",
       "      <progress value='12000' class='' max='12000' style='width:300px; height:20px; vertical-align: middle;'></progress>\n",
       "      100.00% [12000/12000 02:59<00:00 Sampling 4 chains, 0 divergences]\n",
       "    </div>\n",
       "    "
      ],
      "text/plain": [
       "<IPython.core.display.HTML object>"
      ]
     },
     "metadata": {},
     "output_type": "display_data"
    },
    {
     "name": "stderr",
     "output_type": "stream",
     "text": [
      "Sampling 4 chains for 1_000 tune and 2_000 draw iterations (4_000 + 8_000 draws total) took 196 seconds.\n",
      "C:\\Users\\mltla\\Anaconda3\\lib\\site-packages\\arviz\\data\\io_pymc3.py:100: FutureWarning: Using `from_pymc3` without the model will be deprecated in a future release. Not using the model will return less accurate and less useful results. Make sure you use the model argument or call from_pymc3 within a model context.\n",
      "  FutureWarning,\n"
     ]
    },
    {
     "name": "stdout",
     "output_type": "stream",
     "text": [
      "                      mean     sd  hdi_3%  hdi_97%  mcse_mean  mcse_sd  \\\n",
      "difference of means -0.050  1.075  -2.126    1.941      0.016    0.013   \n",
      "difference of stds   0.362  1.394  -2.034    3.266      0.019    0.015   \n",
      "effect size         -0.026  0.588  -1.196    1.031      0.007    0.006   \n",
      "\n",
      "                     ess_bulk  ess_tail  r_hat  \n",
      "difference of means    4868.0    4280.0    1.0  \n",
      "difference of stds     5948.0    5367.0    1.0  \n",
      "effect size            6238.0    5693.0    1.0  \n",
      "GAD-Q6\n"
     ]
    },
    {
     "name": "stderr",
     "output_type": "stream",
     "text": [
      "C:\\Users\\mltla\\Anaconda3\\lib\\site-packages\\ipykernel_launcher.py:63: FutureWarning: In v4.0, pm.sample will return an `arviz.InferenceData` object instead of a `MultiTrace` by default. You can pass return_inferencedata=True or return_inferencedata=False to be safe and silence this warning.\n",
      "Auto-assigning NUTS sampler...\n",
      "Initializing NUTS using jitter+adapt_diag...\n",
      "C:\\Users\\mltla\\Anaconda3\\lib\\site-packages\\theano\\tensor\\elemwise.py:826: RuntimeWarning: divide by zero encountered in log\n",
      "  variables = ufunc(*ufunc_args, **ufunc_kwargs)\n",
      "C:\\Users\\mltla\\Anaconda3\\lib\\site-packages\\theano\\tensor\\elemwise.py:826: RuntimeWarning: invalid value encountered in multiply\n",
      "  variables = ufunc(*ufunc_args, **ufunc_kwargs)\n",
      "C:\\Users\\mltla\\Anaconda3\\lib\\site-packages\\theano\\tensor\\elemwise.py:826: RuntimeWarning: invalid value encountered in log\n",
      "  variables = ufunc(*ufunc_args, **ufunc_kwargs)\n",
      "Multiprocess sampling (4 chains in 4 jobs)\n",
      "NUTS: [ν_minus_one, group2_std, group1_std, group2_mean, group1_mean]\n"
     ]
    },
    {
     "data": {
      "text/html": [
       "\n",
       "    <div>\n",
       "        <style>\n",
       "            /* Turns off some styling */\n",
       "            progress {\n",
       "                /* gets rid of default border in Firefox and Opera. */\n",
       "                border: none;\n",
       "                /* Needs to be in here for Safari polyfill so background images work as expected. */\n",
       "                background-size: auto;\n",
       "            }\n",
       "            .progress-bar-interrupted, .progress-bar-interrupted::-webkit-progress-bar {\n",
       "                background: #F44336;\n",
       "            }\n",
       "        </style>\n",
       "      <progress value='12000' class='' max='12000' style='width:300px; height:20px; vertical-align: middle;'></progress>\n",
       "      100.00% [12000/12000 02:55<00:00 Sampling 4 chains, 0 divergences]\n",
       "    </div>\n",
       "    "
      ],
      "text/plain": [
       "<IPython.core.display.HTML object>"
      ]
     },
     "metadata": {},
     "output_type": "display_data"
    },
    {
     "name": "stderr",
     "output_type": "stream",
     "text": [
      "Sampling 4 chains for 1_000 tune and 2_000 draw iterations (4_000 + 8_000 draws total) took 192 seconds.\n",
      "C:\\Users\\mltla\\Anaconda3\\lib\\site-packages\\arviz\\data\\io_pymc3.py:100: FutureWarning: Using `from_pymc3` without the model will be deprecated in a future release. Not using the model will return less accurate and less useful results. Make sure you use the model argument or call from_pymc3 within a model context.\n",
      "  FutureWarning,\n"
     ]
    },
    {
     "name": "stdout",
     "output_type": "stream",
     "text": [
      "                      mean     sd  hdi_3%  hdi_97%  mcse_mean  mcse_sd  \\\n",
      "difference of means -0.905  1.105  -2.895    1.269      0.017    0.012   \n",
      "difference of stds   0.479  1.329  -1.770    3.425      0.019    0.014   \n",
      "effect size         -0.566  0.638  -1.741    0.614      0.009    0.006   \n",
      "\n",
      "                     ess_bulk  ess_tail  r_hat  \n",
      "difference of means    4557.0    3940.0    1.0  \n",
      "difference of stds     5254.0    5458.0    1.0  \n",
      "effect size            5404.0    4866.0    1.0  \n",
      "GAD-Q7\n"
     ]
    },
    {
     "name": "stderr",
     "output_type": "stream",
     "text": [
      "C:\\Users\\mltla\\Anaconda3\\lib\\site-packages\\ipykernel_launcher.py:63: FutureWarning: In v4.0, pm.sample will return an `arviz.InferenceData` object instead of a `MultiTrace` by default. You can pass return_inferencedata=True or return_inferencedata=False to be safe and silence this warning.\n",
      "Auto-assigning NUTS sampler...\n",
      "Initializing NUTS using jitter+adapt_diag...\n",
      "C:\\Users\\mltla\\Anaconda3\\lib\\site-packages\\theano\\tensor\\elemwise.py:826: RuntimeWarning: divide by zero encountered in log\n",
      "  variables = ufunc(*ufunc_args, **ufunc_kwargs)\n",
      "C:\\Users\\mltla\\Anaconda3\\lib\\site-packages\\theano\\tensor\\elemwise.py:826: RuntimeWarning: invalid value encountered in multiply\n",
      "  variables = ufunc(*ufunc_args, **ufunc_kwargs)\n",
      "C:\\Users\\mltla\\Anaconda3\\lib\\site-packages\\theano\\tensor\\elemwise.py:826: RuntimeWarning: invalid value encountered in log\n",
      "  variables = ufunc(*ufunc_args, **ufunc_kwargs)\n",
      "Multiprocess sampling (4 chains in 4 jobs)\n",
      "NUTS: [ν_minus_one, group2_std, group1_std, group2_mean, group1_mean]\n"
     ]
    },
    {
     "data": {
      "text/html": [
       "\n",
       "    <div>\n",
       "        <style>\n",
       "            /* Turns off some styling */\n",
       "            progress {\n",
       "                /* gets rid of default border in Firefox and Opera. */\n",
       "                border: none;\n",
       "                /* Needs to be in here for Safari polyfill so background images work as expected. */\n",
       "                background-size: auto;\n",
       "            }\n",
       "            .progress-bar-interrupted, .progress-bar-interrupted::-webkit-progress-bar {\n",
       "                background: #F44336;\n",
       "            }\n",
       "        </style>\n",
       "      <progress value='12000' class='' max='12000' style='width:300px; height:20px; vertical-align: middle;'></progress>\n",
       "      100.00% [12000/12000 03:51<00:00 Sampling 4 chains, 0 divergences]\n",
       "    </div>\n",
       "    "
      ],
      "text/plain": [
       "<IPython.core.display.HTML object>"
      ]
     },
     "metadata": {},
     "output_type": "display_data"
    },
    {
     "name": "stderr",
     "output_type": "stream",
     "text": [
      "Sampling 4 chains for 1_000 tune and 2_000 draw iterations (4_000 + 8_000 draws total) took 259 seconds.\n",
      "C:\\Users\\mltla\\Anaconda3\\lib\\site-packages\\arviz\\data\\io_pymc3.py:100: FutureWarning: Using `from_pymc3` without the model will be deprecated in a future release. Not using the model will return less accurate and less useful results. Make sure you use the model argument or call from_pymc3 within a model context.\n",
      "  FutureWarning,\n"
     ]
    },
    {
     "name": "stdout",
     "output_type": "stream",
     "text": [
      "                      mean     sd  hdi_3%  hdi_97%  mcse_mean  mcse_sd  \\\n",
      "difference of means  0.317  0.928  -1.436    2.077      0.013    0.010   \n",
      "difference of stds   0.330  1.195  -1.770    2.629      0.016    0.011   \n",
      "effect size          0.211  0.569  -0.832    1.335      0.007    0.006   \n",
      "\n",
      "                     ess_bulk  ess_tail  r_hat  \n",
      "difference of means    5183.0    4848.0    1.0  \n",
      "difference of stds     6979.0    5953.0    1.0  \n",
      "effect size            5988.0    6094.0    1.0  \n"
     ]
    }
   ],
   "source": [
    "Qs = [\"PHQ-Q1\", \"PHQ-Q2\", \"PHQ-Q3\",\"PHQ-Q4\",\"PHQ-Q5\",\"PHQ-Q6\",\"PHQ-Q7\", \"PHQ-Q8\", \"PHQ-Q9\", \"GAD-Q1\", \"GAD-Q2\", \"GAD-Q3\", \"GAD-Q4\", \"GAD-Q5\", \"GAD-Q6\", \"GAD-Q7\"]\n",
    "\n",
    "for Q in Qs:\n",
    "    print(Q)\n",
    "    man = data[(data.Gender == 'Man') & (data.depressionTreatment == 'Yes')]\n",
    "    manST = man[man.prolificVersion == 'stereotype threat']\n",
    "    manC = man[man.prolificVersion == 'control']\n",
    "    woman = data[(data.Gender == 'Woman') & (data.depressionTreatment == 'Yes')]\n",
    "    womanST = woman[woman.prolificVersion == 'stereotype threat']\n",
    "    womanC = woman[woman.prolificVersion == 'control']\n",
    "    other = data[(data.Gender == 'Other') & (data.depressionTreatment == 'Yes')]\n",
    "    otherST = other[other.prolificVersion == 'stereotype threat']\n",
    "    otherC = other[other.prolificVersion == 'control']\n",
    "\n",
    "    manST9 = list(map(int, manST[Q].to_numpy()))\n",
    "    manC9 = list(map(int, manC[Q].to_numpy()))\n",
    "    womanST9 = list(map(int, womanST[Q].to_numpy()))\n",
    "    womanC9 = list(map(int, womanC[Q].to_numpy()))\n",
    "    otherST9 = list(map(int, otherST[Q].to_numpy()))\n",
    "    otherC9 = list(map(int, otherC[Q].to_numpy()))\n",
    "\n",
    "    drug = otherST9\n",
    "    placebo = otherC9\n",
    "\n",
    "    y1 = np.array(drug)\n",
    "    y2 = np.array(placebo)\n",
    "    y = pd.DataFrame(\n",
    "        dict(value=np.r_[y1, y2], group=np.r_[[\"drug\"] * len(drug), [\"placebo\"] * len(placebo)])\n",
    "    )\n",
    "\n",
    "    μ_m = y.value.mean()\n",
    "    μ_s = y.value.std() * 2\n",
    "\n",
    "    with pm.Model() as model:\n",
    "        group1_mean = pm.Normal(\"group1_mean\", mu=μ_m, sd=μ_s)\n",
    "        group2_mean = pm.Normal(\"group2_mean\", mu=μ_m, sd=μ_s)\n",
    "\n",
    "    σ_low = 1\n",
    "    σ_high = 10\n",
    "\n",
    "    with model:\n",
    "        group1_std = pm.Uniform(\"group1_std\", lower=σ_low, upper=σ_high)\n",
    "        group2_std = pm.Uniform(\"group2_std\", lower=σ_low, upper=σ_high)\n",
    "\n",
    "    with model:\n",
    "        ν = pm.Exponential(\"ν_minus_one\", 1 / 29.0) + 1\n",
    "\n",
    "    with model:\n",
    "        λ1 = group1_std ** -2\n",
    "        λ2 = group2_std ** -2\n",
    "\n",
    "        group1 = pm.StudentT(\"drug\", nu=ν, mu=group1_mean, lam=λ1, observed=y1)\n",
    "        group2 = pm.StudentT(\"placebo\", nu=ν, mu=group2_mean, lam=λ2, observed=y2)\n",
    "\n",
    "    with model:\n",
    "        diff_of_means = pm.Deterministic(\"difference of means\", group1_mean - group2_mean)\n",
    "        diff_of_stds = pm.Deterministic(\"difference of stds\", group1_std - group2_std)\n",
    "        effect_size = pm.Deterministic(\n",
    "            \"effect size\", diff_of_means / np.sqrt((group1_std ** 2 + group2_std ** 2) / 2)\n",
    "        )\n",
    "\n",
    "    with model:\n",
    "        trace = pm.sample(2000)\n",
    "\n",
    "    print(pm.summary(trace, var_names=[\"difference of means\", \"difference of stds\", \"effect size\"]))"
   ]
  },
  {
   "cell_type": "code",
   "execution_count": 73,
   "metadata": {
    "scrolled": false
   },
   "outputs": [
    {
     "name": "stdout",
     "output_type": "stream",
     "text": [
      "PHQ-Q1\n",
      "men\n",
      "1.5357142857142858\n",
      "0.9813308331452918\n",
      "1.5277777777777777\n",
      "1.0404622666848913\n",
      "Ttest_indResult(statistic=0.030542361089077052, pvalue=0.9757326165792463)\n",
      "women\n",
      "1.9814814814814814\n",
      "0.9126830763223414\n",
      "1.6938775510204083\n",
      "0.9303078628605291\n",
      "Ttest_indResult(statistic=1.5671184527754078, pvalue=0.12021484547746085)\n",
      "PHQ-Q2\n",
      "men\n",
      "1.3928571428571428\n",
      "0.9761178834797463\n",
      "1.6111111111111112\n",
      "1.0076865081787252\n",
      "Ttest_indResult(statistic=-0.8576745217096253, pvalue=0.3943755849481895)\n",
      "women\n",
      "1.8703703703703705\n",
      "0.9631410091811735\n",
      "1.653061224489796\n",
      "0.9804418081195357\n",
      "Ttest_indResult(statistic=1.1227779015039245, pvalue=0.26419374949874597)\n",
      "PHQ-Q3\n",
      "men\n",
      "1.8571428571428572\n",
      "1.0926470386270253\n",
      "1.9722222222222223\n",
      "1.0404622666848913\n",
      "Ttest_indResult(statistic=-0.4226315528125194, pvalue=0.6740262970583804)\n",
      "women\n",
      "2.2222222222222223\n",
      "0.9938079899999065\n",
      "1.9183673469387754\n",
      "1.0269180102374798\n",
      "Ttest_indResult(statistic=1.510408725302174, pvalue=0.13406149049986107)\n",
      "PHQ-Q4\n",
      "men\n",
      "1.7857142857142858\n",
      "0.9394961741404219\n",
      "1.8611111111111112\n",
      "0.97618241060031\n",
      "Ttest_indResult(statistic=-0.3066833265957028, pvalue=0.7601120475732027)\n",
      "women\n",
      "2.240740740740741\n",
      "0.921656825046615\n",
      "2.142857142857143\n",
      "0.9476070829586857\n",
      "Ttest_indResult(statistic=0.5259429681187997, pvalue=0.6000807663500548)\n",
      "PHQ-Q5\n",
      "men\n",
      "1.4642857142857142\n",
      "0.9813308331452918\n",
      "1.4722222222222223\n",
      "1.0925533577387299\n",
      "Ttest_indResult(statistic=-0.02965607060672709, pvalue=0.9764366043618194)\n",
      "women\n",
      "1.9444444444444444\n",
      "1.0258991840344105\n",
      "1.5714285714285714\n",
      "0.9689042833036097\n",
      "Ttest_indResult(statistic=1.873688323963995, pvalue=0.06386424548389023)\n",
      "PHQ-Q6\n",
      "men\n",
      "1.5\n",
      "1.2100767390069582\n",
      "1.7222222222222223\n",
      "1.0437941237808852\n",
      "Ttest_indResult(statistic=-0.7753115717187495, pvalue=0.4411027584071182)\n",
      "women\n",
      "1.8888888888888888\n",
      "1.0999438818457408\n",
      "1.5510204081632653\n",
      "1.1076952444989316\n",
      "Ttest_indResult(statistic=1.536523942533843, pvalue=0.12753684047199296)\n",
      "PHQ-Q7\n",
      "men\n",
      "1.3928571428571428\n",
      "1.1445300256401476\n",
      "1.6111111111111112\n",
      "1.0872436550433848\n",
      "Ttest_indResult(statistic=-0.7661999758319578, pvalue=0.44646475737859215)\n",
      "women\n",
      "1.8703703703703705\n",
      "1.106316817129174\n",
      "1.5918367346938775\n",
      "1.0085019673963949\n",
      "Ttest_indResult(statistic=1.3177043650650615, pvalue=0.19058377754553493)\n",
      "PHQ-Q8\n",
      "men\n",
      "0.5\n",
      "0.7319250547113999\n",
      "0.75\n",
      "1.0374916331657276\n",
      "Ttest_indResult(statistic=-1.0655820551600284, pvalue=0.29074478281179117)\n",
      "women\n",
      "0.9259259259259259\n",
      "1.1523221619336328\n",
      "0.5102040816326531\n",
      "0.7318539215118819\n",
      "Ttest_indResult(statistic=2.139640055720437, pvalue=0.034792933181962325)\n",
      "PHQ-Q9\n",
      "men\n",
      "0.8571428571428571\n",
      "1.0251928638862373\n",
      "0.9444444444444444\n",
      "1.1041448285750994\n",
      "Ttest_indResult(statistic=-0.3186064454999208, pvalue=0.751095803360257)\n",
      "women\n",
      "0.7592592592592593\n",
      "0.921656825046615\n",
      "0.5102040816326531\n",
      "0.7592275607240112\n",
      "Ttest_indResult(statistic=1.4735969927509036, pvalue=0.14370004531800448)\n",
      "GAD-Q1\n",
      "men\n",
      "1.3571428571428572\n",
      "0.9340497736158586\n",
      "1.8611111111111112\n",
      "1.00423486014029\n",
      "Ttest_indResult(statistic=-2.020798018722566, pvalue=0.04762486399428606)\n",
      "women\n",
      "1.8888888888888888\n",
      "0.9749960430435692\n",
      "1.8571428571428572\n",
      "0.9689042833036098\n",
      "Ttest_indResult(statistic=0.1639062983462948, pvalue=0.8701324602266168)\n",
      "GAD-Q2\n",
      "men\n",
      "1.25\n",
      "1.0220777158038703\n",
      "1.3888888888888888\n",
      "0.9797328938082442\n",
      "Ttest_indResult(statistic=-0.5433433801318739, pvalue=0.5888417044321894)\n",
      "women\n",
      "1.8333333333333333\n",
      "1.1013459778666117\n",
      "1.5510204081632653\n",
      "1.0113887096623566\n",
      "Ttest_indResult(statistic=1.337354903777352, pvalue=0.1841108177811894)\n",
      "GAD-Q3\n",
      "men\n",
      "1.3928571428571428\n",
      "1.0803202473038696\n",
      "1.6666666666666667\n",
      "1.1055415967851334\n",
      "Ttest_indResult(statistic=-0.9771194703031251, pvalue=0.3323073001805339)\n",
      "women\n",
      "2.074074074074074\n",
      "0.9972527420619451\n",
      "1.7551020408163265\n",
      "1.0208162449305958\n",
      "Ttest_indResult(statistic=1.587382694691269, pvalue=0.11555182979676372)\n",
      "GAD-Q4\n",
      "men\n",
      "1.5357142857142858\n",
      "0.9813308331452919\n",
      "1.75\n",
      "0.8936504412303007\n",
      "Ttest_indResult(statistic=-0.8971107469580841, pvalue=0.37313020868550073)\n",
      "women\n",
      "2.0185185185185186\n",
      "1.0090468685796503\n",
      "1.8979591836734695\n",
      "0.9947802128125666\n",
      "Ttest_indResult(statistic=0.6037093920510814, pvalue=0.5473903891442269)\n",
      "GAD-Q5\n",
      "men\n",
      "1.0\n",
      "0.9636241116594315\n",
      "1.0833333333333333\n",
      "1.0374916331657278\n",
      "Ttest_indResult(statistic=-0.3236197301304875, pvalue=0.747315054585967)\n",
      "women\n",
      "1.3518518518518519\n",
      "1.1887965811632617\n",
      "0.9795918367346939\n",
      "0.9145043470370644\n",
      "Ttest_indResult(statistic=1.7508330407258539, pvalue=0.08301090689811748)\n",
      "GAD-Q6\n",
      "men\n",
      "1.3214285714285714\n",
      "0.8474150369789052\n",
      "1.6388888888888888\n",
      "1.00423486014029\n",
      "Ttest_indResult(statistic=-1.3208002212809227, pvalue=0.19142251151628703)\n",
      "women\n",
      "1.9074074074074074\n",
      "0.9863610359693168\n",
      "1.6122448979591837\n",
      "0.9436431038119912\n",
      "Ttest_indResult(statistic=1.5331303469915532, pvalue=0.12837025421752726)\n",
      "GAD-Q7\n",
      "men\n",
      "1.0714285714285714\n",
      "1.1627728997214077\n",
      "1.1388888888888888\n",
      "1.0581109419300505\n",
      "Ttest_indResult(statistic=-0.2384430851131989, pvalue=0.8123237963101095)\n",
      "women\n",
      "1.5\n",
      "1.1344765475923408\n",
      "1.3673469387755102\n",
      "1.0039488878570484\n",
      "Ttest_indResult(statistic=0.619706009677481, pvalue=0.5368469085996137)\n"
     ]
    }
   ],
   "source": [
    "Qs = [\"PHQ-Q1\", \"PHQ-Q2\", \"PHQ-Q3\",\"PHQ-Q4\",\"PHQ-Q5\",\"PHQ-Q6\",\"PHQ-Q7\", \"PHQ-Q8\", \"PHQ-Q9\", \"GAD-Q1\", \"GAD-Q2\", \"GAD-Q3\", \"GAD-Q4\", \"GAD-Q5\", \"GAD-Q6\", \"GAD-Q7\"]\n",
    "\n",
    "for Q in Qs:\n",
    "    print(Q)\n",
    "    man = data[(data.Gender == 'Man') & (data.depressionTreatment == 'Yes')]\n",
    "    manST = man[man.prolificVersion == 'stereotype threat']\n",
    "    manC = man[man.prolificVersion == 'control']\n",
    "    woman = data[(data.Gender == 'Woman') & (data.depressionTreatment == 'Yes')]\n",
    "    womanST = woman[woman.prolificVersion == 'stereotype threat']\n",
    "    womanC = woman[woman.prolificVersion == 'control']\n",
    "    other = data[(data.Gender == 'Other') & (data.depressionTreatment == 'Yes')]\n",
    "    otherST = other[other.prolificVersion == 'stereotype threat']\n",
    "    otherC = other[other.prolificVersion == 'control']\n",
    "\n",
    "    manST9 = list(map(int, manST[Q].to_numpy()))\n",
    "    manC9 = list(map(int, manC[Q].to_numpy()))\n",
    "    womanST9 = list(map(int, womanST[Q].to_numpy()))\n",
    "    womanC9 = list(map(int, womanC[Q].to_numpy()))\n",
    "    otherST9 = list(map(int, otherST[Q].to_numpy()))\n",
    "    otherC9 = list(map(int, otherC[Q].to_numpy()))\n",
    "    \n",
    "    print(\"men\")\n",
    "    print(sum(manST9)/len(manST9))\n",
    "    print(np.std(manST9))\n",
    "    print(sum(manC9)/len(manC9))\n",
    "    print(np.std(manC9))\n",
    "    print(scipy.stats.ttest_ind(manST9, manC9))\n",
    "    print(\"women\")\n",
    "    print(sum(womanST9)/len(womanST9))\n",
    "    print(np.std(womanST9))\n",
    "    print(sum(womanC9)/len(womanC9))\n",
    "    print(np.std(womanC9))\n",
    "    print(scipy.stats.ttest_ind(womanST9, womanC9))"
   ]
  },
  {
   "cell_type": "code",
   "execution_count": 8,
   "metadata": {
    "scrolled": false
   },
   "outputs": [
    {
     "name": "stdout",
     "output_type": "stream",
     "text": [
      "PHQ-Q1\n",
      "other\n",
      "1.75\n",
      "0.82915619758885\n",
      "2.4\n",
      "0.8\n",
      "Ttest_indResult(statistic=-1.050987708490776, pvalue=0.3281873405879201)\n",
      "PHQ-Q2\n",
      "other\n",
      "2.5\n",
      "0.5\n",
      "2.4\n",
      "0.4898979485566356\n",
      "Ttest_indResult(statistic=0.2659080117391554, pvalue=0.7979716952348509)\n",
      "PHQ-Q3\n",
      "other\n",
      "1.75\n",
      "1.299038105676658\n",
      "2.8\n",
      "0.39999999999999997\n",
      "Ttest_indResult(statistic=-1.5071573172061192, pvalue=0.1754994493585012)\n",
      "PHQ-Q4\n",
      "other\n",
      "1.0\n",
      "1.224744871391589\n",
      "3.0\n",
      "0.0\n",
      "Ttest_indResult(statistic=-3.220305943597653, pvalue=0.014647192423754736)\n",
      "PHQ-Q5\n",
      "other\n",
      "1.5\n",
      "1.118033988749895\n",
      "1.4\n",
      "0.4898979485566356\n",
      "Ttest_indResult(statistic=0.15839698777049727, pvalue=0.8786167677584013)\n",
      "PHQ-Q6\n",
      "other\n",
      "2.0\n",
      "0.7071067811865476\n",
      "2.6\n",
      "0.4898979485566356\n",
      "Ttest_indResult(statistic=-1.3228756555322954, pvalue=0.22745281805976303)\n",
      "PHQ-Q7\n",
      "other\n",
      "2.0\n",
      "0.7071067811865476\n",
      "2.2\n",
      "0.7483314773547882\n",
      "Ttest_indResult(statistic=-0.3600411499115481, pvalue=0.7294343109018044)\n",
      "PHQ-Q8\n",
      "other\n",
      "1.25\n",
      "1.0897247358851685\n",
      "0.6\n",
      "0.48989794855663565\n",
      "Ttest_indResult(statistic=1.0509877084907762, pvalue=0.3281873405879201)\n",
      "PHQ-Q9\n",
      "other\n",
      "1.25\n",
      "1.299038105676658\n",
      "0.8\n",
      "0.9797958971132713\n",
      "Ttest_indResult(statistic=0.5222329678670935, pvalue=0.6176221403339701)\n",
      "GAD-Q1\n",
      "other\n",
      "2.0\n",
      "0.0\n",
      "2.6\n",
      "0.4898979485566356\n",
      "Ttest_indResult(statistic=-2.160246899469287, pvalue=0.06758329382336989)\n",
      "GAD-Q2\n",
      "other\n",
      "1.5\n",
      "0.5\n",
      "2.2\n",
      "0.9797958971132712\n",
      "Ttest_indResult(statistic=-1.146375263694541, pvalue=0.2893113640688796)\n",
      "GAD-Q3\n",
      "other\n",
      "1.75\n",
      "0.82915619758885\n",
      "2.2\n",
      "0.7483314773547882\n",
      "Ttest_indResult(statistic=-0.7533708035008844, pvalue=0.475797238518024)\n",
      "GAD-Q4\n",
      "other\n",
      "2.25\n",
      "0.82915619758885\n",
      "2.4\n",
      "0.8\n",
      "Ttest_indResult(statistic=-0.2425356250363328, pvalue=0.8153180714600265)\n",
      "GAD-Q5\n",
      "other\n",
      "1.75\n",
      "0.82915619758885\n",
      "1.8\n",
      "0.7483314773547883\n",
      "Ttest_indResult(statistic=-0.08370786705565385, pvalue=0.9356322688440224)\n",
      "GAD-Q6\n",
      "other\n",
      "1.5\n",
      "0.8660254037844386\n",
      "2.6\n",
      "0.4898979485566356\n",
      "Ttest_indResult(statistic=-2.116950987028628, pvalue=0.07204514060222243)\n",
      "GAD-Q7\n",
      "other\n",
      "2.0\n",
      "0.7071067811865476\n",
      "1.6\n",
      "0.4898979485566356\n",
      "Ttest_indResult(statistic=0.8819171036881966, pvalue=0.40708382206558924)\n"
     ]
    }
   ],
   "source": [
    "Qs = [\"PHQ-Q1\", \"PHQ-Q2\", \"PHQ-Q3\",\"PHQ-Q4\",\"PHQ-Q5\",\"PHQ-Q6\",\"PHQ-Q7\", \"PHQ-Q8\", \"PHQ-Q9\", \"GAD-Q1\", \"GAD-Q2\", \"GAD-Q3\", \"GAD-Q4\", \"GAD-Q5\", \"GAD-Q6\", \"GAD-Q7\"]\n",
    "\n",
    "for Q in Qs:\n",
    "    print(Q)\n",
    "    man = data[(data.Gender == 'Man') & (data.depressionTreatment == 'Yes')]\n",
    "    manST = man[man.prolificVersion == 'stereotype threat']\n",
    "    manC = man[man.prolificVersion == 'control']\n",
    "    woman = data[(data.Gender == 'Woman') & (data.depressionTreatment == 'Yes')]\n",
    "    womanST = woman[woman.prolificVersion == 'stereotype threat']\n",
    "    womanC = woman[woman.prolificVersion == 'control']\n",
    "    other = data[(data.Gender == 'Other') & (data.depressionTreatment == 'Yes')]\n",
    "    otherST = other[other.prolificVersion == 'stereotype threat']\n",
    "    otherC = other[other.prolificVersion == 'control']\n",
    "\n",
    "    manST9 = list(map(int, manST[Q].to_numpy()))\n",
    "    manC9 = list(map(int, manC[Q].to_numpy()))\n",
    "    womanST9 = list(map(int, womanST[Q].to_numpy()))\n",
    "    womanC9 = list(map(int, womanC[Q].to_numpy()))\n",
    "    otherST9 = list(map(int, otherST[Q].to_numpy()))\n",
    "    otherC9 = list(map(int, otherC[Q].to_numpy()))\n",
    "    \n",
    "    print(\"other\")\n",
    "    print(sum(otherST9)/len(otherST9))\n",
    "    print(np.std(otherST9))\n",
    "    print(sum(otherC9)/len(otherC9))\n",
    "    print(np.std(otherC9))\n",
    "    print(scipy.stats.ttest_ind(otherST9, otherC9))"
   ]
  },
  {
   "cell_type": "code",
   "execution_count": null,
   "metadata": {},
   "outputs": [],
   "source": []
  }
 ],
 "metadata": {
  "kernelspec": {
   "display_name": "Python 3",
   "language": "python",
   "name": "python3"
  },
  "language_info": {
   "codemirror_mode": {
    "name": "ipython",
    "version": 3
   },
   "file_extension": ".py",
   "mimetype": "text/x-python",
   "name": "python",
   "nbconvert_exporter": "python",
   "pygments_lexer": "ipython3",
   "version": "3.7.6"
  }
 },
 "nbformat": 4,
 "nbformat_minor": 4
}
